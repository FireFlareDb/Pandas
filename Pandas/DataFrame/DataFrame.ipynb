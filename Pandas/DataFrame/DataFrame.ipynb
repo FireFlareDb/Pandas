{
 "cells": [
  {
   "cell_type": "markdown",
   "metadata": {},
   "source": [
    "***Reference*** https://www.tutorialspoint.com/python_pandas/python_pandas_dataframe.htm"
   ]
  },
  {
   "cell_type": "code",
   "execution_count": 33,
   "metadata": {},
   "outputs": [
    {
     "name": "stdout",
     "output_type": "stream",
     "text": [
      "Empty DataFrame\n",
      "Columns: []\n",
      "Index: []\n"
     ]
    }
   ],
   "source": [
    "import pandas as pd\n",
    "dfr = pd.DataFrame()\n",
    "print(dfr)"
   ]
  },
  {
   "cell_type": "code",
   "execution_count": null,
   "metadata": {},
   "outputs": [],
   "source": [
    "import pandas as pd\n",
    "list = [1,2,3,4,5]\n",
    "s = pd.DataFrame(list)\n",
    "print(s)"
   ]
  },
  {
   "cell_type": "code",
   "execution_count": null,
   "metadata": {},
   "outputs": [],
   "source": [
    "import pandas as pd\n",
    "data = [['Ben',10],['Troy',23],['Dell',34]]\n",
    "df = pd.DataFrame(data,columns=['Name','Num'])\n",
    "print(df)"
   ]
  },
  {
   "cell_type": "code",
   "execution_count": null,
   "metadata": {},
   "outputs": [],
   "source": [
    "import pandas as pd\n",
    "data = [['Alex',10],['Boy',20],['Girl',30]]\n",
    "df = pd.DataFrame(data,columns = ['Name','Age'],dtype=float)\n",
    "print(df)"
   ]
  },
  {
   "cell_type": "code",
   "execution_count": null,
   "metadata": {},
   "outputs": [],
   "source": [
    "import pandas as pd\n",
    "data = {'Name': ['Ahf','Ryf','Gjt'], 'Age': [1,2,3]}\n",
    "df = pd.DataFrame(data)\n",
    "df"
   ]
  },
  {
   "cell_type": "code",
   "execution_count": null,
   "metadata": {},
   "outputs": [],
   "source": [
    "import pandas as pd\n",
    "data = {'Name':['Art','Fht','Trh','Por','Qte'], 'Age':[9,8,7,6,5]}\n",
    "df = pd.DataFrame(data, index=['Rank 1','Rank 2','Rank 3','Rank 4','Rank 5',])\n",
    "print(df)"
   ]
  },
  {
   "cell_type": "code",
   "execution_count": null,
   "metadata": {},
   "outputs": [],
   "source": [
    "import pandas as pd\n",
    "data = [{'A':1,'B':2}, {'A':2,'B':5,'C':7}]\n",
    "df = pd.DataFrame(data)\n",
    "print(df)"
   ]
  },
  {
   "cell_type": "code",
   "execution_count": 7,
   "metadata": {},
   "outputs": [
    {
     "name": "stdout",
     "output_type": "stream",
     "text": [
      "        A  B    C\n",
      "First   2  3  NaN\n",
      "second  4  5  8.0\n"
     ]
    }
   ],
   "source": [
    "import pandas as pd\n",
    "data = [{'A':2,'B':3}, {'A':4,'B':5,'C':8}]\n",
    "df = pd.DataFrame(data, index=['First','second'])\n",
    "print(df)"
   ]
  },
  {
   "cell_type": "code",
   "execution_count": 22,
   "metadata": {},
   "outputs": [
    {
     "name": "stdout",
     "output_type": "stream",
     "text": [
      "        A  B\n",
      "First   1  2\n",
      "Second  2  3 \n",
      "\n",
      "        A    C\n",
      "First   1  NaN\n",
      "Second  2  5.0\n"
     ]
    }
   ],
   "source": [
    "import pandas as pd\n",
    "data = [{'A':1,'B':2}, {'A':2,'B':3,'C':5}]\n",
    "\n",
    "df1 = pd.DataFrame(data, index=['First','Second'], columns=['A','B'])\n",
    "print(df1,\"\\n\")\n",
    "\n",
    "df2 = pd.DataFrame(data, index=['First','Second'], columns=['A','C'])\n",
    "print(df2)"
   ]
  },
  {
   "cell_type": "code",
   "execution_count": 27,
   "metadata": {},
   "outputs": [
    {
     "name": "stdout",
     "output_type": "stream",
     "text": [
      "  Name  Age\n",
      "1  Agy   56\n",
      "2  Fht   43\n",
      "3  Rye   12\n",
      "4  Tye   54\n",
      "5  NaN    4\n"
     ]
    }
   ],
   "source": [
    "import pandas as pd\n",
    "data = {'Name': pd.Series(['Agy','Fht','Rye','Tye'], index=[1,2,3,4]),\n",
    "                         'Age': pd.Series([56,43,12,54,4], index=[1,2,3,4,5])}\n",
    "df = pd.DataFrame(data)\n",
    "print(df)"
   ]
  },
  {
   "cell_type": "code",
   "execution_count": 45,
   "metadata": {},
   "outputs": [
    {
     "name": "stdout",
     "output_type": "stream",
     "text": [
      "a    1.0\n",
      "b    2.0\n",
      "c    3.0\n",
      "d    4.0\n",
      "e    NaN\n",
      "Name: one, dtype: float64\n"
     ]
    }
   ],
   "source": [
    "import pandas as pd\n",
    "data = {'one': pd.Series([1,2,3,4], index=['a','b','c','d']),\n",
    "       'two': pd.Series([1,2,3,4,5], index=['a','b','c','d','e'])}\n",
    "df = pd.DataFrame(data)\n",
    "print(df['one'])"
   ]
  },
  {
   "cell_type": "code",
   "execution_count": 53,
   "metadata": {},
   "outputs": [
    {
     "name": "stdout",
     "output_type": "stream",
     "text": [
      "   one  two  three\n",
      "a  1.0    1      1\n",
      "b  2.0    2      2\n",
      "c  3.0    3      3\n",
      "d  4.0    4      4\n",
      "e  NaN    5      6 \n",
      "\n"
     ]
    },
    {
     "data": {
      "text/html": [
       "<div>\n",
       "<style scoped>\n",
       "    .dataframe tbody tr th:only-of-type {\n",
       "        vertical-align: middle;\n",
       "    }\n",
       "\n",
       "    .dataframe tbody tr th {\n",
       "        vertical-align: top;\n",
       "    }\n",
       "\n",
       "    .dataframe thead th {\n",
       "        text-align: right;\n",
       "    }\n",
       "</style>\n",
       "<table border=\"1\" class=\"dataframe\">\n",
       "  <thead>\n",
       "    <tr style=\"text-align: right;\">\n",
       "      <th></th>\n",
       "      <th>one</th>\n",
       "      <th>two</th>\n",
       "      <th>three</th>\n",
       "      <th>four</th>\n",
       "    </tr>\n",
       "  </thead>\n",
       "  <tbody>\n",
       "    <tr>\n",
       "      <th>a</th>\n",
       "      <td>1.0</td>\n",
       "      <td>1</td>\n",
       "      <td>1</td>\n",
       "      <td>2.0</td>\n",
       "    </tr>\n",
       "    <tr>\n",
       "      <th>b</th>\n",
       "      <td>2.0</td>\n",
       "      <td>2</td>\n",
       "      <td>2</td>\n",
       "      <td>4.0</td>\n",
       "    </tr>\n",
       "    <tr>\n",
       "      <th>c</th>\n",
       "      <td>3.0</td>\n",
       "      <td>3</td>\n",
       "      <td>3</td>\n",
       "      <td>6.0</td>\n",
       "    </tr>\n",
       "    <tr>\n",
       "      <th>d</th>\n",
       "      <td>4.0</td>\n",
       "      <td>4</td>\n",
       "      <td>4</td>\n",
       "      <td>8.0</td>\n",
       "    </tr>\n",
       "    <tr>\n",
       "      <th>e</th>\n",
       "      <td>NaN</td>\n",
       "      <td>5</td>\n",
       "      <td>6</td>\n",
       "      <td>NaN</td>\n",
       "    </tr>\n",
       "  </tbody>\n",
       "</table>\n",
       "</div>"
      ],
      "text/plain": [
       "   one  two  three  four\n",
       "a  1.0    1      1   2.0\n",
       "b  2.0    2      2   4.0\n",
       "c  3.0    3      3   6.0\n",
       "d  4.0    4      4   8.0\n",
       "e  NaN    5      6   NaN"
      ]
     },
     "execution_count": 53,
     "metadata": {},
     "output_type": "execute_result"
    }
   ],
   "source": [
    "import pandas as pd\n",
    "data = {'one': pd.Series([1,2,3,4], index=['a','b','c','d']),\n",
    "       'two': pd.Series([1,2,3,4,5], index=['a','b','c','d','e'])}\n",
    "df = pd.DataFrame(data)\n",
    "\n",
    "# Adding New Column\n",
    "df['three'] = pd.Series([1,2,3,4,6], index=['a','b','c','d','e'])\n",
    "print(df,\"\\n\")\n",
    "\n",
    "# Adding New Column WIth Existing Columns\n",
    "df['four'] = df['one']+df['two']\n",
    "df"
   ]
  },
  {
   "cell_type": "code",
   "execution_count": 58,
   "metadata": {},
   "outputs": [
    {
     "name": "stdout",
     "output_type": "stream",
     "text": [
      "   one  two  three\n",
      "0  1.0    1    1.0\n",
      "1  2.0    2    2.0\n",
      "2  3.0    3    3.0\n",
      "3  4.0    4    4.0\n",
      "4  5.0    5    5.0\n",
      "5  NaN    6    NaN \n",
      "\n",
      "   two  three\n",
      "0    1    1.0\n",
      "1    2    2.0\n",
      "2    3    3.0\n",
      "3    4    4.0\n",
      "4    5    5.0\n",
      "5    6    NaN \n",
      "\n",
      "   three\n",
      "0    1.0\n",
      "1    2.0\n",
      "2    3.0\n",
      "3    4.0\n",
      "4    5.0\n",
      "5    NaN \n",
      "\n"
     ]
    }
   ],
   "source": [
    "import pandas as pd\n",
    "data = {'one': pd.Series([1,2,3,4,5]),\n",
    "       'two': pd.Series([1,2,3,4,5,6]),\n",
    "       'three': pd.Series([1,2,3,4,5])}\n",
    "df = pd.DataFrame(data)\n",
    "print(df,\"\\n\")\n",
    "\n",
    "# using del function\n",
    "del df['one']\n",
    "print(df,\"\\n\")\n",
    "\n",
    "# using pop function\n",
    "df.pop(\"two\")\n",
    "print(df,\"\\n\")"
   ]
  },
  {
   "cell_type": "code",
   "execution_count": 13,
   "metadata": {},
   "outputs": [
    {
     "data": {
      "text/plain": [
       "one    2\n",
       "two    2\n",
       "Name: b, dtype: int64"
      ]
     },
     "execution_count": 13,
     "metadata": {},
     "output_type": "execute_result"
    }
   ],
   "source": [
    "import pandas as pd\n",
    "data = {'one': pd.Series([1,2,3,4,5], index=['a','b','c','d','e']),\n",
    "       'two': pd.Series([1,2,3,4,5], index=['a','b','c','d','e'])}\n",
    "df = pd.DataFrame(data)\n",
    "df.loc['b']"
   ]
  },
  {
   "cell_type": "code",
   "execution_count": 49,
   "metadata": {},
   "outputs": [
    {
     "data": {
      "text/plain": [
       "one    3\n",
       "two    3\n",
       "Name: c, dtype: int64"
      ]
     },
     "execution_count": 49,
     "metadata": {},
     "output_type": "execute_result"
    }
   ],
   "source": [
    "import pandas as pd\n",
    "data = {'one': pd.Series([1,2,3,4,5], index=['a','b','c','d','e']),\n",
    "       'two': pd.Series([1,2,3,4,5], index=['a','b','c','d','e'])}\n",
    "df = pd.DataFrame(data)\n",
    "df.iloc[2]"
   ]
  },
  {
   "cell_type": "code",
   "execution_count": 29,
   "metadata": {},
   "outputs": [
    {
     "data": {
      "text/html": [
       "<div>\n",
       "<style scoped>\n",
       "    .dataframe tbody tr th:only-of-type {\n",
       "        vertical-align: middle;\n",
       "    }\n",
       "\n",
       "    .dataframe tbody tr th {\n",
       "        vertical-align: top;\n",
       "    }\n",
       "\n",
       "    .dataframe thead th {\n",
       "        text-align: right;\n",
       "    }\n",
       "</style>\n",
       "<table border=\"1\" class=\"dataframe\">\n",
       "  <thead>\n",
       "    <tr style=\"text-align: right;\">\n",
       "      <th></th>\n",
       "      <th>one</th>\n",
       "      <th>two</th>\n",
       "    </tr>\n",
       "  </thead>\n",
       "  <tbody>\n",
       "    <tr>\n",
       "      <th>c</th>\n",
       "      <td>3.0</td>\n",
       "      <td>3</td>\n",
       "    </tr>\n",
       "    <tr>\n",
       "      <th>d</th>\n",
       "      <td>4.0</td>\n",
       "      <td>4</td>\n",
       "    </tr>\n",
       "  </tbody>\n",
       "</table>\n",
       "</div>"
      ],
      "text/plain": [
       "   one  two\n",
       "c  3.0    3\n",
       "d  4.0    4"
      ]
     },
     "execution_count": 29,
     "metadata": {},
     "output_type": "execute_result"
    }
   ],
   "source": [
    "import pandas as pd\n",
    "data = {'one': pd.Series([1,2,3,4], index=['a','b','c','d']),\n",
    "       'two': pd.Series([1,2,3,4,5], index=['a','b','c','d','e'])}\n",
    "df = pd.DataFrame(data)\n",
    "df[2:4]"
   ]
  },
  {
   "cell_type": "code",
   "execution_count": 39,
   "metadata": {},
   "outputs": [
    {
     "name": "stdout",
     "output_type": "stream",
     "text": [
      "   a  b\n",
      "1  1  2\n",
      "2  3  4\n",
      "3  5  6\n",
      "4  7  8\n"
     ]
    }
   ],
   "source": [
    "import pandas as pd\n",
    "df = pd.DataFrame([[1, 2], [3, 4]], columns = ['a','b'], index=[1,2])\n",
    "df2 = pd.DataFrame([[5, 6], [7, 8]], columns = ['a','b'], index=[3,4])\n",
    "\n",
    "df = df.append(df2)\n",
    "print(df)"
   ]
  },
  {
   "cell_type": "code",
   "execution_count": 46,
   "metadata": {},
   "outputs": [
    {
     "name": "stdout",
     "output_type": "stream",
     "text": [
      "   a  b\n",
      "0  1  2\n",
      "1  3  4\n",
      "0  5  6\n",
      "1  7  8 \n",
      "\n",
      "Drop Row With Label 0\n",
      "\n",
      "   a  b\n",
      "1  3  4\n",
      "1  7  8\n"
     ]
    }
   ],
   "source": [
    "import pandas as pd\n",
    "\n",
    "df = pd.DataFrame([[1, 2], [3, 4]], columns = ['a','b'])\n",
    "df2 = pd.DataFrame([[5, 6], [7, 8]], columns = ['a','b'])\n",
    "\n",
    "df = df.append(df2)\n",
    "print(df,\"\\n\")\n",
    "\n",
    "print(\"Drop Row With Label 0\\n\")         # If Indexs Are Same Then Duplicates Will Also Be Droped\n",
    "df = df.drop(0)\n",
    "print(df)"
   ]
  },
  {
   "cell_type": "markdown",
   "metadata": {},
   "source": []
  },
  {
   "cell_type": "markdown",
   "metadata": {},
   "source": [
    "***DataFrame From Book***"
   ]
  },
  {
   "cell_type": "markdown",
   "metadata": {},
   "source": [
    "*Creating DataFrame From List*"
   ]
  },
  {
   "cell_type": "code",
   "execution_count": 1,
   "metadata": {},
   "outputs": [
    {
     "data": {
      "text/html": [
       "<div>\n",
       "<style scoped>\n",
       "    .dataframe tbody tr th:only-of-type {\n",
       "        vertical-align: middle;\n",
       "    }\n",
       "\n",
       "    .dataframe tbody tr th {\n",
       "        vertical-align: top;\n",
       "    }\n",
       "\n",
       "    .dataframe thead th {\n",
       "        text-align: right;\n",
       "    }\n",
       "</style>\n",
       "<table border=\"1\" class=\"dataframe\">\n",
       "  <thead>\n",
       "    <tr style=\"text-align: right;\">\n",
       "      <th></th>\n",
       "      <th>0</th>\n",
       "    </tr>\n",
       "  </thead>\n",
       "  <tbody>\n",
       "    <tr>\n",
       "      <th>0</th>\n",
       "      <td>1</td>\n",
       "    </tr>\n",
       "    <tr>\n",
       "      <th>1</th>\n",
       "      <td>23</td>\n",
       "    </tr>\n",
       "    <tr>\n",
       "      <th>2</th>\n",
       "      <td>4</td>\n",
       "    </tr>\n",
       "    <tr>\n",
       "      <th>3</th>\n",
       "      <td>5</td>\n",
       "    </tr>\n",
       "  </tbody>\n",
       "</table>\n",
       "</div>"
      ],
      "text/plain": [
       "    0\n",
       "0   1\n",
       "1  23\n",
       "2   4\n",
       "3   5"
      ]
     },
     "execution_count": 1,
     "metadata": {},
     "output_type": "execute_result"
    }
   ],
   "source": [
    "import pandas as pd\n",
    "list = [1,23,4,5]\n",
    "df = pd.DataFrame(list)\n",
    "df"
   ]
  },
  {
   "cell_type": "code",
   "execution_count": 3,
   "metadata": {},
   "outputs": [
    {
     "data": {
      "text/html": [
       "<div>\n",
       "<style scoped>\n",
       "    .dataframe tbody tr th:only-of-type {\n",
       "        vertical-align: middle;\n",
       "    }\n",
       "\n",
       "    .dataframe tbody tr th {\n",
       "        vertical-align: top;\n",
       "    }\n",
       "\n",
       "    .dataframe thead th {\n",
       "        text-align: right;\n",
       "    }\n",
       "</style>\n",
       "<table border=\"1\" class=\"dataframe\">\n",
       "  <thead>\n",
       "    <tr style=\"text-align: right;\">\n",
       "      <th></th>\n",
       "      <th>Name</th>\n",
       "      <th>Age</th>\n",
       "    </tr>\n",
       "  </thead>\n",
       "  <tbody>\n",
       "    <tr>\n",
       "      <th>0</th>\n",
       "      <td>Atd</td>\n",
       "      <td>20</td>\n",
       "    </tr>\n",
       "    <tr>\n",
       "      <th>1</th>\n",
       "      <td>Dgt</td>\n",
       "      <td>12</td>\n",
       "    </tr>\n",
       "    <tr>\n",
       "      <th>2</th>\n",
       "      <td>Fht</td>\n",
       "      <td>76</td>\n",
       "    </tr>\n",
       "  </tbody>\n",
       "</table>\n",
       "</div>"
      ],
      "text/plain": [
       "  Name  Age\n",
       "0  Atd   20\n",
       "1  Dgt   12\n",
       "2  Fht   76"
      ]
     },
     "execution_count": 3,
     "metadata": {},
     "output_type": "execute_result"
    }
   ],
   "source": [
    "import pandas as pd\n",
    "data = [['Atd',20],['Dgt',12],['Fht',76]]\n",
    "df = pd.DataFrame(data,columns=['Name','Age'])\n",
    "df"
   ]
  },
  {
   "cell_type": "markdown",
   "metadata": {},
   "source": [
    "*Creating DataFrame From Series*"
   ]
  },
  {
   "cell_type": "code",
   "execution_count": 8,
   "metadata": {},
   "outputs": [
    {
     "data": {
      "text/html": [
       "<div>\n",
       "<style scoped>\n",
       "    .dataframe tbody tr th:only-of-type {\n",
       "        vertical-align: middle;\n",
       "    }\n",
       "\n",
       "    .dataframe tbody tr th {\n",
       "        vertical-align: top;\n",
       "    }\n",
       "\n",
       "    .dataframe thead th {\n",
       "        text-align: right;\n",
       "    }\n",
       "</style>\n",
       "<table border=\"1\" class=\"dataframe\">\n",
       "  <thead>\n",
       "    <tr style=\"text-align: right;\">\n",
       "      <th></th>\n",
       "      <th>Marks</th>\n",
       "      <th>Age</th>\n",
       "    </tr>\n",
       "  </thead>\n",
       "  <tbody>\n",
       "    <tr>\n",
       "      <th>Vij</th>\n",
       "      <td>89</td>\n",
       "      <td>12</td>\n",
       "    </tr>\n",
       "    <tr>\n",
       "      <th>Fht</th>\n",
       "      <td>100</td>\n",
       "      <td>13</td>\n",
       "    </tr>\n",
       "    <tr>\n",
       "      <th>Seyt</th>\n",
       "      <td>99</td>\n",
       "      <td>11</td>\n",
       "    </tr>\n",
       "  </tbody>\n",
       "</table>\n",
       "</div>"
      ],
      "text/plain": [
       "      Marks  Age\n",
       "Vij      89   12\n",
       "Fht     100   13\n",
       "Seyt     99   11"
      ]
     },
     "execution_count": 8,
     "metadata": {},
     "output_type": "execute_result"
    }
   ],
   "source": [
    "import pandas as pd\n",
    "student_mark = pd.Series({'Vij':89, 'Fht':100, 'Seyt':99})\n",
    "student_age = pd.Series({'Vij':12, 'Fht':13, 'Seyt':11})\n",
    "df = pd.DataFrame({'Marks':student_mark, 'Age':student_age})\n",
    "df"
   ]
  },
  {
   "cell_type": "code",
   "execution_count": 12,
   "metadata": {},
   "outputs": [
    {
     "name": "stdout",
     "output_type": "stream",
     "text": [
      "      Marks  Age\n",
      "Vij      89   12\n",
      "Fht     100   13\n",
      "Seyt     99   11\n",
      "      Marks  Age\n",
      "Vij      89   12\n",
      "Seyt     99   11\n",
      "Fht     100   13\n",
      "      Marks  Age\n",
      "Fht     100   13\n",
      "Vij      89   12\n",
      "Seyt     99   11\n"
     ]
    }
   ],
   "source": [
    "import pandas as pd\n",
    "student_mark = pd.Series({'Vij':89, 'Fht':100, 'Seyt':99})\n",
    "student_age = pd.Series({'Vij':12, 'Fht':13, 'Seyt':11})\n",
    "df = pd.DataFrame({'Marks':student_mark, 'Age':student_age})\n",
    "print(df)\n",
    "\n",
    "print(df.sort_values(by=['Marks']))\n",
    "print(df.sort_values(by=['Age'], ascending=False))"
   ]
  },
  {
   "cell_type": "markdown",
   "metadata": {},
   "source": [
    "*Creating DataFrame From Dictionary {Dictionary Of Series}*"
   ]
  },
  {
   "cell_type": "code",
   "execution_count": 20,
   "metadata": {},
   "outputs": [
    {
     "data": {
      "text/html": [
       "<div>\n",
       "<style scoped>\n",
       "    .dataframe tbody tr th:only-of-type {\n",
       "        vertical-align: middle;\n",
       "    }\n",
       "\n",
       "    .dataframe tbody tr th {\n",
       "        vertical-align: top;\n",
       "    }\n",
       "\n",
       "    .dataframe thead th {\n",
       "        text-align: right;\n",
       "    }\n",
       "</style>\n",
       "<table border=\"1\" class=\"dataframe\">\n",
       "  <thead>\n",
       "    <tr style=\"text-align: right;\">\n",
       "      <th></th>\n",
       "      <th>Name</th>\n",
       "      <th>English</th>\n",
       "      <th>Accounts</th>\n",
       "      <th>Maths</th>\n",
       "    </tr>\n",
       "  </thead>\n",
       "  <tbody>\n",
       "    <tr>\n",
       "      <th>0</th>\n",
       "      <td>Adt</td>\n",
       "      <td>93</td>\n",
       "      <td>98</td>\n",
       "      <td>99</td>\n",
       "    </tr>\n",
       "    <tr>\n",
       "      <th>1</th>\n",
       "      <td>Ftr</td>\n",
       "      <td>96</td>\n",
       "      <td>78</td>\n",
       "      <td>89</td>\n",
       "    </tr>\n",
       "    <tr>\n",
       "      <th>2</th>\n",
       "      <td>Der</td>\n",
       "      <td>93</td>\n",
       "      <td>98</td>\n",
       "      <td>87</td>\n",
       "    </tr>\n",
       "    <tr>\n",
       "      <th>3</th>\n",
       "      <td>Ytu</td>\n",
       "      <td>95</td>\n",
       "      <td>79</td>\n",
       "      <td>89</td>\n",
       "    </tr>\n",
       "    <tr>\n",
       "      <th>4</th>\n",
       "      <td>Iou</td>\n",
       "      <td>89</td>\n",
       "      <td>87</td>\n",
       "      <td>100</td>\n",
       "    </tr>\n",
       "  </tbody>\n",
       "</table>\n",
       "</div>"
      ],
      "text/plain": [
       "  Name  English  Accounts  Maths\n",
       "0  Adt       93        98     99\n",
       "1  Ftr       96        78     89\n",
       "2  Der       93        98     87\n",
       "3  Ytu       95        79     89\n",
       "4  Iou       89        87    100"
      ]
     },
     "execution_count": 20,
     "metadata": {},
     "output_type": "execute_result"
    }
   ],
   "source": [
    "import pandas as pd\n",
    "import numpy as np\n",
    "data = {'Name':pd.Series(['Adt','Ftr','Der','Ytu','Iou']),'English':pd.Series(np.random.randint(low=87,high=100,size=(5))),'Accounts':pd.Series([98,78,98,79,87]),\n",
    "       'Maths':pd.Series([99,89,87,89,100])}\n",
    "df = pd.DataFrame(data)\n",
    "df"
   ]
  },
  {
   "cell_type": "code",
   "execution_count": 21,
   "metadata": {},
   "outputs": [
    {
     "data": {
      "text/html": [
       "<div>\n",
       "<style scoped>\n",
       "    .dataframe tbody tr th:only-of-type {\n",
       "        vertical-align: middle;\n",
       "    }\n",
       "\n",
       "    .dataframe tbody tr th {\n",
       "        vertical-align: top;\n",
       "    }\n",
       "\n",
       "    .dataframe thead th {\n",
       "        text-align: right;\n",
       "    }\n",
       "</style>\n",
       "<table border=\"1\" class=\"dataframe\">\n",
       "  <thead>\n",
       "    <tr style=\"text-align: right;\">\n",
       "      <th></th>\n",
       "      <th>Asr</th>\n",
       "      <th>Gtr</th>\n",
       "      <th>Ryr</th>\n",
       "      <th>Ert</th>\n",
       "      <th>Rew</th>\n",
       "      <th>Htg</th>\n",
       "      <th>Ght</th>\n",
       "      <th>Fht</th>\n",
       "      <th>Tye</th>\n",
       "      <th>Age</th>\n",
       "      <th>Gbv</th>\n",
       "    </tr>\n",
       "  </thead>\n",
       "  <tbody>\n",
       "    <tr>\n",
       "      <th>0</th>\n",
       "      <td>98.0</td>\n",
       "      <td>87.0</td>\n",
       "      <td>99.0</td>\n",
       "      <td>90.0</td>\n",
       "      <td>100.0</td>\n",
       "      <td>NaN</td>\n",
       "      <td>NaN</td>\n",
       "      <td>NaN</td>\n",
       "      <td>NaN</td>\n",
       "      <td>NaN</td>\n",
       "      <td>NaN</td>\n",
       "    </tr>\n",
       "    <tr>\n",
       "      <th>1</th>\n",
       "      <td>NaN</td>\n",
       "      <td>NaN</td>\n",
       "      <td>NaN</td>\n",
       "      <td>76.0</td>\n",
       "      <td>NaN</td>\n",
       "      <td>87.0</td>\n",
       "      <td>54.0</td>\n",
       "      <td>NaN</td>\n",
       "      <td>NaN</td>\n",
       "      <td>NaN</td>\n",
       "      <td>NaN</td>\n",
       "    </tr>\n",
       "    <tr>\n",
       "      <th>2</th>\n",
       "      <td>NaN</td>\n",
       "      <td>NaN</td>\n",
       "      <td>NaN</td>\n",
       "      <td>NaN</td>\n",
       "      <td>NaN</td>\n",
       "      <td>NaN</td>\n",
       "      <td>NaN</td>\n",
       "      <td>98.0</td>\n",
       "      <td>85.0</td>\n",
       "      <td>90.0</td>\n",
       "      <td>96.0</td>\n",
       "    </tr>\n",
       "  </tbody>\n",
       "</table>\n",
       "</div>"
      ],
      "text/plain": [
       "    Asr   Gtr   Ryr   Ert    Rew   Htg   Ght   Fht   Tye   Age   Gbv\n",
       "0  98.0  87.0  99.0  90.0  100.0   NaN   NaN   NaN   NaN   NaN   NaN\n",
       "1   NaN   NaN   NaN  76.0    NaN  87.0  54.0   NaN   NaN   NaN   NaN\n",
       "2   NaN   NaN   NaN   NaN    NaN   NaN   NaN  98.0  85.0  90.0  96.0"
      ]
     },
     "execution_count": 21,
     "metadata": {},
     "output_type": "execute_result"
    }
   ],
   "source": [
    "import pandas as pd\n",
    "data = [{'Asr':98,'Gtr':87,'Ryr':99,'Ert':90,'Rew':100},\n",
    "       {'Ert':76,'Htg':87,'Ght':54},\n",
    "       {'Fht':98,'Tye':85,'Age':90,'Gbv':96}]\n",
    "df = pd.DataFrame(data)\n",
    "df"
   ]
  },
  {
   "cell_type": "markdown",
   "metadata": {},
   "source": [
    "*Selecting Accessing From DataFrame*"
   ]
  },
  {
   "cell_type": "code",
   "execution_count": 23,
   "metadata": {},
   "outputs": [
    {
     "data": {
      "text/html": [
       "<div>\n",
       "<style scoped>\n",
       "    .dataframe tbody tr th:only-of-type {\n",
       "        vertical-align: middle;\n",
       "    }\n",
       "\n",
       "    .dataframe tbody tr th {\n",
       "        vertical-align: top;\n",
       "    }\n",
       "\n",
       "    .dataframe thead th {\n",
       "        text-align: right;\n",
       "    }\n",
       "</style>\n",
       "<table border=\"1\" class=\"dataframe\">\n",
       "  <thead>\n",
       "    <tr style=\"text-align: right;\">\n",
       "      <th></th>\n",
       "      <th>Name</th>\n",
       "      <th>English</th>\n",
       "      <th>Accounts</th>\n",
       "      <th>Maths</th>\n",
       "    </tr>\n",
       "  </thead>\n",
       "  <tbody>\n",
       "    <tr>\n",
       "      <th>0</th>\n",
       "      <td>Adt</td>\n",
       "      <td>92</td>\n",
       "      <td>98</td>\n",
       "      <td>99</td>\n",
       "    </tr>\n",
       "    <tr>\n",
       "      <th>1</th>\n",
       "      <td>Ftr</td>\n",
       "      <td>96</td>\n",
       "      <td>78</td>\n",
       "      <td>89</td>\n",
       "    </tr>\n",
       "    <tr>\n",
       "      <th>2</th>\n",
       "      <td>Der</td>\n",
       "      <td>94</td>\n",
       "      <td>98</td>\n",
       "      <td>87</td>\n",
       "    </tr>\n",
       "  </tbody>\n",
       "</table>\n",
       "</div>"
      ],
      "text/plain": [
       "  Name  English  Accounts  Maths\n",
       "0  Adt       92        98     99\n",
       "1  Ftr       96        78     89\n",
       "2  Der       94        98     87"
      ]
     },
     "execution_count": 23,
     "metadata": {},
     "output_type": "execute_result"
    }
   ],
   "source": [
    "import pandas as pd\n",
    "import numpy as np\n",
    "data = {'Name':pd.Series(['Adt','Ftr','Der','Ytu','Iou']),'English':pd.Series(np.random.randint(low=87,high=100,size=(5))),'Accounts':pd.Series([98,78,98,79,87]),\n",
    "       'Maths':pd.Series([99,89,87,89,100])}\n",
    "df = pd.DataFrame(data)\n",
    "df[0:3]"
   ]
  },
  {
   "cell_type": "code",
   "execution_count": 10,
   "metadata": {},
   "outputs": [
    {
     "name": "stdout",
     "output_type": "stream",
     "text": [
      "      English  Accounts  Maths\n",
      "Name                          \n",
      "Adt        98        98     99\n",
      "Ftr        90        78     89\n",
      "Der        96        98     87\n",
      "Ytu        93        79     89\n",
      "Iou        93        87    100\n",
      "\n",
      "   Name  English  Accounts  Maths\n",
      "0  Adt       98        98     99\n",
      "1  Ftr       90        78     89\n",
      "2  Der       96        98     87\n",
      "3  Ytu       93        79     89\n",
      "4  Iou       93        87    100\n"
     ]
    }
   ],
   "source": [
    "import pandas as pd\n",
    "import numpy as np\n",
    "data = {'Name':pd.Series(['Adt','Ftr','Der','Ytu','Iou']),'English':pd.Series(np.random.randint(low=87,high=100,size=(5))),\n",
    "        'Accounts':pd.Series([98,78,98,79,87]),\n",
    "       'Maths':pd.Series([99,89,87,89,100])}\n",
    "df = pd.DataFrame(data)\n",
    "df.set_index('Name',inplace=True)                 # Changing The Index\n",
    "print(df)\n",
    "df.reset_index(inplace=True)                      # Reseting The DataFrame\n",
    "print(\"\\n\",df)"
   ]
  },
  {
   "cell_type": "code",
   "execution_count": 40,
   "metadata": {},
   "outputs": [
    {
     "data": {
      "text/html": [
       "<div>\n",
       "<style scoped>\n",
       "    .dataframe tbody tr th:only-of-type {\n",
       "        vertical-align: middle;\n",
       "    }\n",
       "\n",
       "    .dataframe tbody tr th {\n",
       "        vertical-align: top;\n",
       "    }\n",
       "\n",
       "    .dataframe thead th {\n",
       "        text-align: right;\n",
       "    }\n",
       "</style>\n",
       "<table border=\"1\" class=\"dataframe\">\n",
       "  <thead>\n",
       "    <tr style=\"text-align: right;\">\n",
       "      <th></th>\n",
       "      <th>Age</th>\n",
       "    </tr>\n",
       "  </thead>\n",
       "  <tbody>\n",
       "    <tr>\n",
       "      <th>0</th>\n",
       "      <td>1</td>\n",
       "    </tr>\n",
       "    <tr>\n",
       "      <th>1</th>\n",
       "      <td>2</td>\n",
       "    </tr>\n",
       "    <tr>\n",
       "      <th>2</th>\n",
       "      <td>3</td>\n",
       "    </tr>\n",
       "    <tr>\n",
       "      <th>3</th>\n",
       "      <td>4</td>\n",
       "    </tr>\n",
       "    <tr>\n",
       "      <th>4</th>\n",
       "      <td>5</td>\n",
       "    </tr>\n",
       "  </tbody>\n",
       "</table>\n",
       "</div>"
      ],
      "text/plain": [
       "   Age\n",
       "0    1\n",
       "1    2\n",
       "2    3\n",
       "3    4\n",
       "4    5"
      ]
     },
     "execution_count": 40,
     "metadata": {},
     "output_type": "execute_result"
    }
   ],
   "source": [
    "import pandas as pd\n",
    "a = [1,2,3,4,5]\n",
    "df = pd.DataFrame(a)\n",
    "df.columns=['Age']\n",
    "df"
   ]
  },
  {
   "cell_type": "markdown",
   "metadata": {},
   "source": [
    "*Adding Column To A DataFrame*"
   ]
  },
  {
   "cell_type": "code",
   "execution_count": 59,
   "metadata": {},
   "outputs": [
    {
     "name": "stdout",
     "output_type": "stream",
     "text": [
      "   Age\n",
      "0   56\n",
      "1   78\n",
      "2   53\n",
      "3   34\n",
      "4   56 \n",
      "\n",
      "   Age  Age2  Age3  Age4\n",
      "0   56    45    93   194\n",
      "1   78    45    91   214\n",
      "2   53    45    94   192\n",
      "3   34    45    87   166\n",
      "4   56    45    90   191\n"
     ]
    }
   ],
   "source": [
    "import pandas as pd\n",
    "import numpy as np\n",
    "a = [56,78,53,34,56]\n",
    "df = pd.DataFrame(a, columns=['Age'])\n",
    "print(df,\"\\n\")\n",
    "\n",
    "df['Age2'] = 45\n",
    "df['Age3'] = pd.Series(np.random.randint(low=87,high=100,size=(5)))\n",
    "df['Age4'] = df['Age']+df['Age2']+df['Age3']\n",
    "print(df)"
   ]
  },
  {
   "cell_type": "code",
   "execution_count": 76,
   "metadata": {},
   "outputs": [
    {
     "name": "stdout",
     "output_type": "stream",
     "text": [
      "  Name  English  Accounts  Maths\n",
      "0  Adt       97        98     99\n",
      "1  Ftr       97        78     89\n",
      "2  Der       89        98     87\n",
      "3  Ytu       90        79     89\n",
      "4  Iou       95        87    100\n",
      "  Name  Maths\n",
      "0  Adt     99\n",
      "1  Ftr     89\n",
      "2  Der     87\n",
      "3  Ytu     89\n",
      "4  Iou    100\n",
      "  Name  English  Accounts  Maths\n",
      "0  Adt       97        98     99\n",
      "1  Ftr       97        78     89\n",
      "2  Der       89        98     87\n",
      "3  Ytu       90        79     89\n",
      "4  Iou       95        87    100\n"
     ]
    }
   ],
   "source": [
    "import pandas as pd\n",
    "data = {'Name':pd.Series(['Adt','Ftr','Der','Ytu','Iou']),'English':pd.Series(np.random.randint(low=87,high=100,size=(5))),\n",
    "        'Accounts':pd.Series([98,78,98,79,87]),\n",
    "       'Maths':pd.Series([99,89,87,89,100])}\n",
    "df = pd.DataFrame(data)\n",
    "print(df)\n",
    "print(df.iloc[:,[0,3]])                       #[row, column]\n",
    "print(df.iloc[:,0:4])"
   ]
  },
  {
   "cell_type": "markdown",
   "metadata": {},
   "source": [
    "*Deleting A Colmun From A DataFrame*"
   ]
  },
  {
   "cell_type": "code",
   "execution_count": 82,
   "metadata": {},
   "outputs": [
    {
     "name": "stdout",
     "output_type": "stream",
     "text": [
      "  Name  English  Accounts  Maths\n",
      "0  Adt       99        98     99\n",
      "1  Ftr       96        78     89\n",
      "2  Der       90        98     87\n",
      "3  Ytu       99        79     89\n",
      "4  Iou       91        87    100 \n",
      "\n"
     ]
    },
    {
     "data": {
      "text/html": [
       "<div>\n",
       "<style scoped>\n",
       "    .dataframe tbody tr th:only-of-type {\n",
       "        vertical-align: middle;\n",
       "    }\n",
       "\n",
       "    .dataframe tbody tr th {\n",
       "        vertical-align: top;\n",
       "    }\n",
       "\n",
       "    .dataframe thead th {\n",
       "        text-align: right;\n",
       "    }\n",
       "</style>\n",
       "<table border=\"1\" class=\"dataframe\">\n",
       "  <thead>\n",
       "    <tr style=\"text-align: right;\">\n",
       "      <th></th>\n",
       "      <th>Name</th>\n",
       "      <th>Accounts</th>\n",
       "    </tr>\n",
       "  </thead>\n",
       "  <tbody>\n",
       "    <tr>\n",
       "      <th>0</th>\n",
       "      <td>Adt</td>\n",
       "      <td>98</td>\n",
       "    </tr>\n",
       "    <tr>\n",
       "      <th>1</th>\n",
       "      <td>Ftr</td>\n",
       "      <td>78</td>\n",
       "    </tr>\n",
       "    <tr>\n",
       "      <th>2</th>\n",
       "      <td>Der</td>\n",
       "      <td>98</td>\n",
       "    </tr>\n",
       "    <tr>\n",
       "      <th>3</th>\n",
       "      <td>Ytu</td>\n",
       "      <td>79</td>\n",
       "    </tr>\n",
       "    <tr>\n",
       "      <th>4</th>\n",
       "      <td>Iou</td>\n",
       "      <td>87</td>\n",
       "    </tr>\n",
       "  </tbody>\n",
       "</table>\n",
       "</div>"
      ],
      "text/plain": [
       "  Name  Accounts\n",
       "0  Adt        98\n",
       "1  Ftr        78\n",
       "2  Der        98\n",
       "3  Ytu        79\n",
       "4  Iou        87"
      ]
     },
     "execution_count": 82,
     "metadata": {},
     "output_type": "execute_result"
    }
   ],
   "source": [
    "import pandas as pd\n",
    "data = {'Name':pd.Series(['Adt','Ftr','Der','Ytu','Iou']),'English':pd.Series(np.random.randint(low=87,high=100,size=(5))),\n",
    "        'Accounts':pd.Series([98,78,98,79,87]),\n",
    "       'Maths':pd.Series([99,89,87,89,100])}\n",
    "df = pd.DataFrame(data)\n",
    "print(df,'\\n')\n",
    "df.pop('Maths')          # First Method\n",
    "del df['English']        # Second Method\n",
    "df"
   ]
  },
  {
   "cell_type": "markdown",
   "metadata": {},
   "source": [
    "***Binary Operations***"
   ]
  },
  {
   "cell_type": "code",
   "execution_count": 93,
   "metadata": {},
   "outputs": [
    {
     "name": "stdout",
     "output_type": "stream",
     "text": [
      "Subtraction\n",
      "   English  Maths\n",
      "0        0     -1\n",
      "1        0      3\n",
      "2        2     -3\n",
      "3       -2      3\n",
      "4        1      1\n",
      "\n",
      "rsub\n",
      "   English  Maths\n",
      "0        0      1\n",
      "1        0     -3\n",
      "2       -2      3\n",
      "3        2     -3\n",
      "4       -1     -1\n",
      "Addition\n",
      "   English  Maths\n",
      "0        8     15\n",
      "1       10     13\n",
      "2       10     13\n",
      "3       10     13\n",
      "4       11      9\n",
      "radd\n",
      "   English  Maths\n",
      "0        8     15\n",
      "1       10     13\n",
      "2       10     13\n",
      "3       10     13\n",
      "4       11      9\n",
      "Multiplication\n",
      "   English  Maths\n",
      "0       16     56\n",
      "1       25     40\n",
      "2       24     40\n",
      "3       24     40\n",
      "4       30     20\n",
      "Division\n",
      "    English  Maths\n",
      "0  1.000000  0.875\n",
      "1  1.000000  1.600\n",
      "2  1.500000  0.625\n",
      "3  0.666667  1.600\n",
      "4  1.200000  1.250\n"
     ]
    }
   ],
   "source": [
    "import pandas as pd \n",
    "test1 = {'English':[4,5,6,4,6], 'Maths':[7,8,5,8,5]}\n",
    "test2 = {'English':[4,5,4,6,5], 'Maths':[8,5,8,5,4]}\n",
    "df = pd.DataFrame(test1)\n",
    "df2 = pd.DataFrame(test2)\n",
    "print(\"Subtraction\")\n",
    "print(df.sub(df2))\n",
    "print(\"\\nrsub\")\n",
    "print(df.rsub(df2))\n",
    "\n",
    "print(\"Addition\")\n",
    "print(df.add(df2))\n",
    "print(\"radd\")\n",
    "print(df.radd(df2))\n",
    "\n",
    "print(\"Multiplication\")\n",
    "print(df.mul(df2))\n",
    "\n",
    "print(\"Division\")\n",
    "print(df.div(df2))"
   ]
  },
  {
   "cell_type": "markdown",
   "metadata": {},
   "source": [
    "***Missing Data And Filling Values***"
   ]
  },
  {
   "cell_type": "code",
   "execution_count": 99,
   "metadata": {},
   "outputs": [
    {
     "data": {
      "text/html": [
       "<div>\n",
       "<style scoped>\n",
       "    .dataframe tbody tr th:only-of-type {\n",
       "        vertical-align: middle;\n",
       "    }\n",
       "\n",
       "    .dataframe tbody tr th {\n",
       "        vertical-align: top;\n",
       "    }\n",
       "\n",
       "    .dataframe thead th {\n",
       "        text-align: right;\n",
       "    }\n",
       "</style>\n",
       "<table border=\"1\" class=\"dataframe\">\n",
       "  <thead>\n",
       "    <tr style=\"text-align: right;\">\n",
       "      <th></th>\n",
       "      <th>0</th>\n",
       "      <th>1</th>\n",
       "      <th>2</th>\n",
       "      <th>3</th>\n",
       "      <th>4</th>\n",
       "      <th>5</th>\n",
       "      <th>6</th>\n",
       "    </tr>\n",
       "  </thead>\n",
       "  <tbody>\n",
       "    <tr>\n",
       "      <th>0</th>\n",
       "      <td>2</td>\n",
       "      <td>3.0</td>\n",
       "      <td>4.0</td>\n",
       "      <td>5.0</td>\n",
       "      <td>0.0</td>\n",
       "      <td>0.0</td>\n",
       "      <td>0.0</td>\n",
       "    </tr>\n",
       "    <tr>\n",
       "      <th>1</th>\n",
       "      <td>6</td>\n",
       "      <td>0.0</td>\n",
       "      <td>0.0</td>\n",
       "      <td>0.0</td>\n",
       "      <td>0.0</td>\n",
       "      <td>0.0</td>\n",
       "      <td>0.0</td>\n",
       "    </tr>\n",
       "    <tr>\n",
       "      <th>2</th>\n",
       "      <td>6</td>\n",
       "      <td>4.0</td>\n",
       "      <td>5.0</td>\n",
       "      <td>0.0</td>\n",
       "      <td>0.0</td>\n",
       "      <td>0.0</td>\n",
       "      <td>0.0</td>\n",
       "    </tr>\n",
       "    <tr>\n",
       "      <th>3</th>\n",
       "      <td>6</td>\n",
       "      <td>7.0</td>\n",
       "      <td>9.0</td>\n",
       "      <td>4.0</td>\n",
       "      <td>2.0</td>\n",
       "      <td>5.0</td>\n",
       "      <td>6.0</td>\n",
       "    </tr>\n",
       "  </tbody>\n",
       "</table>\n",
       "</div>"
      ],
      "text/plain": [
       "   0    1    2    3    4    5    6\n",
       "0  2  3.0  4.0  5.0  0.0  0.0  0.0\n",
       "1  6  0.0  0.0  0.0  0.0  0.0  0.0\n",
       "2  6  4.0  5.0  0.0  0.0  0.0  0.0\n",
       "3  6  7.0  9.0  4.0  2.0  5.0  6.0"
      ]
     },
     "execution_count": 99,
     "metadata": {},
     "output_type": "execute_result"
    }
   ],
   "source": [
    "import pandas as pd\n",
    "a = ([[2,3,4,5],[6],[6,4,5],[6,7,9,4,2,5,6]])\n",
    "df = pd.DataFrame(a)\n",
    "df.fillna(0)"
   ]
  },
  {
   "cell_type": "code",
   "execution_count": 101,
   "metadata": {},
   "outputs": [
    {
     "data": {
      "text/html": [
       "<div>\n",
       "<style scoped>\n",
       "    .dataframe tbody tr th:only-of-type {\n",
       "        vertical-align: middle;\n",
       "    }\n",
       "\n",
       "    .dataframe tbody tr th {\n",
       "        vertical-align: top;\n",
       "    }\n",
       "\n",
       "    .dataframe thead th {\n",
       "        text-align: right;\n",
       "    }\n",
       "</style>\n",
       "<table border=\"1\" class=\"dataframe\">\n",
       "  <thead>\n",
       "    <tr style=\"text-align: right;\">\n",
       "      <th></th>\n",
       "      <th>0</th>\n",
       "      <th>1</th>\n",
       "      <th>2</th>\n",
       "      <th>3</th>\n",
       "      <th>4</th>\n",
       "      <th>5</th>\n",
       "      <th>6</th>\n",
       "    </tr>\n",
       "  </thead>\n",
       "  <tbody>\n",
       "    <tr>\n",
       "      <th>0</th>\n",
       "      <td>2</td>\n",
       "      <td>3.0</td>\n",
       "      <td>4.0</td>\n",
       "      <td>5.0</td>\n",
       "      <td>7.0</td>\n",
       "      <td>NaN</td>\n",
       "      <td>NaN</td>\n",
       "    </tr>\n",
       "    <tr>\n",
       "      <th>1</th>\n",
       "      <td>6</td>\n",
       "      <td>3.0</td>\n",
       "      <td>4.0</td>\n",
       "      <td>5.0</td>\n",
       "      <td>7.0</td>\n",
       "      <td>NaN</td>\n",
       "      <td>NaN</td>\n",
       "    </tr>\n",
       "    <tr>\n",
       "      <th>2</th>\n",
       "      <td>6</td>\n",
       "      <td>4.0</td>\n",
       "      <td>5.0</td>\n",
       "      <td>5.0</td>\n",
       "      <td>7.0</td>\n",
       "      <td>NaN</td>\n",
       "      <td>NaN</td>\n",
       "    </tr>\n",
       "    <tr>\n",
       "      <th>3</th>\n",
       "      <td>6</td>\n",
       "      <td>7.0</td>\n",
       "      <td>9.0</td>\n",
       "      <td>4.0</td>\n",
       "      <td>2.0</td>\n",
       "      <td>5.0</td>\n",
       "      <td>6.0</td>\n",
       "    </tr>\n",
       "  </tbody>\n",
       "</table>\n",
       "</div>"
      ],
      "text/plain": [
       "   0    1    2    3    4    5    6\n",
       "0  2  3.0  4.0  5.0  7.0  NaN  NaN\n",
       "1  6  3.0  4.0  5.0  7.0  NaN  NaN\n",
       "2  6  4.0  5.0  5.0  7.0  NaN  NaN\n",
       "3  6  7.0  9.0  4.0  2.0  5.0  6.0"
      ]
     },
     "execution_count": 101,
     "metadata": {},
     "output_type": "execute_result"
    }
   ],
   "source": [
    "import pandas as pd\n",
    "a = ([[2,3,4,5,7],[6],[6,4,5],[6,7,9,4,2,5,6]])\n",
    "df = pd.DataFrame(a)\n",
    "df.fillna(method='ffill')"
   ]
  },
  {
   "cell_type": "markdown",
   "metadata": {},
   "source": [
    "***Comparing The Series***"
   ]
  },
  {
   "cell_type": "code",
   "execution_count": 115,
   "metadata": {},
   "outputs": [
    {
     "name": "stdout",
     "output_type": "stream",
     "text": [
      "First Series:\n",
      " 0    1\n",
      "1    2\n",
      "2    3\n",
      "3    7\n",
      "4    4\n",
      "5    5\n",
      "dtype: int64\n",
      "\n",
      "Second Series:\n",
      " 0    6\n",
      "1    7\n",
      "2    8\n",
      "3    7\n",
      "4    9\n",
      "5    0\n",
      "dtype: int64\n",
      "\n",
      "Comparing the elements of both series\n",
      "\n",
      "\n",
      "Equal\n",
      "\n",
      "0    False\n",
      "1    False\n",
      "2    False\n",
      "3     True\n",
      "4    False\n",
      "5    False\n",
      "dtype: bool\n",
      "\n",
      "Greater Than\n",
      "\n",
      "0    False\n",
      "1    False\n",
      "2    False\n",
      "3    False\n",
      "4    False\n",
      "5     True\n",
      "dtype: bool\n",
      "\n",
      "Less Then\n",
      "\n",
      "0     True\n",
      "1     True\n",
      "2     True\n",
      "3    False\n",
      "4     True\n",
      "5    False\n",
      "dtype: bool\n",
      "\n",
      "Adding two series\n",
      "\n",
      "0     7\n",
      "1     9\n",
      "2    11\n",
      "3    14\n",
      "4    13\n",
      "5     5\n",
      "dtype: int64\n",
      "\n",
      "Subtacting two series\n",
      "\n",
      "0   -5\n",
      "1   -5\n",
      "2   -5\n",
      "3    0\n",
      "4   -5\n",
      "5    5\n",
      "dtype: int64\n",
      "\n",
      "Product two series\n",
      "\n",
      "0     6\n",
      "1    14\n",
      "2    24\n",
      "3    49\n",
      "4    36\n",
      "5     0\n",
      "dtype: int64\n",
      "\n",
      "Divide two series\n",
      "\n",
      "0    0.166667\n",
      "1    0.285714\n",
      "2    0.375000\n",
      "3    1.000000\n",
      "4    0.444444\n",
      "5         inf\n",
      "dtype: float64\n"
     ]
    }
   ],
   "source": [
    "import pandas as pd\n",
    "a = pd.Series([1,2,3,7,4,5])\n",
    "b = pd.Series([6,7,8,7,9,0])\n",
    "print(\"First Series:\\n\",a)\n",
    "print(\"\\nSecond Series:\\n\",b)\n",
    "print(\"\\nComparing the elements of both series\\n\")\n",
    "print(\"\\nEqual\\n\")\n",
    "print(a==b)\n",
    "print(\"\\nGreater Than\\n\")\n",
    "print(a>b)\n",
    "print(\"\\nLess Then\\n\")\n",
    "print(a<b)\n",
    "print(\"\\nAdding two series\\n\")\n",
    "print(a+b)\n",
    "print(\"\\nSubtacting two series\\n\")\n",
    "print(a-b)\n",
    "print(\"\\nProduct two series\\n\")\n",
    "print(a*b)\n",
    "print(\"\\nDivide two series\\n\")\n",
    "print(a/b)"
   ]
  },
  {
   "cell_type": "markdown",
   "metadata": {},
   "source": [
    "***Combining DataFrmae***"
   ]
  },
  {
   "cell_type": "code",
   "execution_count": 129,
   "metadata": {},
   "outputs": [
    {
     "name": "stdout",
     "output_type": "stream",
     "text": [
      "   English  Maths\n",
      "0        4      7\n",
      "1        5      8\n",
      "2        6      5\n",
      "3        4      8\n",
      "4        6      5\n",
      "   English  Maths\n",
      "0        4      8\n",
      "1        5      5\n",
      "2        4      8\n",
      "3        6      5\n",
      "4        5      4\n",
      "\n",
      "-------------------------\n",
      "\n",
      "   English  Maths\n",
      "0        4      7\n",
      "1        5      8\n",
      "2        6      5\n",
      "3        4      8\n",
      "4        6      5\n",
      "0        4      8\n",
      "1        5      5\n",
      "2        4      8\n",
      "3        6      5\n",
      "4        5      4\n",
      "\n",
      "   English  Maths  English  Maths\n",
      "0        4      7        4      8\n",
      "1        5      8        5      5\n",
      "2        6      5        4      8\n",
      "3        4      8        6      5\n",
      "4        6      5        5      4\n"
     ]
    }
   ],
   "source": [
    "import pandas as pd\n",
    "test1 = {'English':[4,5,6,4,6], 'Maths':[7,8,5,8,5]}\n",
    "test2 = {'English':[4,5,4,6,5], 'Maths':[8,5,8,5,4]}\n",
    "df1 = pd.DataFrame(test1)\n",
    "df2 = pd.DataFrame(test2)\n",
    "print(df1)\n",
    "print(df2)\n",
    "print(\"\\n-------------------------\\n\")\n",
    "\n",
    "print(pd.concat([df1,df2], axis=0))\n",
    "print()\n",
    "print(pd.concat([df1,df2], axis=1))"
   ]
  },
  {
   "cell_type": "markdown",
   "metadata": {},
   "source": [
    "***Boolean Reduction***"
   ]
  },
  {
   "cell_type": "code",
   "execution_count": 146,
   "metadata": {},
   "outputs": [
    {
     "name": "stdout",
     "output_type": "stream",
     "text": [
      "\n",
      "X     True\n",
      "Y    False\n",
      "Z    False\n",
      "dtype: bool\n",
      "\n",
      "X     True\n",
      "Y     True\n",
      "Z    False\n",
      "dtype: bool\n"
     ]
    }
   ],
   "source": [
    "import pandas as pd\n",
    "df = pd.DataFrame({'X':[]})\n",
    "#df.empty()\n",
    "print()\n",
    "\n",
    "df1 = pd.DataFrame({'X':[True,True], 'Y':[True,False],'Z':[False,False]})\n",
    "print(df1.all())\n",
    "print()\n",
    "print(df1.any())"
   ]
  },
  {
   "cell_type": "markdown",
   "metadata": {},
   "source": [
    "***Data Aggregation :***\n",
    "*Aggregation is the process of turning the values of a dataset into one single valuse*"
   ]
  },
  {
   "cell_type": "code",
   "execution_count": 58,
   "metadata": {},
   "outputs": [
    {
     "name": "stdout",
     "output_type": "stream",
     "text": [
      "      Name  Age  Score\n",
      "0   Sachin   26     87\n",
      "1    Dhoni   26     76\n",
      "2    Virat   25     89\n",
      "3    Rohit   23     76\n",
      "4  Shikhar   31     89 \n",
      "\n",
      "Name     Virat\n",
      "Age         31\n",
      "Score       89\n",
      "dtype: object \n",
      "\n",
      "23 \n",
      "\n",
      "417 \n",
      "\n",
      "5 \n",
      "\n",
      "0    3\n",
      "1    3\n",
      "2    3\n",
      "3    3\n",
      "4    3\n",
      "dtype: int64 \n",
      "\n",
      "      Name   Age  Score\n",
      "0    Dhoni  26.0   76.0\n",
      "1    Rohit   NaN   89.0\n",
      "2   Sachin   NaN    NaN\n",
      "3  Shikhar   NaN    NaN\n",
      "4    Virat   NaN    NaN \n",
      "\n",
      "0    26\n",
      "dtype: int64 \n",
      "\n",
      "Age      26.2\n",
      "Score    83.4\n",
      "dtype: float64 \n",
      "\n",
      "0    56.5\n",
      "1    51.0\n",
      "2    57.0\n",
      "3    49.5\n",
      "4    60.0\n",
      "dtype: float64 \n",
      "\n",
      "26.2 \n",
      "\n",
      "Age      26.0\n",
      "Score    87.0\n",
      "dtype: float64 \n",
      "\n"
     ]
    }
   ],
   "source": [
    "import pandas as pd\n",
    "df = pd.DataFrame({'Name':['Sachin', 'Dhoni','Virat','Rohit','Shikhar'],\n",
    "       'Age':[26,26,25,23,31],\n",
    "       'Score':[87,76,89,76,89]})\n",
    "print(df,\"\\n\")\n",
    "print(df.max(),'\\n')\n",
    "print(df['Age'].min(),\"\\n\")\n",
    "\n",
    "print(df['Score'].sum(),\"\\n\")\n",
    "print(df['Age'].count(),\"\\n\")\n",
    "print(df.count(axis=1),\"\\n\")                  #total number of records\n",
    "print(df.mode(axis=0),\"\\n\")\n",
    "print(df['Age'].mode(),\"\\n\")\n",
    "print(df.mean(axis=0),\"\\n\")\n",
    "print(df.mean(axis=1),\"\\n\")\n",
    "print(df['Age'].mean(),\"\\n\")\n",
    "print(df.median(axis=0),\"\\n\")"
   ]
  },
  {
   "cell_type": "code",
   "execution_count": 62,
   "metadata": {},
   "outputs": [
    {
     "name": "stdout",
     "output_type": "stream",
     "text": [
      "   a     b\n",
      "0  1     1\n",
      "1  2    10\n",
      "2  3   100\n",
      "3  4  1000 \n",
      "\n",
      "a     2.5\n",
      "b    55.0\n",
      "Name: 0.5, dtype: float64\n",
      "         a       b\n",
      "0.10  1.30    3.70\n",
      "0.25  1.75    7.75\n",
      "0.50  2.50   55.00\n",
      "0.75  3.25  325.00\n"
     ]
    }
   ],
   "source": [
    "import pandas as pd\n",
    "import numpy as np\n",
    "df = pd.DataFrame(np.array([[1,1],[2,10],[3,100],[4,1000]]), columns=['a','b'])\n",
    "print(df,\"\\n\")\n",
    "print(df.quantile(0.5))                               # 50% quantile or median\n",
    "print(df.quantile([0.1,0.25,0.5,0.75],axis=0))        # 25% 50% and 75% quantile or median"
   ]
  },
  {
   "cell_type": "code",
   "execution_count": 70,
   "metadata": {},
   "outputs": [
    {
     "name": "stdout",
     "output_type": "stream",
     "text": [
      "      Name  Age  Score\n",
      "0   Sachin   26     87\n",
      "1    Dhoni   26     76\n",
      "2    Virat   25     89\n",
      "3    Rohit   23     76\n",
      "4  Shikhar   31     89 \n",
      "\n",
      "Age       8.7\n",
      "Score    46.3\n",
      "dtype: float64\n",
      "0    1860.5\n",
      "1    1250.0\n",
      "2    2048.0\n",
      "3    1404.5\n",
      "4    1682.0\n",
      "dtype: float64\n",
      "\n",
      "8.7\n"
     ]
    }
   ],
   "source": [
    "import pandas as pd\n",
    "df = pd.DataFrame({'Name':['Sachin', 'Dhoni','Virat','Rohit','Shikhar'],\n",
    "       'Age':[26,26,25,23,31],\n",
    "       'Score':[87,76,89,76,89]})\n",
    "print(df,\"\\n\")\n",
    "print(df.var())\n",
    "print(df.var(axis=1))\n",
    "print()\n",
    "print(df.loc[:,'Age'].var())"
   ]
  },
  {
   "cell_type": "code",
   "execution_count": null,
   "metadata": {},
   "outputs": [],
   "source": []
  }
 ],
 "metadata": {
  "kernelspec": {
   "display_name": "Python 3",
   "language": "python",
   "name": "python3"
  },
  "language_info": {
   "codemirror_mode": {
    "name": "ipython",
    "version": 3
   },
   "file_extension": ".py",
   "mimetype": "text/x-python",
   "name": "python",
   "nbconvert_exporter": "python",
   "pygments_lexer": "ipython3",
   "version": "3.8.5"
  }
 },
 "nbformat": 4,
 "nbformat_minor": 4
}
