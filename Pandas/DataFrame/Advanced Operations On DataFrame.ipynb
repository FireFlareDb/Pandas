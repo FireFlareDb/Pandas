{
 "cells": [
  {
   "cell_type": "markdown",
   "metadata": {},
   "source": [
    "***Advanced Opertations On DataFrame***"
   ]
  },
  {
   "cell_type": "code",
   "execution_count": 98,
   "metadata": {},
   "outputs": [
    {
     "name": "stdout",
     "output_type": "stream",
     "text": [
      "      Name Subject  Marks Grade\n",
      "0  Radhika      IP     98    A1\n",
      "1    Sonia      CS     87    A2\n",
      "2  Shaurya   Maths     99    A1\n",
      "3    Vinay     Phy     87     B \n",
      "\n",
      "\n",
      "Subject    CS    IP  Maths   Phy\n",
      "Name                            \n",
      "Radhika   NaN  98.0    NaN   NaN\n",
      "Shaurya   NaN   NaN   99.0   NaN\n",
      "Sonia    87.0   NaN    NaN   NaN\n",
      "Vinay     NaN   NaN    NaN  87.0 \n",
      "\n",
      "\n",
      "Subject  CS  IP Maths Phy\n",
      "Name                     \n",
      "Radhika      98          \n",
      "Shaurya            99    \n",
      "Sonia    87              \n",
      "Vinay                  87 \n",
      "\n",
      "\n",
      "        Marks                   Grade                \n",
      "Subject    CS    IP Maths   Phy    CS   IP Maths  Phy\n",
      "Name                                                 \n",
      "Radhika   NaN  98.0   NaN   NaN   NaN   A1   NaN  NaN\n",
      "Shaurya   NaN   NaN  99.0   NaN   NaN  NaN    A1  NaN\n",
      "Sonia    87.0   NaN   NaN   NaN    A2  NaN   NaN  NaN\n",
      "Vinay     NaN   NaN   NaN  87.0   NaN  NaN   NaN    B \n",
      "\n",
      "\n",
      "Name\n",
      "Radhika      \n",
      "Shaurya    A1\n",
      "Sonia        \n",
      "Vinay        \n",
      "Name: Maths, dtype: object \n",
      "\n",
      "\n"
     ]
    }
   ],
   "source": [
    "import pandas as pd\n",
    "# Pivoting using pivot() method\n",
    "#creating a dataframe\n",
    "result = {'Name':['Radhika','Sonia','Shaurya','Vinay'],\\\n",
    "         'Subject':['IP','CS','Maths','Phy'],\\\n",
    "         'Marks':[98,87,99,87],\\\n",
    "         'Grade':['A1','A2','A1','B']}\n",
    "df = pd.DataFrame(result, columns=['Name','Subject','Marks','Grade'])\n",
    "print(df,'\\n')\n",
    "print()\n",
    "\n",
    "pv = df.pivot(index='Name',columns='Subject',values='Marks')\n",
    "print(pv,'\\n')\n",
    "print()\n",
    "\n",
    "# Creating pivot table with .fillna()\n",
    "pv = df.pivot(index='Name',columns='Subject',values='Marks').fillna(\"\")\n",
    "print(pv,'\\n')\n",
    "print()\n",
    "\n",
    "# Pivoting using multiple columns\n",
    "# So, we need to skip\n",
    "pv = df.pivot(index='Name',columns='Subject')\n",
    "print(pv,'\\n')\n",
    "print()\n",
    "\n",
    "pv = pv.Grade.Maths.fillna('')\n",
    "print(pv,'\\n')\n",
    "print()\n",
    "\n",
    "# pv = pv.Marks.fillna('')\n",
    "# print(pv,'\\n')\n",
    "# print()\n"
   ]
  },
  {
   "cell_type": "code",
   "execution_count": 15,
   "metadata": {},
   "outputs": [
    {
     "name": "stdout",
     "output_type": "stream",
     "text": [
      "      Name Subject  Marks Grade\n",
      "0  Radhika      IP     98    A1\n",
      "1    Sonia      CS     87    A2\n",
      "2  Shaurya   Maths     99    A1\n",
      "3  Radhika     Phy     87     B\n",
      "\n"
     ]
    },
    {
     "data": {
      "text/html": [
       "<div>\n",
       "<style scoped>\n",
       "    .dataframe tbody tr th:only-of-type {\n",
       "        vertical-align: middle;\n",
       "    }\n",
       "\n",
       "    .dataframe tbody tr th {\n",
       "        vertical-align: top;\n",
       "    }\n",
       "\n",
       "    .dataframe thead th {\n",
       "        text-align: right;\n",
       "    }\n",
       "</style>\n",
       "<table border=\"1\" class=\"dataframe\">\n",
       "  <thead>\n",
       "    <tr style=\"text-align: right;\">\n",
       "      <th>Subject</th>\n",
       "      <th>CS</th>\n",
       "      <th>IP</th>\n",
       "      <th>Maths</th>\n",
       "      <th>Phy</th>\n",
       "    </tr>\n",
       "    <tr>\n",
       "      <th>Name</th>\n",
       "      <th></th>\n",
       "      <th></th>\n",
       "      <th></th>\n",
       "      <th></th>\n",
       "    </tr>\n",
       "  </thead>\n",
       "  <tbody>\n",
       "    <tr>\n",
       "      <th>Radhika</th>\n",
       "      <td>NaN</td>\n",
       "      <td>98.0</td>\n",
       "      <td>NaN</td>\n",
       "      <td>87.0</td>\n",
       "    </tr>\n",
       "    <tr>\n",
       "      <th>Shaurya</th>\n",
       "      <td>NaN</td>\n",
       "      <td>NaN</td>\n",
       "      <td>99.0</td>\n",
       "      <td>NaN</td>\n",
       "    </tr>\n",
       "    <tr>\n",
       "      <th>Sonia</th>\n",
       "      <td>87.0</td>\n",
       "      <td>NaN</td>\n",
       "      <td>NaN</td>\n",
       "      <td>NaN</td>\n",
       "    </tr>\n",
       "  </tbody>\n",
       "</table>\n",
       "</div>"
      ],
      "text/plain": [
       "Subject    CS    IP  Maths   Phy\n",
       "Name                            \n",
       "Radhika   NaN  98.0    NaN  87.0\n",
       "Shaurya   NaN   NaN   99.0   NaN\n",
       "Sonia    87.0   NaN    NaN   NaN"
      ]
     },
     "execution_count": 15,
     "metadata": {},
     "output_type": "execute_result"
    }
   ],
   "source": [
    "result = {'Name':['Radhika','Sonia','Shaurya','Radhika'],\n",
    "         'Subject':['IP','CS','Maths','Phy'],\n",
    "         'Marks':[98,87,99,87],\n",
    "         'Grade':['A1','A2','A1','B']}\n",
    "df = pd.DataFrame(result)\n",
    "print(df)\n",
    "print()\n",
    "\n",
    "pv = df.pivot(index='Name',columns='Subject',values='Marks')\n",
    "pv"
   ]
  },
  {
   "cell_type": "code",
   "execution_count": 23,
   "metadata": {},
   "outputs": [
    {
     "name": "stdout",
     "output_type": "stream",
     "text": [
      "  Invigilator  Amout\n",
      "0      Rajesh    550\n",
      "1      Mukesh    550\n",
      "2      Naveen    550\n",
      "3        Anil    550\n",
      "4      Naveen    550\n",
      "5      Rajesh    550\n",
      "\n"
     ]
    },
    {
     "data": {
      "text/html": [
       "<div>\n",
       "<style scoped>\n",
       "    .dataframe tbody tr th:only-of-type {\n",
       "        vertical-align: middle;\n",
       "    }\n",
       "\n",
       "    .dataframe tbody tr th {\n",
       "        vertical-align: top;\n",
       "    }\n",
       "\n",
       "    .dataframe thead th {\n",
       "        text-align: right;\n",
       "    }\n",
       "</style>\n",
       "<table border=\"1\" class=\"dataframe\">\n",
       "  <thead>\n",
       "    <tr style=\"text-align: right;\">\n",
       "      <th></th>\n",
       "      <th>Amout</th>\n",
       "    </tr>\n",
       "    <tr>\n",
       "      <th>Invigilator</th>\n",
       "      <th></th>\n",
       "    </tr>\n",
       "  </thead>\n",
       "  <tbody>\n",
       "    <tr>\n",
       "      <th>Anil</th>\n",
       "      <td>550</td>\n",
       "    </tr>\n",
       "    <tr>\n",
       "      <th>Mukesh</th>\n",
       "      <td>550</td>\n",
       "    </tr>\n",
       "    <tr>\n",
       "      <th>Naveen</th>\n",
       "      <td>1100</td>\n",
       "    </tr>\n",
       "    <tr>\n",
       "      <th>Rajesh</th>\n",
       "      <td>1100</td>\n",
       "    </tr>\n",
       "  </tbody>\n",
       "</table>\n",
       "</div>"
      ],
      "text/plain": [
       "             Amout\n",
       "Invigilator       \n",
       "Anil           550\n",
       "Mukesh         550\n",
       "Naveen        1100\n",
       "Rajesh        1100"
      ]
     },
     "execution_count": 23,
     "metadata": {},
     "output_type": "execute_result"
    }
   ],
   "source": [
    "import pandas as od\n",
    "name = {'Invigilator':['Rajesh','Mukesh','Naveen','Anil','Naveen','Rajesh'],\n",
    "       'Amout':[550,550,550,550,550,550]}\n",
    "df = pd.DataFrame(name)\n",
    "print(df)\n",
    "print()\n",
    "\n",
    "pd.pivot_table(df, index=['Invigilator'],aggfunc='sum')"
   ]
  },
  {
   "cell_type": "code",
   "execution_count": 28,
   "metadata": {},
   "outputs": [
    {
     "name": "stdout",
     "output_type": "stream",
     "text": [
      "       Item  Amount  Quantity\n",
      "0       Pen      56         4\n",
      "1      Book      87         3\n",
      "2  Notebook      89         3\n",
      "3       Pen      56         4\n",
      "4       Box      67         6\n",
      "5   Pencile      98         4\n",
      "\n"
     ]
    },
    {
     "data": {
      "text/html": [
       "<div>\n",
       "<style scoped>\n",
       "    .dataframe tbody tr th:only-of-type {\n",
       "        vertical-align: middle;\n",
       "    }\n",
       "\n",
       "    .dataframe tbody tr th {\n",
       "        vertical-align: top;\n",
       "    }\n",
       "\n",
       "    .dataframe thead th {\n",
       "        text-align: right;\n",
       "    }\n",
       "</style>\n",
       "<table border=\"1\" class=\"dataframe\">\n",
       "  <thead>\n",
       "    <tr style=\"text-align: right;\">\n",
       "      <th></th>\n",
       "      <th></th>\n",
       "      <th></th>\n",
       "    </tr>\n",
       "    <tr>\n",
       "      <th>Item</th>\n",
       "      <th>Amount</th>\n",
       "      <th>Quantity</th>\n",
       "    </tr>\n",
       "  </thead>\n",
       "  <tbody>\n",
       "    <tr>\n",
       "      <th>Book</th>\n",
       "      <th>87</th>\n",
       "      <th>3</th>\n",
       "    </tr>\n",
       "    <tr>\n",
       "      <th>Box</th>\n",
       "      <th>67</th>\n",
       "      <th>6</th>\n",
       "    </tr>\n",
       "    <tr>\n",
       "      <th>Notebook</th>\n",
       "      <th>89</th>\n",
       "      <th>3</th>\n",
       "    </tr>\n",
       "    <tr>\n",
       "      <th>Pen</th>\n",
       "      <th>56</th>\n",
       "      <th>4</th>\n",
       "    </tr>\n",
       "    <tr>\n",
       "      <th>Pencile</th>\n",
       "      <th>98</th>\n",
       "      <th>4</th>\n",
       "    </tr>\n",
       "  </tbody>\n",
       "</table>\n",
       "</div>"
      ],
      "text/plain": [
       "Empty DataFrame\n",
       "Columns: []\n",
       "Index: [(Book, 87, 3), (Box, 67, 6), (Notebook, 89, 3), (Pen, 56, 4), (Pencile, 98, 4)]"
      ]
     },
     "execution_count": 28,
     "metadata": {},
     "output_type": "execute_result"
    }
   ],
   "source": [
    "# Remove Duplicates\n",
    "\n",
    "import pandas as od\n",
    "name = {'Item':['Pen','Book','Notebook','Pen','Box','Pencile'],\n",
    "       'Amount':[56,87,89,56,67,98],\n",
    "       'Quantity':[4,3,3,4,6,4]}\n",
    "df = pd.DataFrame(name)\n",
    "print(df)\n",
    "print()\n",
    "\n",
    "pd.pivot_table(df, index=['Item','Amount','Quantity'],aggfunc='sum')"
   ]
  },
  {
   "cell_type": "code",
   "execution_count": 36,
   "metadata": {},
   "outputs": [
    {
     "name": "stdout",
     "output_type": "stream",
     "text": [
      "\n",
      "\n",
      "DataFrame of values\n",
      "   salesman  sales  quater district\n",
      "0     Rinku   1000       1   Kangra\n",
      "1       Jay    300       1  Hamipur\n",
      "2   Radhika    800       1   Kangra\n",
      "3      Arun   1000       2    Mandi\n",
      "4       Jay    500       2  Hamipur\n",
      "5     Karan     60       2   Kangra\n",
      "6   Akashit   1000       3   Kangra\n",
      "7       Jay    900       3  Hamipur\n",
      "8     Karan    300       3    Mandi\n",
      "9   Akashit   1000       4  Hamipur\n",
      "10  Radhika    900       4  Hamipur\n",
      "11    Karan     50       4   Kangra\n",
      "\n",
      "\n",
      "Use of mode() method of dataframe\n",
      "  salesman   sales  quater district\n",
      "0      Jay  1000.0       1  Hamipur\n",
      "1    Karan     NaN       2   Kangra\n",
      "2      NaN     NaN       3      NaN\n",
      "3      NaN     NaN       4      NaN\n",
      "\n",
      "\n",
      "Use of max,min,mean,median and count\n",
      "\n"
     ]
    },
    {
     "data": {
      "text/html": [
       "<div>\n",
       "<style scoped>\n",
       "    .dataframe tbody tr th:only-of-type {\n",
       "        vertical-align: middle;\n",
       "    }\n",
       "\n",
       "    .dataframe tbody tr th {\n",
       "        vertical-align: top;\n",
       "    }\n",
       "\n",
       "    .dataframe thead tr th {\n",
       "        text-align: left;\n",
       "    }\n",
       "\n",
       "    .dataframe thead tr:last-of-type th {\n",
       "        text-align: right;\n",
       "    }\n",
       "</style>\n",
       "<table border=\"1\" class=\"dataframe\">\n",
       "  <thead>\n",
       "    <tr>\n",
       "      <th></th>\n",
       "      <th>max</th>\n",
       "      <th>min</th>\n",
       "      <th>mean</th>\n",
       "      <th>median</th>\n",
       "      <th>count</th>\n",
       "    </tr>\n",
       "    <tr>\n",
       "      <th></th>\n",
       "      <th>sales</th>\n",
       "      <th>sales</th>\n",
       "      <th>sales</th>\n",
       "      <th>sales</th>\n",
       "      <th>sales</th>\n",
       "    </tr>\n",
       "    <tr>\n",
       "      <th>salesman</th>\n",
       "      <th></th>\n",
       "      <th></th>\n",
       "      <th></th>\n",
       "      <th></th>\n",
       "      <th></th>\n",
       "    </tr>\n",
       "  </thead>\n",
       "  <tbody>\n",
       "    <tr>\n",
       "      <th>Akashit</th>\n",
       "      <td>1000</td>\n",
       "      <td>1000</td>\n",
       "      <td>1000.000000</td>\n",
       "      <td>1000</td>\n",
       "      <td>2</td>\n",
       "    </tr>\n",
       "    <tr>\n",
       "      <th>Arun</th>\n",
       "      <td>1000</td>\n",
       "      <td>1000</td>\n",
       "      <td>1000.000000</td>\n",
       "      <td>1000</td>\n",
       "      <td>1</td>\n",
       "    </tr>\n",
       "    <tr>\n",
       "      <th>Jay</th>\n",
       "      <td>900</td>\n",
       "      <td>300</td>\n",
       "      <td>566.666667</td>\n",
       "      <td>500</td>\n",
       "      <td>3</td>\n",
       "    </tr>\n",
       "    <tr>\n",
       "      <th>Karan</th>\n",
       "      <td>300</td>\n",
       "      <td>50</td>\n",
       "      <td>136.666667</td>\n",
       "      <td>60</td>\n",
       "      <td>3</td>\n",
       "    </tr>\n",
       "    <tr>\n",
       "      <th>Radhika</th>\n",
       "      <td>900</td>\n",
       "      <td>800</td>\n",
       "      <td>850.000000</td>\n",
       "      <td>850</td>\n",
       "      <td>2</td>\n",
       "    </tr>\n",
       "    <tr>\n",
       "      <th>Rinku</th>\n",
       "      <td>1000</td>\n",
       "      <td>1000</td>\n",
       "      <td>1000.000000</td>\n",
       "      <td>1000</td>\n",
       "      <td>1</td>\n",
       "    </tr>\n",
       "  </tbody>\n",
       "</table>\n",
       "</div>"
      ],
      "text/plain": [
       "           max   min         mean median count\n",
       "         sales sales        sales  sales sales\n",
       "salesman                                      \n",
       "Akashit   1000  1000  1000.000000   1000     2\n",
       "Arun      1000  1000  1000.000000   1000     1\n",
       "Jay        900   300   566.666667    500     3\n",
       "Karan      300    50   136.666667     60     3\n",
       "Radhika    900   800   850.000000    850     2\n",
       "Rinku     1000  1000  1000.000000   1000     1"
      ]
     },
     "execution_count": 36,
     "metadata": {},
     "output_type": "execute_result"
    }
   ],
   "source": [
    "import pandas as pd\n",
    "print(\"\\n\")\n",
    "print(\"DataFrame of values\")\n",
    "monthlysale = {'salesman': ['Rinku','Jay','Radhika','Arun','Jay','Karan','Akashit','Jay','Karan','Akashit','Radhika','Karan'],\n",
    "              'sales': [1000,300,800,1000,500,60,1000,900,300,1000,900,50],\n",
    "              'quater': [1,1,1,2,2,2,3,3,3,4,4,4],\n",
    "              'district':['Kangra','Hamipur','Kangra','Mandi','Hamipur','Kangra','Kangra','Hamipur','Mandi','Hamipur','Hamipur','Kangra']}\n",
    "df = pd.DataFrame(monthlysale)\n",
    "print(df)\n",
    "\n",
    "# Use of mode() method of dataframe\n",
    "print(\"\\n\")\n",
    "print(\"Use of mode() method of dataframe\")\n",
    "print(df.mode())\n",
    "print(\"\\n\")\n",
    "print(\"Use of max,min,mean,median and count\\n\")\n",
    "pd.pivot_table(df, index=['salesman'], values=['sales'], aggfunc=['max','min','mean','median','count'])"
   ]
  },
  {
   "cell_type": "code",
   "execution_count": 20,
   "metadata": {},
   "outputs": [
    {
     "name": "stdout",
     "output_type": "stream",
     "text": [
      "   E_id    Ename  E_age      Ecity  Esalary\n",
      "0   100   Ritesh     25     Mumbai  15000.0\n",
      "1   101   Aakash     26        Goa  16000.0\n",
      "2   102   Mahima     27  Hyderabad  20000.0\n",
      "3   103  Lakshay     28      Delhi  18000.0\n",
      "4   104     Manu     29      Mmbai  25000.0\n",
      "5   105    Nidhi     30      Delhi      NaN\n",
      "6   106    Geetu     31  Bangalore  28000.0\n",
      "\n",
      "          E_age  E_id  Esalary\n",
      "Ename                        \n",
      "Aakash      26   101  16000.0\n",
      "Geetu       31   106  28000.0\n",
      "Lakshay     28   103  18000.0\n",
      "Mahima      27   102  20000.0\n",
      "Manu        29   104  25000.0\n",
      "Nidhi       30   105      0.0\n",
      "Ritesh      25   100  15000.0\n"
     ]
    }
   ],
   "source": [
    "import pandas as pd\n",
    "df = pd.read_csv(\"Employee.csv\",skiprows=1,names=['E_id','Ename','E_age','Ecity','Esalary'])            #skiprows will remove specipy row\n",
    "print(df)\n",
    "r = pd.pivot_table(df, index=\"Ename\",aggfunc='sum')\n",
    "print(\"\\n\",r)"
   ]
  },
  {
   "cell_type": "markdown",
   "metadata": {},
   "source": [
    "***SORTING***"
   ]
  },
  {
   "cell_type": "code",
   "execution_count": 32,
   "metadata": {},
   "outputs": [
    {
     "name": "stdout",
     "output_type": "stream",
     "text": [
      "      Name  Age  Score\n",
      "0   Schine   12     89\n",
      "1    Dhoni   43     87\n",
      "2    Rohit   45     89\n",
      "3  Shikhar   43     89\n",
      "4    Virat   23     99 \n",
      "\n",
      "\n",
      "       Name  Age  Score\n",
      "0   Schine   12     89\n",
      "4    Virat   23     99\n",
      "1    Dhoni   43     87\n",
      "3  Shikhar   43     89\n",
      "2    Rohit   45     89\n"
     ]
    }
   ],
   "source": [
    "import pandas as pd\n",
    "d = {'Name': pd.Series(['Schine','Dhoni','Rohit','Shikhar','Virat']),\n",
    "    'Age': pd.Series([12,43,45,43,23]),\n",
    "    'Score': pd.Series([89,87,89,89,99])}\n",
    "df = pd.DataFrame(d)\n",
    "print(df,'\\n')\n",
    "\n",
    "df = df.sort_values(by='Age')\n",
    "print('\\n',df)"
   ]
  },
  {
   "cell_type": "code",
   "execution_count": 33,
   "metadata": {},
   "outputs": [
    {
     "name": "stdout",
     "output_type": "stream",
     "text": [
      "      Name  Age  Score\n",
      "0   Schine   12     89\n",
      "1    Dhoni   43     87\n",
      "2    Rohit   45     89\n",
      "3  Shikhar   43     89\n",
      "4    Virat   23     99 \n",
      "\n",
      "\n",
      "       Name  Age  Score\n",
      "2    Rohit   45     89\n",
      "1    Dhoni   43     87\n",
      "3  Shikhar   43     89\n",
      "4    Virat   23     99\n",
      "0   Schine   12     89\n"
     ]
    }
   ],
   "source": [
    "import pandas as pd\n",
    "d = {'Name': pd.Series(['Schine','Dhoni','Rohit','Shikhar','Virat']),\n",
    "    'Age': pd.Series([12,43,45,43,23]),\n",
    "    'Score': pd.Series([89,87,89,89,99])}\n",
    "df = pd.DataFrame(d)\n",
    "print(df,'\\n')\n",
    "\n",
    "df = df.sort_values(by='Age', ascending=0)           #ascending=0 signifies descending order \n",
    "print('\\n',df)"
   ]
  },
  {
   "cell_type": "code",
   "execution_count": 37,
   "metadata": {},
   "outputs": [
    {
     "name": "stdout",
     "output_type": "stream",
     "text": [
      "      Name  Age  Score\n",
      "0   Schine   12     89\n",
      "1    Dhoni   43     87\n",
      "2    Rohit   45     89\n",
      "3  Shikhar   43     89\n",
      "4    Virat   23     99 \n",
      "\n",
      "\n",
      "       Name  Age  Score\n",
      "0   Schine   12     89\n",
      "4    Virat   23     99\n",
      "1    Dhoni   43     87\n",
      "3  Shikhar   43     89\n",
      "2    Rohit   45     89\n"
     ]
    }
   ],
   "source": [
    "import pandas as pd\n",
    "d = {'Name': pd.Series(['Schine','Dhoni','Rohit','Shikhar','Virat']),\n",
    "    'Age': pd.Series([12,43,45,43,23]),\n",
    "    'Score': pd.Series([89,87,89,89,99])}\n",
    "df = pd.DataFrame(d)\n",
    "print(df,'\\n')\n",
    "\n",
    "# Age in ascending order and then score in descending order\n",
    "df = df.sort_values(by=['Age','Score'], ascending=['True','False'])          \n",
    "print('\\n',df)"
   ]
  },
  {
   "cell_type": "code",
   "execution_count": 52,
   "metadata": {},
   "outputs": [
    {
     "name": "stdout",
     "output_type": "stream",
     "text": [
      "DataFrame Without Sorting\n",
      "\n",
      "      Name  Age  Score\n",
      "1    Dhoni   43     87\n",
      "4    Virat   23     99\n",
      "3  Shikhar   43     89\n",
      "2    Rohit   45     89\n",
      "0   Schine   12     89 \n",
      "\n",
      "\n",
      "DataFrame After Sorting\n",
      "\n",
      "      Name  Age  Score\n",
      "0   Schine   12     89\n",
      "1    Dhoni   43     87\n",
      "2    Rohit   45     89\n",
      "3  Shikhar   43     89\n",
      "4    Virat   23     99\n"
     ]
    }
   ],
   "source": [
    "import pandas as pd\n",
    "d = {'Name': pd.Series(['Schine','Dhoni','Rohit','Shikhar','Virat']),\n",
    "    'Age': pd.Series([12,43,45,43,23]),\n",
    "    'Score': pd.Series([89,87,89,89,99])}\n",
    "df = pd.DataFrame(d)\n",
    "df = df.reindex([1,4,3,2,0])\n",
    "\n",
    "print(\"DataFrame Without Sorting\\n\")\n",
    "print(df,'\\n')\n",
    "\n",
    "print(\"\\nDataFrame After Sorting\\n\")\n",
    "df1 = df.sort_index()\n",
    "print(df1)"
   ]
  },
  {
   "cell_type": "code",
   "execution_count": 53,
   "metadata": {},
   "outputs": [
    {
     "name": "stdout",
     "output_type": "stream",
     "text": [
      "DataFrame Without Sorting\n",
      "\n",
      "      Name  Age  Score\n",
      "1    Dhoni   43     87\n",
      "4    Virat   23     99\n",
      "3  Shikhar   43     89\n",
      "2    Rohit   45     89\n",
      "0   Schine   12     89 \n",
      "\n",
      "\n",
      "DataFrame After Sorting\n",
      "\n",
      "      Name  Age  Score\n",
      "4    Virat   23     99\n",
      "3  Shikhar   43     89\n",
      "2    Rohit   45     89\n",
      "1    Dhoni   43     87\n",
      "0   Schine   12     89\n"
     ]
    }
   ],
   "source": [
    "import pandas as pd\n",
    "d = {'Name': pd.Series(['Schine','Dhoni','Rohit','Shikhar','Virat']),\n",
    "    'Age': pd.Series([12,43,45,43,23]),\n",
    "    'Score': pd.Series([89,87,89,89,99])}\n",
    "df = pd.DataFrame(d)\n",
    "df = df.reindex([1,4,3,2,0])\n",
    "\n",
    "print(\"DataFrame Without Sorting\\n\")\n",
    "print(df,'\\n')\n",
    "\n",
    "print(\"\\nDataFrame After Sorting\\n\")\n",
    "df1 = df.sort_index(ascending=0)             # ascending = 0 sets the order as descending\n",
    "print(df1)"
   ]
  },
  {
   "cell_type": "markdown",
   "metadata": {},
   "source": [
    "***Creating Histogram***"
   ]
  },
  {
   "cell_type": "code",
   "execution_count": 64,
   "metadata": {},
   "outputs": [
    {
     "name": "stdout",
     "output_type": "stream",
     "text": [
      "\n",
      "\n",
      "DataFrame of values\n",
      "   salesman  sales  quater district\n",
      "0     Rinku   1000       1   Kangra\n",
      "1       Jay    300       1  Hamipur\n",
      "2   Radhika    800       1   Kangra\n",
      "3      Arun   1000       2    Mandi\n",
      "4       Jay    500       2  Hamipur\n",
      "5     Karan     60       2   Kangra\n",
      "6   Akashit   1000       3   Kangra\n",
      "7       Jay    900       3  Hamipur\n",
      "8     Karan    300       3    Mandi\n",
      "9   Akashit   1000       4  Hamipur\n",
      "10  Radhika    900       4  Hamipur\n",
      "11    Karan     50       4   Kangra\n"
     ]
    },
    {
     "data": {
      "image/png": "[encoded data removed]",
      "text/plain": [
       "<Figure size 432x288 with 1 Axes>"
      ]
     },
     "metadata": {
      "needs_background": "light"
     },
     "output_type": "display_data"
    }
   ],
   "source": [
    "import pandas as pd\n",
    "import matplotlib.pyplot as plt\n",
    "print(\"\\n\")\n",
    "print(\"DataFrame of values\")\n",
    "monthlysale = {'salesman': ['Rinku','Jay','Radhika','Arun','Jay','Karan','Akashit','Jay','Karan','Akashit','Radhika','Karan'],\n",
    "              'sales': [1000,300,800,1000,500,60,1000,900,300,1000,900,50],\n",
    "              'quater': [1,1,1,2,2,2,3,3,3,4,4,4],\n",
    "              'district':['Kangra','Hamipur','Kangra','Mandi','Hamipur','Kangra','Kangra','Hamipur','Mandi','Hamipur','Hamipur','Kangra']}\n",
    "df = pd.DataFrame(monthlysale)\n",
    "print(df)\n",
    "\n",
    "pd.pivot_table(df, index=['salesman'], values=['sales']).hist()\n",
    "plt.show()"
   ]
  },
  {
   "cell_type": "code",
   "execution_count": 69,
   "metadata": {},
   "outputs": [
    {
     "name": "stdout",
     "output_type": "stream",
     "text": [
      "\n",
      "\n",
      "DataFrame of values\n",
      "   salesman  sales  quater district\n",
      "0     Rinku   1000       1   Kangra\n",
      "1       Jay    300       1  Hamipur\n",
      "2   Radhika    800       1   Kangra\n",
      "3      Arun   1000       2    Mandi\n",
      "4       Jay    500       2  Hamipur\n",
      "5     Karan     60       2   Kangra\n",
      "6   Akashit   1000       3   Kangra\n",
      "7       Jay    900       3  Hamipur\n",
      "8     Karan    300       3    Mandi\n",
      "9   Akashit   1000       4  Hamipur\n",
      "10  Radhika    900       4  Hamipur\n",
      "11    Karan     50       4   Kangra\n"
     ]
    },
    {
     "data": {
      "text/plain": [
       "array([[<AxesSubplot:title={'center':'sales'}>,\n",
       "        <AxesSubplot:title={'center':'quater'}>]], dtype=object)"
      ]
     },
     "execution_count": 69,
     "metadata": {},
     "output_type": "execute_result"
    },
    {
     "data": {
      "image/png": "[encoded data removed]",
      "text/plain": [
       "<Figure size 432x288 with 2 Axes>"
      ]
     },
     "metadata": {
      "needs_background": "light"
     },
     "output_type": "display_data"
    }
   ],
   "source": [
    "import pandas as pd\n",
    "import matplotlib.pyplot as plt\n",
    "print(\"\\n\")\n",
    "print(\"DataFrame of values\")\n",
    "monthlysale = {'salesman': ['Rinku','Jay','Radhika','Arun','Jay','Karan','Akashit','Jay','Karan','Akashit','Radhika','Karan'],\n",
    "              'sales': [1000,300,800,1000,500,60,1000,900,300,1000,900,50],\n",
    "              'quater': [1,1,1,2,2,2,3,3,3,4,4,4],\n",
    "              'district':['Kangra','Hamipur','Kangra','Mandi','Hamipur','Kangra','Kangra','Hamipur','Mandi','Hamipur','Hamipur','Kangra']}\n",
    "df = pd.DataFrame(monthlysale)\n",
    "print(df)\n",
    "\n",
    "pd.pivot_table(df, index=['salesman'], values=['sales'])\n",
    "df.hist()"
   ]
  },
  {
   "cell_type": "code",
   "execution_count": 85,
   "metadata": {},
   "outputs": [
    {
     "name": "stdout",
     "output_type": "stream",
     "text": [
      "   Science  English\n",
      "0       28       59\n",
      "1       50       39\n",
      "2       28       60\n",
      "3       28       37\n",
      "4       59       81\n"
     ]
    }
   ],
   "source": [
    "import pandas as pd\n",
    "def addr(addr1,addr2):\n",
    "    return addr1+addr2\n",
    "\n",
    "d = {'Science': pd.Series([23,45,23,23,54]),\n",
    "    'English': pd.Series([54,34,55,32,76])}\n",
    "df = pd.DataFrame(d)\n",
    "df1 = df.pipe(addr,5)\n",
    "print(df1)"
   ]
  },
  {
   "cell_type": "code",
   "execution_count": 87,
   "metadata": {},
   "outputs": [
    {
     "name": "stdout",
     "output_type": "stream",
     "text": [
      "   Science  English\n",
      "0     14.0     29.5\n",
      "1     25.0     19.5\n",
      "2     14.0     30.0\n",
      "3     14.0     18.5\n",
      "4     29.5     40.5\n"
     ]
    }
   ],
   "source": [
    "import pandas as pd\n",
    "def addr(addr1,addr2):\n",
    "    return addr1+addr2\n",
    "def divide(addr1,addr2):\n",
    "    return addr1/addr2\n",
    "\n",
    "d = {'Science': pd.Series([23,45,23,23,54]),\n",
    "    'English': pd.Series([54,34,55,32,76])}\n",
    "df = pd.DataFrame(d)\n",
    "df1 = df.pipe(addr,5).pipe(divide,2)            # pipelining/chaining\n",
    "print(df1)"
   ]
  },
  {
   "cell_type": "code",
   "execution_count": 92,
   "metadata": {},
   "outputs": [
    {
     "name": "stdout",
     "output_type": "stream",
     "text": [
      "   Science  English\n",
      "0       23       54\n",
      "1       45       34\n"
     ]
    },
    {
     "data": {
      "text/plain": [
       "Science    34.0\n",
       "English    44.0\n",
       "dtype: float64"
      ]
     },
     "execution_count": 92,
     "metadata": {},
     "output_type": "execute_result"
    }
   ],
   "source": [
    "import pandas as pd\n",
    "import numpy as np\n",
    "d = {'Science': pd.Series([23,45]),\n",
    "    'English': pd.Series([54,34])}\n",
    "df = pd.DataFrame(d)\n",
    "print(df)\n",
    "r = df.apply(np.mean, axis=0)       # axis=1 implies row-wise manipulation\n",
    "r"
   ]
  },
  {
   "cell_type": "code",
   "execution_count": 93,
   "metadata": {},
   "outputs": [
    {
     "name": "stdout",
     "output_type": "stream",
     "text": [
      "   Science  English\n",
      "0       23       54\n",
      "1       45       34\n"
     ]
    },
    {
     "data": {
      "text/plain": [
       "0    38.5\n",
       "1    39.5\n",
       "dtype: float64"
      ]
     },
     "execution_count": 93,
     "metadata": {},
     "output_type": "execute_result"
    }
   ],
   "source": [
    "import pandas as pd\n",
    "import numpy as np\n",
    "d = {'Science': pd.Series([23,45]),\n",
    "    'English': pd.Series([54,34])}\n",
    "df = pd.DataFrame(d)\n",
    "print(df)\n",
    "r = df.apply(np.mean, axis=1)       # axis=1 implies row-wise manipulation\n",
    "r"
   ]
  },
  {
   "cell_type": "code",
   "execution_count": 94,
   "metadata": {},
   "outputs": [
    {
     "name": "stdout",
     "output_type": "stream",
     "text": [
      "   Science  English\n",
      "0       23       54\n",
      "1       45       34\n"
     ]
    },
    {
     "data": {
      "text/html": [
       "<div>\n",
       "<style scoped>\n",
       "    .dataframe tbody tr th:only-of-type {\n",
       "        vertical-align: middle;\n",
       "    }\n",
       "\n",
       "    .dataframe tbody tr th {\n",
       "        vertical-align: top;\n",
       "    }\n",
       "\n",
       "    .dataframe thead th {\n",
       "        text-align: right;\n",
       "    }\n",
       "</style>\n",
       "<table border=\"1\" class=\"dataframe\">\n",
       "  <thead>\n",
       "    <tr style=\"text-align: right;\">\n",
       "      <th></th>\n",
       "      <th>Science</th>\n",
       "      <th>English</th>\n",
       "    </tr>\n",
       "  </thead>\n",
       "  <tbody>\n",
       "    <tr>\n",
       "      <th>0</th>\n",
       "      <td>25</td>\n",
       "      <td>56</td>\n",
       "    </tr>\n",
       "    <tr>\n",
       "      <th>1</th>\n",
       "      <td>47</td>\n",
       "      <td>36</td>\n",
       "    </tr>\n",
       "  </tbody>\n",
       "</table>\n",
       "</div>"
      ],
      "text/plain": [
       "   Science  English\n",
       "0       25       56\n",
       "1       47       36"
      ]
     },
     "execution_count": 94,
     "metadata": {},
     "output_type": "execute_result"
    }
   ],
   "source": [
    "import pandas as pd\n",
    "import numpy as np\n",
    "d = {'Science': pd.Series([23,45]),\n",
    "    'English': pd.Series([54,34])}\n",
    "df = pd.DataFrame(d)\n",
    "print(df)\n",
    "r = df.applymap(lambda x:x+2)       # axis=1 implies row-wise manipulation\n",
    "r"
   ]
  },
  {
   "cell_type": "code",
   "execution_count": 6,
   "metadata": {},
   "outputs": [
    {
     "name": "stdout",
     "output_type": "stream",
     "text": [
      "\n",
      "\n",
      "DataFrame of values\n",
      "   salesman  sales  quater district\n",
      "0     Rinku   1000       1   Kangra\n",
      "1       Jay    300       1  Hamipur\n",
      "2   Radhika    800       1   Kangra\n",
      "3      Arun   1000       2    Mandi\n",
      "4       Jay    500       2  Hamipur\n",
      "5     Karan     60       2   Kangra\n",
      "6   Akashit   1000       3   Kangra\n",
      "7       Jay    900       3  Hamipur\n",
      "8     Karan    300       3    Mandi\n",
      "9   Akashit   1000       4  Hamipur\n",
      "10  Radhika    900       4  Hamipur\n",
      "11    Karan     50       4   Kangra\n",
      "      salesman  quater district\n",
      "sales                          \n",
      "50       Karan       4   Kangra\n",
      "60       Karan       2   Kangra\n",
      "300      Karan       3    Mandi\n",
      "500        Jay       2  Hamipur\n",
      "800    Radhika       1   Kangra\n",
      "900    Radhika       4  Hamipur\n",
      "1000     Rinku       4    Mandi\n"
     ]
    }
   ],
   "source": [
    "import pandas as pd\n",
    "import matplotlib.pyplot as plt\n",
    "print(\"\\n\")\n",
    "print(\"DataFrame of values\")\n",
    "monthlysale = {'salesman': ['Rinku','Jay','Radhika','Arun','Jay','Karan','Akashit','Jay','Karan','Akashit','Radhika','Karan'],\n",
    "              'sales': [1000,300,800,1000,500,60,1000,900,300,1000,900,50],\n",
    "              'quater': [1,1,1,2,2,2,3,3,3,4,4,4],\n",
    "              'district':['Kangra','Hamipur','Kangra','Mandi','Hamipur','Kangra','Kangra','Hamipur','Mandi','Hamipur','Hamipur','Kangra']}\n",
    "df = pd.DataFrame(monthlysale)\n",
    "print(df)\n",
    "print(df.groupby('sales').max())"
   ]
  },
  {
   "cell_type": "code",
   "execution_count": 11,
   "metadata": {},
   "outputs": [
    {
     "name": "stdout",
     "output_type": "stream",
     "text": [
      "DATAOFDATAFRAME\n",
      "     name  age  weight  height\n",
      "0  vishal   15      51     5.1\n",
      "1    anil   16      48     6.4\n",
      "2   mayur   17      54     4.3\n",
      "3    Vraj   14      67     6.4\n",
      "4  mahesh   15      43    12.2\n",
      "0    94\n",
      "1    48\n",
      "2    54\n",
      "3    67\n",
      "4    94\n",
      "Name: weight, dtype: int64\n"
     ]
    }
   ],
   "source": [
    "from collections import OrderedDict\n",
    "import pandas as pd\n",
    "import numpy as np\n",
    "table = OrderedDict((\n",
    "(\"name\",[\"vishal\",\"anil\",\"mayur\",\"Vraj\",\"mahesh\"]),\n",
    "('age',[15,16,17,14,15]),\n",
    "('weight',[51,48,54,67,43]),\n",
    "('height',[5.1,6.4,4.3,6.4,12.2])\n",
    "))\n",
    "d = pd.DataFrame(table)\n",
    "print(\"DATAOFDATAFRAME\")\n",
    "print(d)\n",
    "print(d.groupby('age')[\"weight\"].transform('sum'))"
   ]
  },
  {
   "cell_type": "code",
   "execution_count": 5,
   "metadata": {},
   "outputs": [
    {
     "name": "stdout",
     "output_type": "stream",
     "text": [
      "    name            email\n",
      "0     ra     ra@gmail.com\n",
      "1   jack   jack@gmail.com\n",
      "2  phone  phone@gmail.com\n",
      "3   jhon   jhon@gmail.com\n"
     ]
    }
   ],
   "source": [
    "import pandas as pd\n",
    "\n",
    "data = 'send an email to jack'\n",
    "if 'send an email to' in data:\n",
    "    try:   \n",
    "        mails = {'name':['ra','jack','phone','jhon'],\n",
    "                'email':['ra@gmail.com','jack@gmail.com','phone@gmail.com','jhon@gmail.com']}\n",
    "        \n",
    "        mails_df = pd.DataFrame(mails)\n",
    "        print(mails_df)\n",
    "\n",
    "        #speak('Okay... What should i say ?')\n",
    "        To_Name = data.replace('send an email to ','')\n",
    "        \n",
    "        first = mails_df.index()\n",
    "        print(first)\n",
    "\n",
    "        for row in mails_df.index: \n",
    "            print(row, end = \" \") \n",
    "        content = 'Hello World This is Hehehehehehehahahah hahahahe hehehe hahahaha'\n",
    "        to = 'ra-dou-woo@tuta.io'\n",
    "    #     sendEmail(to, content)\n",
    "    #     speak('Email has been sent')\n",
    "    except Exception as e:\n",
    "        pass\n",
    "    #     print(e)\n",
    "    #     speak('''Sorry bro i was unable to send your mail. \n",
    "    #     this may be a technical issue or internet connection problems''')"
   ]
  },
  {
   "cell_type": "code",
   "execution_count": null,
   "metadata": {},
   "outputs": [],
   "source": []
  }
 ],
 "metadata": {
  "kernelspec": {
   "display_name": "Python 3",
   "language": "python",
   "name": "python3"
  },
  "language_info": {
   "codemirror_mode": {
    "name": "ipython",
    "version": 3
   },
   "file_extension": ".py",
   "mimetype": "text/x-python",
   "name": "python",
   "nbconvert_exporter": "python",
   "pygments_lexer": "ipython3",
   "version": "3.8.5"
  }
 },
 "nbformat": 4,
 "nbformat_minor": 4
}
