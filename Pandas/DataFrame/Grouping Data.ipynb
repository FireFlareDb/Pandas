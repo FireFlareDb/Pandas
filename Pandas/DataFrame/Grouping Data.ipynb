{
 "cells": [
  {
   "cell_type": "code",
   "execution_count": 7,
   "metadata": {},
   "outputs": [
    {
     "name": "stdout",
     "output_type": "stream",
     "text": [
      "     Name  Age    Address Qualification\n",
      "0     Jai   27     Nagpur           Msc\n",
      "1    Anuj   24     Kanpur            MA\n",
      "2     Jai   22  Allahabad           MCA\n",
      "3  Princi   32    Kannuaj           Phd\n",
      "4  Gaurav   33    Jaunpur        B.Tech\n",
      "5    Anuj   36     Kanpur         B.com\n",
      "6  Princi   27  Allahabad           Msc\n",
      "7    Abhi   32    Aligarh            MA \n",
      "\n",
      "\n",
      "{'Abhi': [7], 'Anuj': [1, 5], 'Gaurav': [4], 'Jai': [0, 2], 'Princi': [3, 6]} \n",
      "\n",
      "\n"
     ]
    },
    {
     "data": {
      "text/html": [
       "<div>\n",
       "<style scoped>\n",
       "    .dataframe tbody tr th:only-of-type {\n",
       "        vertical-align: middle;\n",
       "    }\n",
       "\n",
       "    .dataframe tbody tr th {\n",
       "        vertical-align: top;\n",
       "    }\n",
       "\n",
       "    .dataframe thead th {\n",
       "        text-align: right;\n",
       "    }\n",
       "</style>\n",
       "<table border=\"1\" class=\"dataframe\">\n",
       "  <thead>\n",
       "    <tr style=\"text-align: right;\">\n",
       "      <th></th>\n",
       "      <th>Age</th>\n",
       "      <th>Address</th>\n",
       "      <th>Qualification</th>\n",
       "    </tr>\n",
       "    <tr>\n",
       "      <th>Name</th>\n",
       "      <th></th>\n",
       "      <th></th>\n",
       "      <th></th>\n",
       "    </tr>\n",
       "  </thead>\n",
       "  <tbody>\n",
       "    <tr>\n",
       "      <th>Abhi</th>\n",
       "      <td>32</td>\n",
       "      <td>Aligarh</td>\n",
       "      <td>MA</td>\n",
       "    </tr>\n",
       "    <tr>\n",
       "      <th>Anuj</th>\n",
       "      <td>24</td>\n",
       "      <td>Kanpur</td>\n",
       "      <td>MA</td>\n",
       "    </tr>\n",
       "    <tr>\n",
       "      <th>Gaurav</th>\n",
       "      <td>33</td>\n",
       "      <td>Jaunpur</td>\n",
       "      <td>B.Tech</td>\n",
       "    </tr>\n",
       "    <tr>\n",
       "      <th>Jai</th>\n",
       "      <td>27</td>\n",
       "      <td>Nagpur</td>\n",
       "      <td>Msc</td>\n",
       "    </tr>\n",
       "    <tr>\n",
       "      <th>Princi</th>\n",
       "      <td>32</td>\n",
       "      <td>Kannuaj</td>\n",
       "      <td>Phd</td>\n",
       "    </tr>\n",
       "  </tbody>\n",
       "</table>\n",
       "</div>"
      ],
      "text/plain": [
       "        Age  Address Qualification\n",
       "Name                              \n",
       "Abhi     32  Aligarh            MA\n",
       "Anuj     24   Kanpur            MA\n",
       "Gaurav   33  Jaunpur        B.Tech\n",
       "Jai      27   Nagpur           Msc\n",
       "Princi   32  Kannuaj           Phd"
      ]
     },
     "execution_count": 7,
     "metadata": {},
     "output_type": "execute_result"
    }
   ],
   "source": [
    "import pandas as pd\n",
    "data1 = {'Name':['Jai', 'Anuj', 'Jai', 'Princi',  \n",
    "                 'Gaurav', 'Anuj', 'Princi', 'Abhi'],  \n",
    "        'Age':[27, 24, 22, 32,  \n",
    "               33, 36, 27, 32],  \n",
    "        'Address':['Nagpur', 'Kanpur', 'Allahabad', 'Kannuaj', \n",
    "                   'Jaunpur', 'Kanpur', 'Allahabad', 'Aligarh'],  \n",
    "        'Qualification':['Msc', 'MA', 'MCA', 'Phd', \n",
    "                         'B.Tech', 'B.com', 'Msc', 'MA']}\n",
    "df = pd.DataFrame(data1)\n",
    "print(df,'\\n\\n')\n",
    "\n",
    "print(df.groupby('Name').groups,'\\n\\n')\n",
    "gk = df.groupby('Name')\n",
    "gk.first()"
   ]
  },
  {
   "cell_type": "code",
   "execution_count": 12,
   "metadata": {},
   "outputs": [
    {
     "name": "stdout",
     "output_type": "stream",
     "text": [
      "     Name  Age    Address Qualification\n",
      "0     Jai   27     Nagpur           Msc\n",
      "1    Anuj   24     Kanpur            MA\n",
      "2     Jai   22  Allahabad           MCA\n",
      "3  Princi   32    Kannuaj           Phd\n",
      "4  Gaurav   33    Jaunpur        B.Tech\n",
      "5    Anuj   36     Kanpur         B.com\n",
      "6  Princi   27  Allahabad           Msc\n",
      "7    Abhi   32    Aligarh            MA \n",
      "\n",
      "\n",
      "{('Abhi', 'MA'): [7], ('Anuj', 'B.com'): [5], ('Anuj', 'MA'): [1], ('Gaurav', 'B.Tech'): [4], ('Jai', 'MCA'): [2], ('Jai', 'Msc'): [0], ('Princi', 'Msc'): [6], ('Princi', 'Phd'): [3]}\n"
     ]
    }
   ],
   "source": [
    "import pandas as pd\n",
    "data1 = {'Name':['Jai', 'Anuj', 'Jai', 'Princi',  \n",
    "                 'Gaurav', 'Anuj', 'Princi', 'Abhi'],  \n",
    "        'Age':[27, 24, 22, 32,  \n",
    "               33, 36, 27, 32],  \n",
    "        'Address':['Nagpur', 'Kanpur', 'Allahabad', 'Kannuaj', \n",
    "                   'Jaunpur', 'Kanpur', 'Allahabad', 'Aligarh'],  \n",
    "        'Qualification':['Msc', 'MA', 'MCA', 'Phd', \n",
    "                         'B.Tech', 'B.com', 'Msc', 'MA']}\n",
    "\n",
    "df = pd.DataFrame(data1)\n",
    "print(df,'\\n\\n')\n",
    "\n",
    "df.groupby(['Name','Qualification'])\n",
    "print(df.groupby(['Name','Qualification']).groups)"
   ]
  },
  {
   "cell_type": "code",
   "execution_count": 18,
   "metadata": {},
   "outputs": [
    {
     "name": "stdout",
     "output_type": "stream",
     "text": [
      "     Name  Age\n",
      "0     Jai   27\n",
      "1    Anuj   24\n",
      "2     Jai   22\n",
      "3  Princi   32\n",
      "4  Gaurav   33\n",
      "5    Anuj   36\n",
      "6  Princi   27\n",
      "7    Abhi   32 \n",
      "\n",
      "\n",
      "        Age\n",
      "Name       \n",
      "Abhi     32\n",
      "Anuj     60\n",
      "Gaurav   33\n",
      "Jai      49\n",
      "Princi   59\n"
     ]
    },
    {
     "data": {
      "text/html": [
       "<div>\n",
       "<style scoped>\n",
       "    .dataframe tbody tr th:only-of-type {\n",
       "        vertical-align: middle;\n",
       "    }\n",
       "\n",
       "    .dataframe tbody tr th {\n",
       "        vertical-align: top;\n",
       "    }\n",
       "\n",
       "    .dataframe thead th {\n",
       "        text-align: right;\n",
       "    }\n",
       "</style>\n",
       "<table border=\"1\" class=\"dataframe\">\n",
       "  <thead>\n",
       "    <tr style=\"text-align: right;\">\n",
       "      <th></th>\n",
       "      <th>Age</th>\n",
       "    </tr>\n",
       "    <tr>\n",
       "      <th>Name</th>\n",
       "      <th></th>\n",
       "    </tr>\n",
       "  </thead>\n",
       "  <tbody>\n",
       "    <tr>\n",
       "      <th>Jai</th>\n",
       "      <td>49</td>\n",
       "    </tr>\n",
       "    <tr>\n",
       "      <th>Anuj</th>\n",
       "      <td>60</td>\n",
       "    </tr>\n",
       "    <tr>\n",
       "      <th>Princi</th>\n",
       "      <td>59</td>\n",
       "    </tr>\n",
       "    <tr>\n",
       "      <th>Gaurav</th>\n",
       "      <td>33</td>\n",
       "    </tr>\n",
       "    <tr>\n",
       "      <th>Abhi</th>\n",
       "      <td>32</td>\n",
       "    </tr>\n",
       "  </tbody>\n",
       "</table>\n",
       "</div>"
      ],
      "text/plain": [
       "        Age\n",
       "Name       \n",
       "Jai      49\n",
       "Anuj     60\n",
       "Princi   59\n",
       "Gaurav   33\n",
       "Abhi     32"
      ]
     },
     "execution_count": 18,
     "metadata": {},
     "output_type": "execute_result"
    }
   ],
   "source": [
    "import pandas as pd\n",
    "data1 = {'Name':['Jai', 'Anuj', 'Jai', 'Princi',  \n",
    "                 'Gaurav', 'Anuj', 'Princi', 'Abhi'],  \n",
    "        'Age':[27, 24, 22, 32,  \n",
    "               33, 36, 27, 32], }\n",
    "df = pd.DataFrame(data1)\n",
    "print(df,'\\n\\n')\n",
    "\n",
    "print(df.groupby(['Name']).sum())\n",
    "df.groupby(['Name'], sort = False).sum()"
   ]
  },
  {
   "cell_type": "code",
   "execution_count": 23,
   "metadata": {},
   "outputs": [
    {
     "name": "stdout",
     "output_type": "stream",
     "text": [
      "     Name  Age    Address Qualification\n",
      "0     Jai   27     Nagpur           Msc\n",
      "1    Anuj   24     Kanpur            MA\n",
      "2     Jai   22  Allahabad           MCA\n",
      "3  Princi   32    Kannuaj           Phd\n",
      "4  Gaurav   33    Jaunpur        B.Tech\n",
      "5    Anuj   36     Kanpur         B.com\n",
      "6  Princi   27  Allahabad           Msc\n",
      "7    Abhi   32    Aligarh            MA \n",
      "\n",
      "\n"
     ]
    },
    {
     "data": {
      "text/plain": [
       "{'Abhi': [7], 'Anuj': [1, 5], 'Gaurav': [4], 'Jai': [0, 2], 'Princi': [3, 6]}"
      ]
     },
     "execution_count": 23,
     "metadata": {},
     "output_type": "execute_result"
    }
   ],
   "source": [
    "import pandas as pd\n",
    "data1 = {'Name':['Jai', 'Anuj', 'Jai', 'Princi',  \n",
    "                 'Gaurav', 'Anuj', 'Princi', 'Abhi'],  \n",
    "        'Age':[27, 24, 22, 32,  \n",
    "               33, 36, 27, 32],  \n",
    "        'Address':['Nagpur', 'Kanpur', 'Allahabad', 'Kannuaj', \n",
    "                   'Jaunpur', 'Kanpur', 'Allahabad', 'Aligarh'],  \n",
    "        'Qualification':['Msc', 'MA', 'MCA', 'Phd', \n",
    "                         'B.Tech', 'B.com', 'Msc', 'MA']}  \n",
    "\n",
    "df = pd.DataFrame(data1)\n",
    "print(df,'\\n\\n')\n",
    "\n",
    "df.groupby('Name').groups"
   ]
  },
  {
   "cell_type": "code",
   "execution_count": 3,
   "metadata": {},
   "outputs": [
    {
     "ename": "SyntaxError",
     "evalue": "invalid syntax (<ipython-input-3-ef494513603c>, line 20)",
     "output_type": "error",
     "traceback": [
      "\u001b[1;36m  File \u001b[1;32m\"<ipython-input-3-ef494513603c>\"\u001b[1;36m, line \u001b[1;32m20\u001b[0m\n\u001b[1;33m    for name,group in grp:\u001b[0m\n\u001b[1;37m    ^\u001b[0m\n\u001b[1;31mSyntaxError\u001b[0m\u001b[1;31m:\u001b[0m invalid syntax\n"
     ]
    }
   ],
   "source": [
    "import pandas as pd\n",
    "data1 = {'Name':['Jai', 'Anuj', 'Jai', 'Princi',  \n",
    "                 'Gaurav', 'Anuj', 'Princi', 'Abhi'],  \n",
    "        'Age':[27, 24, 22, 32,  \n",
    "               33, 36, 27, 32],  \n",
    "        'Address':['Nagpur', 'Kanpur', 'Allahabad', 'Kannuaj', \n",
    "                   'Jaunpur', 'Kanpur', 'Allahabad', 'Aligarh'],  \n",
    "        'Qualification':['Msc', 'MA', 'MCA', 'Phd', \n",
    "                         'B.Tech', 'B.com', 'Msc', 'MA']}\n",
    "df = pd.DataFrame(data1)\n",
    "print(df,'\\n\\n')\n",
    "\n",
    "grp = df.groupby('Name')\n",
    "for name, group in grp:\n",
    "    print(name)\n",
    "    print(group)\n",
    "    print(\n",
    "\n",
    "grp = df.groupby(['Name','Qualification'])\n",
    "for name,group in grp:\n",
    "    print(name)\n",
    "    print(group)\n",
    "    print()"
   ]
  },
  {
   "cell_type": "code",
   "execution_count": 15,
   "metadata": {},
   "outputs": [
    {
     "name": "stdout",
     "output_type": "stream",
     "text": [
      "Team\n",
      "Arsenal              5.000000\n",
      "Chelsea              4.750000\n",
      "Manchester United    1.666667\n",
      "Name: Goals, dtype: float64\n"
     ]
    }
   ],
   "source": [
    "import pandas as pd\n",
    "example = {'Team':['Arsenal', 'Manchester United', 'Arsenal', \n",
    "                   'Arsenal', 'Chelsea', 'Manchester United', \n",
    "                   'Manchester United', 'Chelsea', 'Chelsea', 'Chelsea'], \n",
    "                     \n",
    "           'Player':['Ozil', 'Pogba', 'Lucas', 'Aubameyang', \n",
    "                       'Hazard', 'Mata', 'Lukaku', 'Morata',  \n",
    "                                         'Giroud', 'Kante'],                         \n",
    "           'Goals':[5, 3, 6, 4, 9, 2, 0, 5, 2, 3] }\n",
    "\n",
    "df = pd.DataFrame(example)\n",
    "\n",
    "total_goals = df['Goals'].groupby(df['Team'])         #\" ''''''''''''   \"\n",
    "print(total_goals.mean())"
   ]
  },
  {
   "cell_type": "code",
   "execution_count": 16,
   "metadata": {},
   "outputs": [
    {
     "name": "stdout",
     "output_type": "stream",
     "text": [
      "Team\n",
      "Australia       41750.000000\n",
      "England         55680.333333\n",
      "India           51832.666667\n",
      "South Africa    57287.500000\n",
      "Name: Salary, dtype: float64\n"
     ]
    }
   ],
   "source": [
    "import pandas as pd \n",
    "example = {'Team':['Australia', 'England', 'South Africa', \n",
    "                   'Australia', 'England', 'India', 'India', \n",
    "                        'South Africa', 'England', 'India'], \n",
    "                          \n",
    "           'Player':['Ricky Ponting', 'Joe Root', 'Hashim Amla', \n",
    "                     'David Warner', 'Jos Buttler', 'Virat Kohli', \n",
    "                     'Rohit Sharma', 'David Miller', 'Eoin Morgan', \n",
    "                                                 'Dinesh Karthik'],                                            \n",
    "          'Runs':[345, 336, 689, 490, 989, 672, 560, 455, 342, 376], \n",
    "            \n",
    "          'Salary':[34500, 33600, 68900, 49000, 98899, \n",
    "                    67562, 56760, 45675, 34542, 31176] } \n",
    "\n",
    "df = pd.DataFrame(example)\n",
    "total_salary = df['Salary'].groupby(df['Team'])\n",
    "print(total_salary.mean())"
   ]
  },
  {
   "cell_type": "code",
   "execution_count": 26,
   "metadata": {},
   "outputs": [
    {
     "name": "stdout",
     "output_type": "stream",
     "text": [
      "  id  Column 1.1  Column 1.2  Column 1.3  Column 2.1  Column 2.2\n",
      "0  1          14          10           1           1          10\n",
      "1  2          15          10           4           2          10\n",
      "2  3          16          10           5           3          10\n",
      "    Column 1  Column 2\n",
      "id                    \n",
      "1          1         1\n",
      "2          4         2\n",
      "3          5         3\n"
     ]
    }
   ],
   "source": [
    "import pandas as pd\n",
    "d = {'id':['1', '2', '3'], \n",
    "     'Column 1.1':[14, 15, 16], \n",
    "     'Column 1.2':[10, 10, 10], \n",
    "     'Column 1.3':[1, 4, 5], \n",
    "     'Column 2.1':[1, 2, 3], \n",
    "     'Column 2.2':[10, 10, 10], } \n",
    "\n",
    "df = pd.DataFrame(d)\n",
    "print(df)\n",
    "\n",
    "groupby_dict = {'Column 1.1':'Column 1', \n",
    "                'Column 1.2':'Column 1',\n",
    "                'Column 1.3':'Column 1', \n",
    "                'Column 2.1':'Column 2', \n",
    "                'Column 2.2':'Column 2' }\n",
    "df = df.set_index('id')\n",
    "df = df.groupby(groupby_dict, axis=1).min()\n",
    "print(df)"
   ]
  },
  {
   "cell_type": "code",
   "execution_count": 31,
   "metadata": {},
   "outputs": [
    {
     "name": "stdout",
     "output_type": "stream",
     "text": [
      "   ID         Movies  Week_1_Viewers  Week_2_Viewers  Week_3_Viewers\n",
      "0   1  The Godfather              30              60              40\n",
      "1   2     Fight Club              30              40              20\n",
      "2   3     Casablanca              40              80              20\n"
     ]
    },
    {
     "data": {
      "text/html": [
       "<div>\n",
       "<style scoped>\n",
       "    .dataframe tbody tr th:only-of-type {\n",
       "        vertical-align: middle;\n",
       "    }\n",
       "\n",
       "    .dataframe tbody tr th {\n",
       "        vertical-align: top;\n",
       "    }\n",
       "\n",
       "    .dataframe thead th {\n",
       "        text-align: right;\n",
       "    }\n",
       "</style>\n",
       "<table border=\"1\" class=\"dataframe\">\n",
       "  <thead>\n",
       "    <tr style=\"text-align: right;\">\n",
       "      <th></th>\n",
       "      <th>Movies</th>\n",
       "      <th>Total_Viewers</th>\n",
       "    </tr>\n",
       "    <tr>\n",
       "      <th>ID</th>\n",
       "      <th></th>\n",
       "      <th></th>\n",
       "    </tr>\n",
       "  </thead>\n",
       "  <tbody>\n",
       "    <tr>\n",
       "      <th>1</th>\n",
       "      <td>The Godfather</td>\n",
       "      <td>130</td>\n",
       "    </tr>\n",
       "    <tr>\n",
       "      <th>2</th>\n",
       "      <td>Fight Club</td>\n",
       "      <td>90</td>\n",
       "    </tr>\n",
       "    <tr>\n",
       "      <th>3</th>\n",
       "      <td>Casablanca</td>\n",
       "      <td>140</td>\n",
       "    </tr>\n",
       "  </tbody>\n",
       "</table>\n",
       "</div>"
      ],
      "text/plain": [
       "           Movies  Total_Viewers\n",
       "ID                              \n",
       "1   The Godfather            130\n",
       "2      Fight Club             90\n",
       "3      Casablanca            140"
      ]
     },
     "execution_count": 31,
     "metadata": {},
     "output_type": "execute_result"
    }
   ],
   "source": [
    "import pandas as pd\n",
    "dict = { \n",
    "    \"ID\":[1, 2, 3], \n",
    "    \"Movies\":[\"The Godfather\", \"Fight Club\", \"Casablanca\"], \n",
    "    \"Week_1_Viewers\":[30, 30, 40], \n",
    "    \"Week_2_Viewers\":[60, 40, 80], \n",
    "    \"Week_3_Viewers\":[40, 20, 20] }; \n",
    "df = pd.DataFrame(dict)\n",
    "print(df)\n",
    "\n",
    "\n",
    "# Create the groupby_dict  \n",
    "groupby_dict = {\"Week_1_Viewers\":\"Total_Viewers\", \n",
    "           \"Week_2_Viewers\":\"Total_Viewers\", \n",
    "           \"Week_3_Viewers\":\"Total_Viewers\", \n",
    "           \"Movies\":\"Movies\" } \n",
    "df = df.set_index('ID')\n",
    "df = df.groupby(groupby_dict, axis=1).sum()\n",
    "df"
   ]
  },
  {
   "cell_type": "code",
   "execution_count": null,
   "metadata": {},
   "outputs": [],
   "source": []
  }
 ],
 "metadata": {
  "kernelspec": {
   "display_name": "Python 3",
   "language": "python",
   "name": "python3"
  },
  "language_info": {
   "codemirror_mode": {
    "name": "ipython",
    "version": 3
   },
   "file_extension": ".py",
   "mimetype": "text/x-python",
   "name": "python",
   "nbconvert_exporter": "python",
   "pygments_lexer": "ipython3",
   "version": "3.8.5"
  }
 },
 "nbformat": 4,
 "nbformat_minor": 4
}
