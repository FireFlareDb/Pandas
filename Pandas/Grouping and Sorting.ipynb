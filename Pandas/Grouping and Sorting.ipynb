{
 "cells": [
  {
   "cell_type": "code",
   "execution_count": 19,
   "metadata": {},
   "outputs": [
    {
     "name": "stdout",
     "output_type": "stream",
     "text": [
      "pH\n",
      "2.74    1\n",
      "2.86    1\n",
      "2.87    1\n",
      "2.88    2\n",
      "2.89    4\n",
      "       ..\n",
      "3.75    1\n",
      "3.78    2\n",
      "3.85    1\n",
      "3.90    2\n",
      "4.01    2\n",
      "Name: pH, Length: 89, dtype: int64\n",
      "0       3.51\n",
      "1       3.20\n",
      "2       3.26\n",
      "3       3.16\n",
      "4       3.51\n",
      "        ... \n",
      "1594    3.45\n",
      "1595    3.52\n",
      "1596    3.42\n",
      "1597    3.57\n",
      "1598    3.39\n",
      "Name: pH, Length: 1599, dtype: float64\n"
     ]
    }
   ],
   "source": [
    "import pandas as pd\n",
    "data = pd.read_csv(\"winequality-red.csv\")\n",
    "print(data.groupby('pH').pH.count())\n",
    "print(data['pH'])"
   ]
  },
  {
   "cell_type": "code",
   "execution_count": 23,
   "metadata": {},
   "outputs": [
    {
     "name": "stdout",
     "output_type": "stream",
     "text": [
      "density\n",
      "0.99007    2.89\n",
      "0.99020    3.49\n",
      "0.99064    3.26\n",
      "0.99080    3.50\n",
      "0.99084    3.70\n",
      "           ... \n",
      "1.00260    3.12\n",
      "1.00289    3.22\n",
      "1.00315    2.92\n",
      "1.00320    2.95\n",
      "1.00369    3.18\n",
      "Name: pH, Length: 436, dtype: float64\n"
     ]
    }
   ],
   "source": [
    "import pandas as pd\n",
    "data = pd.read_csv(\"winequality-red.csv\")\n",
    "print(data.groupby('density').pH.min())"
   ]
  },
  {
   "cell_type": "code",
   "execution_count": 2,
   "metadata": {},
   "outputs": [
    {
     "name": "stdout",
     "output_type": "stream",
     "text": [
      "quality\n",
      "3    3.25\n",
      "4    3.38\n",
      "5    3.51\n",
      "6    3.16\n",
      "7    3.39\n",
      "8    3.35\n",
      "dtype: float64\n"
     ]
    }
   ],
   "source": [
    "import pandas as pd\n",
    "data = pd.read_csv(\"winequality-red.csv\")\n",
    "print(data.groupby('quality').apply(lambda df: df.pH.iloc[0]))"
   ]
  },
  {
   "cell_type": "code",
   "execution_count": 5,
   "metadata": {},
   "outputs": [
    {
     "name": "stdout",
     "output_type": "stream",
     "text": [
      "      len   min   max\n",
      "pH                   \n",
      "2.74  1.0   9.4   9.4\n",
      "2.86  1.0   8.4   8.4\n",
      "2.87  1.0  10.2  10.2\n",
      "2.88  2.0   9.7   9.8\n",
      "2.89  4.0   9.6  12.7\n",
      "...   ...   ...   ...\n",
      "3.75  1.0  10.5  10.5\n",
      "3.78  2.0  12.3  12.5\n",
      "3.85  1.0  12.9  12.9\n",
      "3.90  2.0  12.8  13.1\n",
      "4.01  2.0  12.5  12.5\n",
      "\n",
      "[89 rows x 3 columns]\n"
     ]
    }
   ],
   "source": [
    "import pandas as pd\n",
    "data = pd.read_csv(\"winequality-red.csv\")\n",
    "print(data.groupby(['pH']).alcohol.agg([len, min, max]))"
   ]
  },
  {
   "cell_type": "code",
   "execution_count": 1,
   "metadata": {},
   "outputs": [
    {
     "data": {
      "text/plain": [
       "pandas.core.indexes.multi.MultiIndex"
      ]
     },
     "execution_count": 1,
     "metadata": {},
     "output_type": "execute_result"
    }
   ],
   "source": [
    "import pandas as pd\n",
    "data = pd.read_csv(\"winequality-red.csv\")\n",
    "dc = data.groupby(['pH','alcohol']).quality.agg([len])\n",
    "mi = dc.index\n",
    "type(mi)\n"
   ]
  },
  {
   "cell_type": "code",
   "execution_count": null,
   "metadata": {},
   "outputs": [],
   "source": []
  },
  {
   "cell_type": "code",
   "execution_count": null,
   "metadata": {},
   "outputs": [],
   "source": []
  }
 ],
 "metadata": {
  "kernelspec": {
   "display_name": "Python 3",
   "language": "python",
   "name": "python3"
  },
  "language_info": {
   "codemirror_mode": {
    "name": "ipython",
    "version": 3
   },
   "file_extension": ".py",
   "mimetype": "text/x-python",
   "name": "python",
   "nbconvert_exporter": "python",
   "pygments_lexer": "ipython3",
   "version": "3.8.5"
  }
 },
 "nbformat": 4,
 "nbformat_minor": 4
}
