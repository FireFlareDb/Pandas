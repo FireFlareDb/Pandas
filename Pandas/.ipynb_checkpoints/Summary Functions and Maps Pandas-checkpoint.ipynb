{
 "cells": [
  {
   "cell_type": "code",
   "execution_count": 16,
   "metadata": {},
   "outputs": [
    {
     "name": "stdout",
     "output_type": "stream",
     "text": [
      "0       3.51\n",
      "1       3.20\n",
      "2       3.26\n",
      "3       3.16\n",
      "4       3.51\n",
      "        ... \n",
      "1594    3.45\n",
      "1595    3.52\n",
      "1596    3.42\n",
      "1597    3.57\n",
      "1598    3.39\n",
      "Name: pH, Length: 1599, dtype: float64\n"
     ]
    }
   ],
   "source": [
    "import pandas as pd\n",
    "data = pd.read_csv(\"winequality-red.csv\")\n",
    "print(data.pH)   # data['pH']"
   ]
  },
  {
   "cell_type": "code",
   "execution_count": 19,
   "metadata": {},
   "outputs": [
    {
     "name": "stdout",
     "output_type": "stream",
     "text": [
      "0    3.51\n",
      "1    3.20\n",
      "2    3.26\n",
      "3    3.16\n",
      "Name: pH, dtype: float64\n"
     ]
    }
   ],
   "source": [
    "import pandas as pd\n",
    "data = pd.read_csv(\"winequality-red.csv\")\n",
    "print(data['pH'][0])"
   ]
  },
  {
   "cell_type": "code",
   "execution_count": 24,
   "metadata": {},
   "outputs": [
    {
     "name": "stdout",
     "output_type": "stream",
     "text": [
      "fixed acidity            7.4000\n",
      "volatile acidity         0.7000\n",
      "citric acid              0.0000\n",
      "residual sugar           1.9000\n",
      "chlorides                0.0760\n",
      "free sulfur dioxide     11.0000\n",
      "total sulfur dioxide    34.0000\n",
      "density                  0.9978\n",
      "pH                       3.5100\n",
      "sulphates                0.5600\n",
      "alcohol                  9.4000\n",
      "quality                  5.0000\n",
      "Name: 0, dtype: float64\n"
     ]
    }
   ],
   "source": [
    "import pandas as pd\n",
    "data = pd.read_csv(\"winequality-red.csv\")\n",
    "print(data.iloc[0])"
   ]
  },
  {
   "cell_type": "code",
   "execution_count": 33,
   "metadata": {},
   "outputs": [
    {
     "name": "stdout",
     "output_type": "stream",
     "text": [
      "0        7.4\n",
      "1        7.8\n",
      "2        7.8\n",
      "3       11.2\n",
      "4        7.4\n",
      "        ... \n",
      "1594     6.2\n",
      "1595     5.9\n",
      "1596     6.3\n",
      "1597     5.9\n",
      "1598     6.0\n",
      "Name: fixed acidity, Length: 1599, dtype: float64\n"
     ]
    }
   ],
   "source": [
    "import pandas as pd\n",
    "data = pd.read_csv(\"winequality-red.csv\")\n",
    "print(data.iloc[:,0])                     # iloc[row,column]"
   ]
  },
  {
   "cell_type": "code",
   "execution_count": 34,
   "metadata": {},
   "outputs": [
    {
     "name": "stdout",
     "output_type": "stream",
     "text": [
      "0    7.4\n",
      "1    7.8\n",
      "2    7.8\n",
      "Name: fixed acidity, dtype: float64\n"
     ]
    }
   ],
   "source": [
    "import pandas as pd\n",
    "data = pd.read_csv(\"winequality-red.csv\")\n",
    "print(data.iloc[:3,0])                   # iloc[row,column]"
   ]
  },
  {
   "cell_type": "code",
   "execution_count": 38,
   "metadata": {},
   "outputs": [
    {
     "name": "stdout",
     "output_type": "stream",
     "text": [
      "      volatile acidity  citric acid\n",
      "0                0.700         0.00\n",
      "1                0.880         0.00\n",
      "2                0.760         0.04\n",
      "3                0.280         0.56\n",
      "4                0.700         0.00\n",
      "...                ...          ...\n",
      "1594             0.600         0.08\n",
      "1595             0.550         0.10\n",
      "1596             0.510         0.13\n",
      "1597             0.645         0.12\n",
      "1598             0.310         0.47\n",
      "\n",
      "[1599 rows x 2 columns]\n"
     ]
    }
   ],
   "source": [
    "import pandas as pd\n",
    "data = pd.read_csv(\"winequality-red.csv\")\n",
    "print(data.iloc[:,1:3])"
   ]
  },
  {
   "cell_type": "code",
   "execution_count": 41,
   "metadata": {},
   "outputs": [
    {
     "name": "stdout",
     "output_type": "stream",
     "text": [
      "1    7.8\n",
      "2    7.8\n",
      "Name: fixed acidity, dtype: float64\n"
     ]
    }
   ],
   "source": [
    "import pandas as pd\n",
    "data = pd.read_csv(\"winequality-red.csv\")\n",
    "print(data.iloc[1:3,0])"
   ]
  },
  {
   "cell_type": "code",
   "execution_count": 40,
   "metadata": {},
   "outputs": [
    {
     "name": "stdout",
     "output_type": "stream",
     "text": [
      "0    7.4\n",
      "1    7.8\n",
      "2    7.8\n",
      "Name: fixed acidity, dtype: float64\n"
     ]
    }
   ],
   "source": [
    "import pandas as pd\n",
    "data = pd.read_csv(\"winequality-red.csv\")\n",
    "print(data.iloc[[0, 1, 2], 0])"
   ]
  },
  {
   "cell_type": "code",
   "execution_count": 43,
   "metadata": {},
   "outputs": [
    {
     "name": "stdout",
     "output_type": "stream",
     "text": [
      "      fixed acidity  volatile acidity  citric acid  residual sugar  chlorides  \\\n",
      "1594            6.2             0.600         0.08             2.0      0.090   \n",
      "1595            5.9             0.550         0.10             2.2      0.062   \n",
      "1596            6.3             0.510         0.13             2.3      0.076   \n",
      "1597            5.9             0.645         0.12             2.0      0.075   \n",
      "1598            6.0             0.310         0.47             3.6      0.067   \n",
      "\n",
      "      free sulfur dioxide  total sulfur dioxide  density    pH  sulphates  \\\n",
      "1594                 32.0                  44.0  0.99490  3.45       0.58   \n",
      "1595                 39.0                  51.0  0.99512  3.52       0.76   \n",
      "1596                 29.0                  40.0  0.99574  3.42       0.75   \n",
      "1597                 32.0                  44.0  0.99547  3.57       0.71   \n",
      "1598                 18.0                  42.0  0.99549  3.39       0.66   \n",
      "\n",
      "      alcohol  quality  \n",
      "1594     10.5        5  \n",
      "1595     11.2        6  \n",
      "1596     11.0        6  \n",
      "1597     10.2        5  \n",
      "1598     11.0        6  \n"
     ]
    }
   ],
   "source": [
    "import pandas as pd\n",
    "data = pd.read_csv(\"winequality-red.csv\")\n",
    "print(data.iloc[-5:])"
   ]
  },
  {
   "cell_type": "code",
   "execution_count": 47,
   "metadata": {},
   "outputs": [
    {
     "name": "stdout",
     "output_type": "stream",
     "text": [
      "3.51\n"
     ]
    }
   ],
   "source": [
    "import pandas as pd\n",
    "data = pd.read_csv(\"winequality-red.csv\")\n",
    "print(data.loc[0,'pH'])"
   ]
  },
  {
   "cell_type": "code",
   "execution_count": 55,
   "metadata": {},
   "outputs": [
    {
     "name": "stdout",
     "output_type": "stream",
     "text": [
      "        pH  alcohol  quality\n",
      "0     3.51      9.4        5\n",
      "1     3.20      9.8        5\n",
      "2     3.26      9.8        5\n",
      "3     3.16      9.8        6\n",
      "4     3.51      9.4        5\n",
      "...    ...      ...      ...\n",
      "1594  3.45     10.5        5\n",
      "1595  3.52     11.2        6\n",
      "1596  3.42     11.0        6\n",
      "1597  3.57     10.2        5\n",
      "1598  3.39     11.0        6\n",
      "\n",
      "[1599 rows x 3 columns]\n"
     ]
    }
   ],
   "source": [
    "import pandas as pd\n",
    "data = pd.read_csv(\"winequality-red.csv\")\n",
    "print(data.loc[:,['pH','alcohol','quality']])"
   ]
  },
  {
   "cell_type": "code",
   "execution_count": 59,
   "metadata": {},
   "outputs": [
    {
     "name": "stdout",
     "output_type": "stream",
     "text": [
      "      fixed acidity  volatile acidity  citric acid  residual sugar  chlorides  \\\n",
      "pH                                                                              \n",
      "3.51            7.4             0.700         0.00             1.9      0.076   \n",
      "3.20            7.8             0.880         0.00             2.6      0.098   \n",
      "3.26            7.8             0.760         0.04             2.3      0.092   \n",
      "3.16           11.2             0.280         0.56             1.9      0.075   \n",
      "3.51            7.4             0.700         0.00             1.9      0.076   \n",
      "...             ...               ...          ...             ...        ...   \n",
      "3.45            6.2             0.600         0.08             2.0      0.090   \n",
      "3.52            5.9             0.550         0.10             2.2      0.062   \n",
      "3.42            6.3             0.510         0.13             2.3      0.076   \n",
      "3.57            5.9             0.645         0.12             2.0      0.075   \n",
      "3.39            6.0             0.310         0.47             3.6      0.067   \n",
      "\n",
      "      free sulfur dioxide  total sulfur dioxide  density  sulphates  alcohol  \\\n",
      "pH                                                                             \n",
      "3.51                 11.0                  34.0  0.99780       0.56      9.4   \n",
      "3.20                 25.0                  67.0  0.99680       0.68      9.8   \n",
      "3.26                 15.0                  54.0  0.99700       0.65      9.8   \n",
      "3.16                 17.0                  60.0  0.99800       0.58      9.8   \n",
      "3.51                 11.0                  34.0  0.99780       0.56      9.4   \n",
      "...                   ...                   ...      ...        ...      ...   \n",
      "3.45                 32.0                  44.0  0.99490       0.58     10.5   \n",
      "3.52                 39.0                  51.0  0.99512       0.76     11.2   \n",
      "3.42                 29.0                  40.0  0.99574       0.75     11.0   \n",
      "3.57                 32.0                  44.0  0.99547       0.71     10.2   \n",
      "3.39                 18.0                  42.0  0.99549       0.66     11.0   \n",
      "\n",
      "      quality  \n",
      "pH             \n",
      "3.51        5  \n",
      "3.20        5  \n",
      "3.26        5  \n",
      "3.16        6  \n",
      "3.51        5  \n",
      "...       ...  \n",
      "3.45        5  \n",
      "3.52        6  \n",
      "3.42        6  \n",
      "3.57        5  \n",
      "3.39        6  \n",
      "\n",
      "[1599 rows x 11 columns]\n"
     ]
    }
   ],
   "source": [
    "import pandas as pd\n",
    "data = pd.read_csv(\"winequality-red.csv\")\n",
    "print(data.set_index(\"pH\"))"
   ]
  },
  {
   "cell_type": "code",
   "execution_count": 60,
   "metadata": {},
   "outputs": [
    {
     "name": "stdout",
     "output_type": "stream",
     "text": [
      "0        True\n",
      "1       False\n",
      "2       False\n",
      "3       False\n",
      "4        True\n",
      "        ...  \n",
      "1594    False\n",
      "1595    False\n",
      "1596    False\n",
      "1597    False\n",
      "1598    False\n",
      "Name: pH, Length: 1599, dtype: bool\n"
     ]
    }
   ],
   "source": [
    "import pandas as pd\n",
    "data = pd.read_csv(\"winequality-red.csv\")\n",
    "print(data.pH==3.51)"
   ]
  },
  {
   "cell_type": "code",
   "execution_count": 65,
   "metadata": {},
   "outputs": [
    {
     "name": "stdout",
     "output_type": "stream",
     "text": [
      "      fixed acidity  volatile acidity  citric acid  residual sugar  chlorides  \\\n",
      "0               7.4             0.700         0.00             1.9      0.076   \n",
      "4               7.4             0.700         0.00             1.9      0.076   \n",
      "5               7.4             0.660         0.00             1.8      0.075   \n",
      "199             6.9             1.090         0.06             2.1      0.061   \n",
      "302             8.3             0.705         0.12             2.6      0.092   \n",
      "755             7.8             0.910         0.07             1.9      0.058   \n",
      "855             7.6             0.735         0.02             2.5      0.071   \n",
      "860             7.2             0.620         0.06             2.7      0.077   \n",
      "863             7.2             0.620         0.06             2.5      0.078   \n",
      "864             7.2             0.620         0.06             2.7      0.077   \n",
      "865             7.2             0.635         0.07             2.6      0.077   \n",
      "1127            6.3             0.760         0.00             2.9      0.072   \n",
      "1503            6.2             0.440         0.39             2.5      0.077   \n",
      "1506            6.8             0.810         0.05             2.0      0.070   \n",
      "1552            6.3             0.680         0.01             3.7      0.103   \n",
      "\n",
      "      free sulfur dioxide  total sulfur dioxide  density    pH  sulphates  \\\n",
      "0                    11.0                  34.0  0.99780  3.51       0.56   \n",
      "4                    11.0                  34.0  0.99780  3.51       0.56   \n",
      "5                    13.0                  40.0  0.99780  3.51       0.56   \n",
      "199                  12.0                  31.0  0.99480  3.51       0.43   \n",
      "302                  12.0                  28.0  0.99940  3.51       0.72   \n",
      "755                  22.0                  47.0  0.99525  3.51       0.43   \n",
      "855                  10.0                  14.0  0.99538  3.51       0.71   \n",
      "860                  15.0                  85.0  0.99746  3.51       0.54   \n",
      "863                  17.0                  84.0  0.99746  3.51       0.53   \n",
      "864                  15.0                  85.0  0.99746  3.51       0.54   \n",
      "865                  16.0                  86.0  0.99748  3.51       0.54   \n",
      "1127                 26.0                  52.0  0.99379  3.51       0.60   \n",
      "1503                  6.0                  14.0  0.99555  3.51       0.69   \n",
      "1506                  6.0                  14.0  0.99562  3.51       0.66   \n",
      "1552                 32.0                  54.0  0.99586  3.51       0.66   \n",
      "\n",
      "      alcohol  quality  \n",
      "0         9.4        5  \n",
      "4         9.4        5  \n",
      "5         9.4        5  \n",
      "199      11.4        4  \n",
      "302      10.0        5  \n",
      "755      10.7        6  \n",
      "855      11.7        7  \n",
      "860       9.5        5  \n",
      "863       9.7        5  \n",
      "864       9.5        5  \n",
      "865       9.7        5  \n",
      "1127     11.5        6  \n",
      "1503     11.0        6  \n",
      "1506     10.8        6  \n",
      "1552     11.3        6  \n"
     ]
    }
   ],
   "source": [
    "import pandas as pd\n",
    "data = pd.read_csv(\"winequality-red.csv\")\n",
    "print(data.loc[data.pH==3.51])"
   ]
  },
  {
   "cell_type": "code",
   "execution_count": 72,
   "metadata": {},
   "outputs": [
    {
     "name": "stdout",
     "output_type": "stream",
     "text": [
      "      fixed acidity  volatile acidity  citric acid  residual sugar  chlorides  \\\n",
      "755             7.8             0.910         0.07             1.9      0.058   \n",
      "855             7.6             0.735         0.02             2.5      0.071   \n",
      "1127            6.3             0.760         0.00             2.9      0.072   \n",
      "1503            6.2             0.440         0.39             2.5      0.077   \n",
      "1506            6.8             0.810         0.05             2.0      0.070   \n",
      "1552            6.3             0.680         0.01             3.7      0.103   \n",
      "\n",
      "      free sulfur dioxide  total sulfur dioxide  density    pH  sulphates  \\\n",
      "755                  22.0                  47.0  0.99525  3.51       0.43   \n",
      "855                  10.0                  14.0  0.99538  3.51       0.71   \n",
      "1127                 26.0                  52.0  0.99379  3.51       0.60   \n",
      "1503                  6.0                  14.0  0.99555  3.51       0.69   \n",
      "1506                  6.0                  14.0  0.99562  3.51       0.66   \n",
      "1552                 32.0                  54.0  0.99586  3.51       0.66   \n",
      "\n",
      "      alcohol  quality  \n",
      "755      10.7        6  \n",
      "855      11.7        7  \n",
      "1127     11.5        6  \n",
      "1503     11.0        6  \n",
      "1506     10.8        6  \n",
      "1552     11.3        6  \n"
     ]
    }
   ],
   "source": [
    "import pandas as pd\n",
    "data = pd.read_csv(\"winequality-red.csv\")\n",
    "print(data.loc[(data.pH==3.51) & (data.quality>=6)])"
   ]
  },
  {
   "cell_type": "code",
   "execution_count": 78,
   "metadata": {},
   "outputs": [
    {
     "name": "stdout",
     "output_type": "stream",
     "text": [
      "      fixed acidity  volatile acidity  citric acid  residual sugar  chlorides  \\\n",
      "0               7.4              0.70         0.00             1.9      0.076   \n",
      "4               7.4              0.70         0.00             1.9      0.076   \n",
      "5               7.4              0.66         0.00             1.8      0.075   \n",
      "18              7.4              0.59         0.08             4.4      0.086   \n",
      "38              5.7              1.13         0.09             1.5      0.172   \n",
      "...             ...               ...          ...             ...        ...   \n",
      "1484            6.8              0.91         0.06             2.0      0.060   \n",
      "1503            6.2              0.44         0.39             2.5      0.077   \n",
      "1506            6.8              0.81         0.05             2.0      0.070   \n",
      "1521            6.9              0.48         0.20             1.9      0.082   \n",
      "1552            6.3              0.68         0.01             3.7      0.103   \n",
      "\n",
      "      free sulfur dioxide  total sulfur dioxide  density    pH  sulphates  \\\n",
      "0                    11.0                  34.0  0.99780  3.51       0.56   \n",
      "4                    11.0                  34.0  0.99780  3.51       0.56   \n",
      "5                    13.0                  40.0  0.99780  3.51       0.56   \n",
      "18                    6.0                  29.0  0.99740  3.38       0.50   \n",
      "38                    7.0                  19.0  0.99400  3.50       0.48   \n",
      "...                   ...                   ...      ...   ...        ...   \n",
      "1484                  4.0                  11.0  0.99592  3.53       0.64   \n",
      "1503                  6.0                  14.0  0.99555  3.51       0.69   \n",
      "1506                  6.0                  14.0  0.99562  3.51       0.66   \n",
      "1521                  9.0                  23.0  0.99585  3.39       0.43   \n",
      "1552                 32.0                  54.0  0.99586  3.51       0.66   \n",
      "\n",
      "      alcohol  quality  \n",
      "0        9.40        5  \n",
      "4        9.40        5  \n",
      "5        9.40        5  \n",
      "18       9.00        4  \n",
      "38       9.80        4  \n",
      "...       ...      ...  \n",
      "1484    10.90        4  \n",
      "1503    11.00        6  \n",
      "1506    10.80        6  \n",
      "1521     9.05        4  \n",
      "1552    11.30        6  \n",
      "\n",
      "[67 rows x 12 columns]\n"
     ]
    }
   ],
   "source": [
    "import pandas as pd\n",
    "data = pd.read_csv(\"winequality-red.csv\")\n",
    "print(data.loc[(data.pH==3.51) | (data.quality==4)])"
   ]
  },
  {
   "cell_type": "code",
   "execution_count": 81,
   "metadata": {},
   "outputs": [
    {
     "name": "stdout",
     "output_type": "stream",
     "text": [
      "      fixed acidity  volatile acidity  citric acid  residual sugar  chlorides  \\\n",
      "0               7.4             0.700         0.00             1.9      0.076   \n",
      "4               7.4             0.700         0.00             1.9      0.076   \n",
      "5               7.4             0.660         0.00             1.8      0.075   \n",
      "21              7.6             0.390         0.31             2.3      0.082   \n",
      "38              5.7             1.130         0.09             1.5      0.172   \n",
      "77              6.8             0.785         0.00             2.4      0.104   \n",
      "184             6.7             0.620         0.21             1.9      0.079   \n",
      "199             6.9             1.090         0.06             2.1      0.061   \n",
      "302             8.3             0.705         0.12             2.6      0.092   \n",
      "421             6.6             0.840         0.03             2.3      0.059   \n",
      "425             6.6             0.840         0.03             2.3      0.059   \n",
      "454             7.0             0.230         0.40             1.6      0.063   \n",
      "615             9.6             0.600         0.50             2.3      0.079   \n",
      "616             9.6             0.600         0.50             2.3      0.079   \n",
      "737             8.2             0.590         0.00             2.5      0.093   \n",
      "745             7.3             0.510         0.18             2.1      0.070   \n",
      "748             7.2             0.500         0.18             2.1      0.071   \n",
      "749             7.3             0.510         0.18             2.1      0.070   \n",
      "755             7.8             0.910         0.07             1.9      0.058   \n",
      "779             7.1             0.520         0.03             2.6      0.076   \n",
      "847             7.4             0.680         0.16             1.8      0.078   \n",
      "855             7.6             0.735         0.02             2.5      0.071   \n",
      "860             7.2             0.620         0.06             2.7      0.077   \n",
      "863             7.2             0.620         0.06             2.5      0.078   \n",
      "864             7.2             0.620         0.06             2.7      0.077   \n",
      "865             7.2             0.635         0.07             2.6      0.077   \n",
      "973             8.5             0.340         0.44             1.7      0.079   \n",
      "1119            5.6             0.660         0.00             2.5      0.066   \n",
      "1127            6.3             0.760         0.00             2.9      0.072   \n",
      "1186            6.6             0.800         0.03             7.8      0.079   \n",
      "1192            7.2             0.250         0.37             2.5      0.063   \n",
      "1195            6.2             0.430         0.22             1.8      0.078   \n",
      "1269            5.5             0.490         0.03             1.8      0.044   \n",
      "1272            5.9             0.460         0.00             1.9      0.077   \n",
      "1299            7.6             1.580         0.00             2.1      0.137   \n",
      "1346            6.1             0.590         0.01             2.1      0.056   \n",
      "1398            7.0             0.600         0.12             2.2      0.083   \n",
      "1410            6.6             0.960         0.00             1.8      0.082   \n",
      "1423            6.4             0.530         0.09             3.9      0.123   \n",
      "1455            6.5             0.900         0.00             1.6      0.052   \n",
      "1467            6.7             1.040         0.08             2.3      0.067   \n",
      "1487            6.0             0.640         0.05             1.9      0.066   \n",
      "1503            6.2             0.440         0.39             2.5      0.077   \n",
      "1506            6.8             0.810         0.05             2.0      0.070   \n",
      "1537            5.4             0.580         0.08             1.9      0.059   \n",
      "1552            6.3             0.680         0.01             3.7      0.103   \n",
      "1595            5.9             0.550         0.10             2.2      0.062   \n",
      "\n",
      "      free sulfur dioxide  total sulfur dioxide  density    pH  sulphates  \\\n",
      "0                    11.0                  34.0  0.99780  3.51       0.56   \n",
      "4                    11.0                  34.0  0.99780  3.51       0.56   \n",
      "5                    13.0                  40.0  0.99780  3.51       0.56   \n",
      "21                   23.0                  71.0  0.99820  3.52       0.65   \n",
      "38                    7.0                  19.0  0.99400  3.50       0.48   \n",
      "77                   14.0                  30.0  0.99660  3.52       0.55   \n",
      "184                   8.0                  62.0  0.99700  3.52       0.58   \n",
      "199                  12.0                  31.0  0.99480  3.51       0.43   \n",
      "302                  12.0                  28.0  0.99940  3.51       0.72   \n",
      "421                  32.0                  48.0  0.99520  3.52       0.56   \n",
      "425                  32.0                  48.0  0.99520  3.52       0.56   \n",
      "454                  21.0                  67.0  0.99520  3.50       0.63   \n",
      "615                  28.0                  71.0  0.99970  3.50       0.57   \n",
      "616                  28.0                  71.0  0.99970  3.50       0.57   \n",
      "737                  19.0                  58.0  1.00020  3.50       0.65   \n",
      "745                  12.0                  28.0  0.99768  3.52       0.73   \n",
      "748                  12.0                  31.0  0.99761  3.52       0.72   \n",
      "749                  12.0                  28.0  0.99768  3.52       0.73   \n",
      "755                  22.0                  47.0  0.99525  3.51       0.43   \n",
      "779                  21.0                  92.0  0.99745  3.50       0.60   \n",
      "847                  12.0                  39.0  0.99770  3.50       0.70   \n",
      "855                  10.0                  14.0  0.99538  3.51       0.71   \n",
      "860                  15.0                  85.0  0.99746  3.51       0.54   \n",
      "863                  17.0                  84.0  0.99746  3.51       0.53   \n",
      "864                  15.0                  85.0  0.99746  3.51       0.54   \n",
      "865                  16.0                  86.0  0.99748  3.51       0.54   \n",
      "973                   6.0                  12.0  0.99605  3.52       0.63   \n",
      "1119                  7.0                  15.0  0.99256  3.52       0.58   \n",
      "1127                 26.0                  52.0  0.99379  3.51       0.60   \n",
      "1186                  6.0                  12.0  0.99630  3.52       0.50   \n",
      "1192                 11.0                  41.0  0.99439  3.52       0.80   \n",
      "1195                 21.0                  56.0  0.99633  3.52       0.60   \n",
      "1269                 28.0                  87.0  0.99080  3.50       0.82   \n",
      "1272                 25.0                  44.0  0.99385  3.50       0.53   \n",
      "1299                  5.0                   9.0  0.99476  3.50       0.40   \n",
      "1346                  5.0                  13.0  0.99472  3.52       0.56   \n",
      "1398                 13.0                  28.0  0.99660  3.52       0.62   \n",
      "1410                  5.0                  16.0  0.99360  3.50       0.44   \n",
      "1423                 14.0                  31.0  0.99680  3.50       0.67   \n",
      "1455                  9.0                  17.0  0.99467  3.50       0.63   \n",
      "1467                 19.0                  32.0  0.99648  3.52       0.57   \n",
      "1487                  9.0                  17.0  0.99496  3.52       0.78   \n",
      "1503                  6.0                  14.0  0.99555  3.51       0.69   \n",
      "1506                  6.0                  14.0  0.99562  3.51       0.66   \n",
      "1537                 20.0                  31.0  0.99484  3.50       0.64   \n",
      "1552                 32.0                  54.0  0.99586  3.51       0.66   \n",
      "1595                 39.0                  51.0  0.99512  3.52       0.76   \n",
      "\n",
      "      alcohol  quality  \n",
      "0         9.4        5  \n",
      "4         9.4        5  \n",
      "5         9.4        5  \n",
      "21        9.7        5  \n",
      "38        9.8        4  \n",
      "77       10.7        6  \n",
      "184       9.3        6  \n",
      "199      11.4        4  \n",
      "302      10.0        5  \n",
      "421      12.3        7  \n",
      "425      12.3        7  \n",
      "454      11.1        5  \n",
      "615       9.7        5  \n",
      "616       9.7        5  \n",
      "737       9.3        6  \n",
      "745       9.5        6  \n",
      "748       9.6        6  \n",
      "749       9.5        6  \n",
      "755      10.7        6  \n",
      "779       9.8        5  \n",
      "847       9.9        6  \n",
      "855      11.7        7  \n",
      "860       9.5        5  \n",
      "863       9.7        5  \n",
      "864       9.5        5  \n",
      "865       9.7        5  \n",
      "973      10.7        5  \n",
      "1119     12.9        5  \n",
      "1127     11.5        6  \n",
      "1186     12.2        5  \n",
      "1192     12.4        7  \n",
      "1195      9.5        6  \n",
      "1269     14.0        8  \n",
      "1272     11.2        5  \n",
      "1299     10.9        3  \n",
      "1346     11.4        5  \n",
      "1398     10.2        7  \n",
      "1410     11.9        6  \n",
      "1423     11.0        4  \n",
      "1455     10.9        6  \n",
      "1467     11.0        4  \n",
      "1487     10.6        5  \n",
      "1503     11.0        6  \n",
      "1506     10.8        6  \n",
      "1537     10.2        6  \n",
      "1552     11.3        6  \n",
      "1595     11.2        6  \n"
     ]
    }
   ],
   "source": [
    "import pandas as pd\n",
    "data = pd.read_csv(\"winequality-red.csv\")\n",
    "print(data.loc[data.pH.isin([3.51,3.52,3.50])])"
   ]
  },
  {
   "cell_type": "code",
   "execution_count": 83,
   "metadata": {},
   "outputs": [
    {
     "name": "stdout",
     "output_type": "stream",
     "text": [
      "      fixed acidity  volatile acidity  citric acid  residual sugar  chlorides  \\\n",
      "0               7.4             0.700         0.00             1.9      0.076   \n",
      "1               7.8             0.880         0.00             2.6      0.098   \n",
      "2               7.8             0.760         0.04             2.3      0.092   \n",
      "3              11.2             0.280         0.56             1.9      0.075   \n",
      "4               7.4             0.700         0.00             1.9      0.076   \n",
      "...             ...               ...          ...             ...        ...   \n",
      "1594            6.2             0.600         0.08             2.0      0.090   \n",
      "1595            5.9             0.550         0.10             2.2      0.062   \n",
      "1596            6.3             0.510         0.13             2.3      0.076   \n",
      "1597            5.9             0.645         0.12             2.0      0.075   \n",
      "1598            6.0             0.310         0.47             3.6      0.067   \n",
      "\n",
      "      free sulfur dioxide  total sulfur dioxide  density    pH  sulphates  \\\n",
      "0                    11.0                  34.0  0.99780  3.51       0.56   \n",
      "1                    25.0                  67.0  0.99680  3.20       0.68   \n",
      "2                    15.0                  54.0  0.99700  3.26       0.65   \n",
      "3                    17.0                  60.0  0.99800  3.16       0.58   \n",
      "4                    11.0                  34.0  0.99780  3.51       0.56   \n",
      "...                   ...                   ...      ...   ...        ...   \n",
      "1594                 32.0                  44.0  0.99490  3.45       0.58   \n",
      "1595                 39.0                  51.0  0.99512  3.52       0.76   \n",
      "1596                 29.0                  40.0  0.99574  3.42       0.75   \n",
      "1597                 32.0                  44.0  0.99547  3.57       0.71   \n",
      "1598                 18.0                  42.0  0.99549  3.39       0.66   \n",
      "\n",
      "      alcohol  quality  \n",
      "0         9.4        5  \n",
      "1         9.8        5  \n",
      "2         9.8        5  \n",
      "3         9.8        6  \n",
      "4         9.4        5  \n",
      "...       ...      ...  \n",
      "1594     10.5        5  \n",
      "1595     11.2        6  \n",
      "1596     11.0        6  \n",
      "1597     10.2        5  \n",
      "1598     11.0        6  \n",
      "\n",
      "[1599 rows x 12 columns]\n"
     ]
    }
   ],
   "source": [
    "import pandas as pd\n",
    "data = pd.read_csv(\"winequality-red.csv\")\n",
    "print(data.loc[data.pH.notnull()])"
   ]
  },
  {
   "cell_type": "code",
   "execution_count": 101,
   "metadata": {},
   "outputs": [
    {
     "data": {
      "text/plain": [
       "0       1599\n",
       "1       1598\n",
       "2       1597\n",
       "3       1596\n",
       "4       1595\n",
       "        ... \n",
       "1594       5\n",
       "1595       4\n",
       "1596       3\n",
       "1597       2\n",
       "1598       1\n",
       "Name: pH, Length: 1599, dtype: int32"
      ]
     },
     "execution_count": 101,
     "metadata": {},
     "output_type": "execute_result"
    }
   ],
   "source": [
    "import pandas as pd\n",
    "data = pd.read_csv(\"winequality-red.csv\")\n",
    "data['pH'] = range(len(data),0,-1)\n",
    "data['pH']"
   ]
  },
  {
   "cell_type": "code",
   "execution_count": null,
   "metadata": {},
   "outputs": [],
   "source": []
  }
 ],
 "metadata": {
  "kernelspec": {
   "display_name": "Python 3",
   "language": "python",
   "name": "python3"
  },
  "language_info": {
   "codemirror_mode": {
    "name": "ipython",
    "version": 3
   },
   "file_extension": ".py",
   "mimetype": "text/x-python",
   "name": "python",
   "nbconvert_exporter": "python",
   "pygments_lexer": "ipython3",
   "version": "3.8.5"
  }
 },
 "nbformat": 4,
 "nbformat_minor": 4
}
