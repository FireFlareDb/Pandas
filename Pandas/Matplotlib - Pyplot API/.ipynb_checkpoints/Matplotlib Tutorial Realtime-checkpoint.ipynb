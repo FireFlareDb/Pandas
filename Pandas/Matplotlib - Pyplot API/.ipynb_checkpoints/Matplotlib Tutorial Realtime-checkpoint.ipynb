{
 "cells": [
  {
   "cell_type": "code",
   "execution_count": null,
   "metadata": {},
   "outputs": [],
   "source": [
    "import random\n",
    "from itertools import count\n",
    "import matplotlib.pyplot as  plt\n",
    "from matplotlib.animation import FuncAnimation\n",
    "\n",
    "plt.style.use('fivethirtyeight')\n",
    "\n",
    "x_valuse = []\n",
    "y_valuse = []\n",
    "\n",
    "index = count()\n",
    "\n",
    "def animate(i):\n",
    "    x_valuse.append(next(index))\n",
    "    y_valuse.append(random.randint(0,5))\n",
    "    plt.cla()\n",
    "    plt.plot(x_valuse, y_valuse)\n",
    "    \n",
    "ani = FuncAnimation(plt.gcf(),animate,1000)\n",
    "\n",
    "\n",
    "plt.tight_layout()\n",
    "plt.show()\n",
    "%matplotlib inline"
   ]
  },
  {
   "cell_type": "code",
   "execution_count": null,
   "metadata": {},
   "outputs": [],
   "source": []
  },
  {
   "cell_type": "code",
   "execution_count": null,
   "metadata": {},
   "outputs": [],
   "source": []
  },
  {
   "cell_type": "markdown",
   "metadata": {},
   "source": [
    "# Attention Please , Below given programs are Special Notice On file name given in first line of program"
   ]
  },
  {
   "cell_type": "code",
   "execution_count": null,
   "metadata": {},
   "outputs": [],
   "source": []
  },
  {
   "cell_type": "markdown",
   "metadata": {},
   "source": [
    "- Now, we will be using an API to get realtime data of Infosys (‘INFY’) and then update a CSV file with that data. And then we will create a Realtime plot of that data\n",
    "- First of all, I have created a script called ‘python_live_plot_data.py’ to create ‘python_live_plot_data.csv’ file"
   ]
  },
  {
   "cell_type": "code",
   "execution_count": null,
   "metadata": {},
   "outputs": [],
   "source": [
    "# python_live_plot_data.py\n",
    "\n",
    "import csv\n",
    "import time\n",
    "import pandas as pd\n",
    "from nsetools import Nse\n",
    "from pprint import pprint\n",
    "from datetime import datetime\n",
    "\n",
    "nse = Nse()\n",
    "\n",
    "while True:\n",
    "    q = nse.get_quote('infy')\n",
    "    now = datetime.now().strftime('%H:%M:%S')\n",
    "    row = [now, q['lastPrice']]\n",
    "    \n",
    "    with open('python_live_plot_data.csv','a') as f:\n",
    "        writer = csv.writer(f)\n",
    "        writer.writerow(row)\n",
    "    time.sleep(1)"
   ]
  },
  {
   "cell_type": "markdown",
   "metadata": {},
   "source": [
    "- In this script I have used nsetools to fetch the live quote price of infosys as q (which is a json) and then I have written the time (using datetime and stftime) and last price in a csv file using csv module\n",
    "\n",
    "So, this script will update the csv file every second.\n",
    "\n",
    "Now, let us use this csv file to create the realtime plot."
   ]
  },
  {
   "cell_type": "code",
   "execution_count": null,
   "metadata": {},
   "outputs": [],
   "source": [
    "%matplotlib inline\n",
    "import random\n",
    "from itertools import count\n",
    "import pandas as pd\n",
    "import matplotlib.pyplot as plt\n",
    "from matplotlib.animation import FuncAnimation\n",
    "\n",
    "plt.style.use('fivethirtyeight')\n",
    "\n",
    "x_values = []\n",
    "y_values = []\n",
    "\n",
    "index = count()\n",
    "\n",
    "def animate():\n",
    "    data = pd.read_csv('python_live_plot_data.csv')\n",
    "    x_values = data['Time']\n",
    "    y_valuse = data['Price']\n",
    "    plt.cla()\n",
    "    plt.plot(x_values, y_values)\n",
    "    plt.title('Infosys')\n",
    "    plt.gcf().autofmt_xdate()\n",
    "    \n",
    "    plt.tight_layout()\n",
    "    \n",
    "ani = FuncAnimation(plt.gcf(), animate, 5000)\n",
    "\n",
    "plt.tight_layout()\n",
    "plt.show()"
   ]
  },
  {
   "cell_type": "code",
   "execution_count": null,
   "metadata": {},
   "outputs": [],
   "source": []
  }
 ],
 "metadata": {
  "kernelspec": {
   "display_name": "Python 3",
   "language": "python",
   "name": "python3"
  },
  "language_info": {
   "codemirror_mode": {
    "name": "ipython",
    "version": 3
   },
   "file_extension": ".py",
   "mimetype": "text/x-python",
   "name": "python",
   "nbconvert_exporter": "python",
   "pygments_lexer": "ipython3",
   "version": "3.8.5"
  }
 },
 "nbformat": 4,
 "nbformat_minor": 4
}
