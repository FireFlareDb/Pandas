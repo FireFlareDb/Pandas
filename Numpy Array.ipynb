{
 "cells": [
  {
   "cell_type": "markdown",
   "metadata": {},
   "source": [
    "# Numpy Array Creation"
   ]
  },
  {
   "cell_type": "code",
   "execution_count": 14,
   "metadata": {},
   "outputs": [
    {
     "name": "stdout",
     "output_type": "stream",
     "text": [
      "[[6422645 7274612]\n",
      " [6619204 6029424]\n",
      " [7012467 6881378]]\n"
     ]
    }
   ],
   "source": [
    "#NumPy.empty\n",
    "'''Syntax : - numpy.empty(shape, dtype = float, order = 'C')'''\n",
    "\n",
    "import numpy as np\n",
    "a = np.empty((3,2), dtype=int, order='F') #The default order is the c-style row-major order. It can be set to F for FORTRAN-style column-major order\n",
    "print(a)"
   ]
  },
  {
   "cell_type": "code",
   "execution_count": 16,
   "metadata": {
    "scrolled": false
   },
   "outputs": [
    {
     "name": "stdout",
     "output_type": "stream",
     "text": [
      "[[0 0]\n",
      " [0 0]\n",
      " [0 0]]\n"
     ]
    }
   ],
   "source": [
    "#NumPy.Zeros\n",
    "import numpy as np\n",
    "a = np.zeros((3,2), dtype=int)\n",
    "print(a)"
   ]
  },
  {
   "cell_type": "code",
   "execution_count": 22,
   "metadata": {
    "scrolled": true
   },
   "outputs": [
    {
     "name": "stdout",
     "output_type": "stream",
     "text": [
      "[[1 1]\n",
      " [1 1]\n",
      " [1 1]]\n"
     ]
    }
   ],
   "source": [
    "#NumPy.Ones\n",
    "import numpy as np\n",
    "a = np.ones((3,2), dtype=int)\n",
    "print(a)"
   ]
  },
  {
   "cell_type": "markdown",
   "metadata": {},
   "source": [
    "***Numpy array from existing data***"
   ]
  },
  {
   "cell_type": "code",
   "execution_count": 30,
   "metadata": {},
   "outputs": [
    {
     "name": "stdout",
     "output_type": "stream",
     "text": [
      "---------------------------------------------------\n",
      "\n",
      "creating numpy array using the list\n",
      "<class 'numpy.ndarray'>\n",
      "[1 2 3 4 5 6]\n",
      "\n",
      "---------------------------------------------------\n",
      "\n",
      "creating a numpy array using Tuple\n",
      "<class 'numpy.ndarray'>\n",
      "[1 2 3 4 5 6]\n",
      "\n",
      "---------------------------------------------------\n",
      "\n",
      "creating a numpy array using more than one list\n",
      "<class 'numpy.ndarray'>\n",
      "[list([1, 2, 3, 4]) list([5, 6])]\n",
      "\n",
      "---------------------------------------------------\n",
      "\n"
     ]
    }
   ],
   "source": [
    "#numpy.asarray\n",
    "'''This routine is used to create an array by using the existing data in the form of lists, or tuples. This routine is useful in the scenario where we need to convert a python sequence into the numpy array object'''\n",
    "\n",
    "import numpy as np\n",
    "l = [1,2,3,4,5,6]\n",
    "t = (1,2,3,4,5,6)\n",
    "arr = [[1,2,3,4],\n",
    "      [5,6]]\n",
    "a = np.asarray(l)\n",
    "b = np.asarray(t)\n",
    "c = np.asarray(arr)\n",
    "print(\"---------------------------------------------------\")\n",
    "print()\n",
    "print('creating numpy array using the list')\n",
    "print(type(a))\n",
    "print(a)\n",
    "print()\n",
    "print(\"---------------------------------------------------\")\n",
    "print()\n",
    "\n",
    "print('creating a numpy array using Tuple')\n",
    "print(type(b))\n",
    "print(b)\n",
    "print()\n",
    "print(\"---------------------------------------------------\")\n",
    "print()\n",
    "\n",
    "print('creating a numpy array using more than one list')\n",
    "print(type(c))\n",
    "print(c)\n",
    "print()\n",
    "print(\"---------------------------------------------------\")\n",
    "print()"
   ]
  },
  {
   "cell_type": "code",
   "execution_count": 36,
   "metadata": {},
   "outputs": [
    {
     "name": "stdout",
     "output_type": "stream",
     "text": [
      "<class 'bytes'>\n",
      "[b'H' b'e' b'l' b'l' b'o' b' ' b'W' b'o' b'r' b'l' b'd']\n",
      "<class 'numpy.ndarray'>\n"
     ]
    }
   ],
   "source": [
    "#numpy.frombuffer\n",
    "'''This function is used to create an array by using the specified buffer. The syntax to use this buffer is given below'''\n",
    "\n",
    "import numpy as np\n",
    "l = b'Hello World'\n",
    "print(type(l))\n",
    "\n",
    "a = np.frombuffer(l, dtype='S1')\n",
    "print(a)\n",
    "print(type(a))"
   ]
  },
  {
   "cell_type": "code",
   "execution_count": 39,
   "metadata": {},
   "outputs": [
    {
     "name": "stdout",
     "output_type": "stream",
     "text": [
      "[1. 2. 3. 4.]\n"
     ]
    }
   ],
   "source": [
    "#numpy.fromiter\n",
    "'''This routine is used to create a ndarray by using an iterable object. It returns a one-dimensional ndarray object'''\n",
    "\n",
    "import numpy as np\n",
    "list = [1,2,3,4]\n",
    "a = np.fromiter(list, dtype=float)\n",
    "print(a)"
   ]
  },
  {
   "cell_type": "markdown",
   "metadata": {},
   "source": [
    "***Numpy Arrays within the numerical range***"
   ]
  },
  {
   "cell_type": "code",
   "execution_count": 51,
   "metadata": {},
   "outputs": [
    {
     "name": "stdout",
     "output_type": "stream",
     "text": [
      "[1. 3. 5. 7. 9.]\n",
      "[ 1  6 11 16 21 26 31 36 41 46 51 56 61 66 71 76 81 86 91 96]\n"
     ]
    }
   ],
   "source": [
    "#Numpy.arrange\n",
    "'''Syntax : - numpy.arrange(start, stop, step, dtype) '''\n",
    "\n",
    "import numpy as np\n",
    "a = np.arange(1,11,2,float)\n",
    "print(a)\n",
    "\n",
    "b = np.arange(1,100,5,int)\n",
    "print(b)"
   ]
  },
  {
   "cell_type": "code",
   "execution_count": 61,
   "metadata": {
    "scrolled": true
   },
   "outputs": [
    {
     "name": "stdout",
     "output_type": "stream",
     "text": [
      "[ 1.    3.25  5.5   7.75 10.  ]\n",
      "\n",
      "[10. 12. 14. 16. 18.]\n"
     ]
    }
   ],
   "source": [
    "#NumPy.linspace\n",
    "'''It is similar to the arrange function. However, it doesn?t allow us to specify the step size in the syntax.\n",
    "Syntax : - numpy.linspace(start, stop, num, endpoint, retstep, dtype)   '''\n",
    "\n",
    "import numpy as np\n",
    "a = np.linspace(1,10,5)\n",
    "print(a)\n",
    "\n",
    "print()\n",
    "\n",
    "arr = np.linspace(10, 20, 5, endpoint = False)  \n",
    "print(arr)"
   ]
  },
  {
   "cell_type": "code",
   "execution_count": 64,
   "metadata": {},
   "outputs": [
    {
     "name": "stdout",
     "output_type": "stream",
     "text": [
      "[1.00000000e+10 3.16227766e+12 1.00000000e+15 3.16227766e+17\n",
      " 1.00000000e+20]\n",
      "\n",
      "[1.02400000e+03 5.79261875e+03 3.27680000e+04 1.85363800e+05\n",
      " 1.04857600e+06]\n"
     ]
    }
   ],
   "source": [
    "#numpy.logspace\n",
    "'''\n",
    "It creates an array by using the numbers that are evenly separated on a log scale.\n",
    "\n",
    "The syntax is given below.\n",
    "numpy.logspace(start, stop, num, endpoint, base, dtype)\n",
    "\n",
    "It accepts the following parameters.\n",
    "\n",
    "- start:    It represents the starting value of the interval in the base.\n",
    "- stop:     It represents the stopping value of the interval in the base.\n",
    "- num:      The number of values between the range.\n",
    "- endpoint: It is a boolean type value. It makes the value represented by stop as the last value of the interval.\n",
    "- base:     It represents the base of the log space.\n",
    "- dtype:    It represents the data type of the array items.\n",
    "'''\n",
    "\n",
    "import numpy as np\n",
    "a = np.logspace(10,20,num=5, endpoint=True)\n",
    "print(a)\n",
    "\n",
    "print()\n",
    "\n",
    "arr = np.logspace(10, 20, num = 5,base = 2, endpoint = True)  \n",
    "print(arr)  "
   ]
  },
  {
   "cell_type": "markdown",
   "metadata": {},
   "source": [
    "    "
   ]
  },
  {
   "cell_type": "code",
   "execution_count": null,
   "metadata": {},
   "outputs": [],
   "source": [
    "                                                    #NumPy Broadcasting"
   ]
  },
  {
   "cell_type": "code",
   "execution_count": 5,
   "metadata": {},
   "outputs": [
    {
     "name": "stdout",
     "output_type": "stream",
     "text": [
      "[ 9 11  4  6  8 10]\n",
      "\n",
      "[ 8 18  3  8 15 24]\n"
     ]
    }
   ],
   "source": [
    "import numpy as np\n",
    "a = np.array([1,2,3,4,5,6])\n",
    "b = np.array([8,9,1,2,3,4])\n",
    "print(a+b)\n",
    "print()\n",
    "print(a*b)"
   ]
  },
  {
   "cell_type": "code",
   "execution_count": 9,
   "metadata": {},
   "outputs": [
    {
     "name": "stdout",
     "output_type": "stream",
     "text": [
      "\n",
      "Array A:\n",
      " [[1 2 3 4]\n",
      " [5 6 7 8]\n",
      " [9 0 1 2]]\n",
      "\n",
      "Array B:\n",
      " [2 4 6 8]\n",
      "\n",
      "Addition Of Array A And B:\n",
      " [[ 2  8 18 32]\n",
      " [10 24 42 64]\n",
      " [18  0  6 16]]\n"
     ]
    }
   ],
   "source": [
    "import numpy as np\n",
    "a = np.array([[1,2,3,4],[5,6,7,8],[9,0,1,2]])\n",
    "b = np.array([2,4,6,8])\n",
    "\n",
    "print(\"\\nArray A:\\n\",a)\n",
    "print(\"\\nArray B:\\n\",b)\n",
    "print(\"\\nAddition Of Array A And B:\\n\",a*b)"
   ]
  },
  {
   "cell_type": "code",
   "execution_count": null,
   "metadata": {},
   "outputs": [],
   "source": []
  },
  {
   "cell_type": "code",
   "execution_count": null,
   "metadata": {},
   "outputs": [],
   "source": [
    "                                            #NumPy Array Iteration"
   ]
  },
  {
   "cell_type": "code",
   "execution_count": 19,
   "metadata": {},
   "outputs": [
    {
     "name": "stdout",
     "output_type": "stream",
     "text": [
      "[[1 2 3 4]\n",
      " [5 6 7 8]\n",
      " [9 0 4 5]]\n",
      "\n",
      "1 2 3 4 5 6 7 8 9 0 4 5 "
     ]
    }
   ],
   "source": [
    "a = np.array([[1,2,3,4],[5,6,7,8],[9,0,4,5]])\n",
    "print(a)\n",
    "\n",
    "print()\n",
    "\n",
    "for i in np.nditer(a):\n",
    "    print(i, end=' ')"
   ]
  },
  {
   "cell_type": "code",
   "execution_count": 49,
   "metadata": {},
   "outputs": [
    {
     "name": "stdout",
     "output_type": "stream",
     "text": [
      "[[1 2 3]\n",
      " [4 5 6]\n",
      " [7 8 9]]\n",
      "3 6 9 12 15 18 21 24 27 "
     ]
    }
   ],
   "source": [
    "#Array Values Modification\n",
    "'''We can not modify the array elements during the iteration since the op-flag associated with the Iterator object is set to readonly.\n",
    "\n",
    "However, we can set this flag to readwrite or write only to modify the array values. Consider the following example'''\n",
    "\n",
    "import numpy as np\n",
    "a = np.array([[1,2,3],[4,5,6],[7,8,9]])\n",
    "print(a)\n",
    "\n",
    "for x in np.nditer(a, op_flags = ['readwrite']):\n",
    "    x[...] = 3 * x\n",
    "    print(x, end=' ')"
   ]
  },
  {
   "cell_type": "code",
   "execution_count": null,
   "metadata": {},
   "outputs": [],
   "source": [
    "    "
   ]
  },
  {
   "cell_type": "code",
   "execution_count": null,
   "metadata": {},
   "outputs": [],
   "source": [
    "                                            #NumPy Bitwise Operators"
   ]
  },
  {
   "cell_type": "code",
   "execution_count": 41,
   "metadata": {},
   "outputs": [
    {
     "name": "stdout",
     "output_type": "stream",
     "text": [
      "Binary Representation Of a: 0b1100\n",
      "Binary Representation Of b: 0b1010\n",
      "Bitwise-and of a and b: 8\n",
      "Bitwise-or of a and b: 14\n"
     ]
    }
   ],
   "source": [
    "import numpy as np\n",
    "a = 12\n",
    "b = 10\n",
    "print(\"Binary Representation Of a:\",bin(a))\n",
    "print(\"Binary Representation Of b:\",bin(b))\n",
    "print(\"Bitwise-and of a and b:\",np.bitwise_and(a,b))\n",
    "print(\"Bitwise-or of a and b:\",np.bitwise_or(a,b))"
   ]
  },
  {
   "cell_type": "code",
   "execution_count": 44,
   "metadata": {},
   "outputs": [
    {
     "name": "stdout",
     "output_type": "stream",
     "text": [
      "Binary Repersentation: 00010100\n",
      "[235]\n",
      "Binary Repersentation: 11101011\n"
     ]
    }
   ],
   "source": [
    "import numpy as np\n",
    "arr = np.array([20],dtype=\"uint8\")\n",
    "print(\"Binary Repersentation:\", np.binary_repr(20,8))\n",
    "print(np.invert(arr))\n",
    "print(\"Binary Repersentation:\", np.binary_repr(235,8))"
   ]
  },
  {
   "cell_type": "code",
   "execution_count": 45,
   "metadata": {},
   "outputs": [
    {
     "name": "stdout",
     "output_type": "stream",
     "text": [
      "Left side of 20 by 3 bits 160\n",
      "Binary Representation of 20 in 8 bits 00010100\n",
      "Binary Representation of 160 in 8 bits 10100000\n"
     ]
    }
   ],
   "source": [
    "import numpy as np\n",
    "print(\"Left side of 20 by 3 bits\",np.left_shift(20,3))\n",
    "print(\"Binary Representation of 20 in 8 bits\",np.binary_repr(20,8))\n",
    "print(\"Binary Representation of 160 in 8 bits\",np.binary_repr(160,8))"
   ]
  },
  {
   "cell_type": "code",
   "execution_count": 46,
   "metadata": {},
   "outputs": [
    {
     "name": "stdout",
     "output_type": "stream",
     "text": [
      "Right side of 20 by 3 bits 2\n",
      "Binary Representation of 160 in 8 bits 00010100\n",
      "Binary Representation of 160 in 8 bits 10100000\n"
     ]
    }
   ],
   "source": [
    "import numpy as np\n",
    "print(\"Right side of 20 by 3 bits\",np.right_shift(20,3))\n",
    "print(\"Binary Representation of 160 in 8 bits\",np.binary_repr(20,8))\n",
    "print(\"Binary Representation of 160 in 8 bits\",np.binary_repr(160,8))"
   ]
  },
  {
   "cell_type": "code",
   "execution_count": null,
   "metadata": {},
   "outputs": [],
   "source": []
  },
  {
   "cell_type": "code",
   "execution_count": null,
   "metadata": {},
   "outputs": [],
   "source": [
    "                                                #NumPy String Functions"
   ]
  },
  {
   "cell_type": "code",
   "execution_count": 69,
   "metadata": {},
   "outputs": [
    {
     "name": "stdout",
     "output_type": "stream",
     "text": [
      "Concatenating Two Array Strings\n",
      "['Welcome To Machine Learning Tutorials' 'Thanks JavaTPoint']\n",
      "\n",
      "Hello Hello Hello \n",
      "\n",
      "*****Javatpoint*****\n",
      "\n",
      "Welcome to javatpoint\n",
      "\n",
      "Welcome To Machine Learning\n",
      "\n",
      "welcome to javatpoint\n",
      "\n",
      "WELCOME TO MACHINE LEARNING\n",
      "\n",
      "['welcome', 'to', 'machine', 'learning']\n",
      "\n",
      "['welcome', 'to', 'machine', 'learning']\n"
     ]
    }
   ],
   "source": [
    "import numpy as np\n",
    "print(\"Concatenating Two Array Strings\")\n",
    "print(np.char.add(['Welcome To ','Thanks '],['Machine Learning Tutorials','JavaTPoint']))\n",
    "print()\n",
    "print(np.char.multiply('Hello ',3))\n",
    "print()\n",
    "print(np.char.center(\"Javatpoint\",20,'*'))\n",
    "print()\n",
    "print(np.char.capitalize(\"welcome to javatpoint\"))\n",
    "print()\n",
    "print(np.char.title(\"welcome to machine learning\"))\n",
    "print()\n",
    "print(np.char.lower(\"WELCOME TO JAVATPOINT\"))\n",
    "print()\n",
    "print(np.char.upper(\"welcome to machine learning\"))\n",
    "print()\n",
    "print(np.char.split(\"welcome to machine learning\",sep=\" \"))\n",
    "print()\n",
    "print(np.char.splitlines(\"welcome\\nto\\nmachine\\nlearning\"))\n"
   ]
  },
  {
   "cell_type": "code",
   "execution_count": 73,
   "metadata": {},
   "outputs": [
    {
     "name": "stdout",
     "output_type": "stream",
     "text": [
      "\n",
      "Original String:     Welcome to javatpoint     \n",
      "\n",
      "Removing the whitelabes, leading and trailing from string\n",
      "\n",
      "Welcome to javatpoint\n"
     ]
    }
   ],
   "source": [
    "import numpy as np\n",
    "str = \"    Welcome to javatpoint     \"\n",
    "print(\"\\nOriginal String:\", str)\n",
    "print()\n",
    "print(\"Removing the whitelabes, leading and trailing from string\\n\")\n",
    "print(np.char.strip(str))"
   ]
  },
  {
   "cell_type": "code",
   "execution_count": 76,
   "metadata": {},
   "outputs": [
    {
     "name": "stdout",
     "output_type": "stream",
     "text": [
      "H:M:d:f\n"
     ]
    }
   ],
   "source": [
    "import numpy as np\n",
    "print(np.char.join(':','HMdf'))"
   ]
  },
  {
   "cell_type": "code",
   "execution_count": 80,
   "metadata": {},
   "outputs": [
    {
     "name": "stdout",
     "output_type": "stream",
     "text": [
      "\n",
      "Original String: welcome tojavatpoint\n",
      "\n",
      "www.javatpoint\n"
     ]
    }
   ],
   "source": [
    "import numpy as np\n",
    "str = \"welcome tojavatpoint\"\n",
    "print(\"\\nOriginal String:\",str)\n",
    "print()\n",
    "print(np.char.replace(str,\"welcome to\",\"www.\"))"
   ]
  },
  {
   "cell_type": "code",
   "execution_count": 82,
   "metadata": {},
   "outputs": [
    {
     "name": "stdout",
     "output_type": "stream",
     "text": [
      "b'\\xd7\\xa8\\xa3\\x88\\x96\\x95@\\xc9\\xa2@\\xc2\\x85\\xa2\\xa3@\\xd7\\x99\\x96\\x87\\x99\\x81\\x94\\x94\\x89\\x95\\x87@\\xd3\\x81\\x95\\x87\\xa4\\x81\\x87\\x85@\\xc6\\x96\\x99@\\xd4\\x81\\x83\\x88\\x89\\x95\\x85@\\xd3\\x85\\x81\\x99\\x95\\x89\\x95\\x87' \n",
      "\n",
      "Python Is Best Programming Language For Machine Learning\n"
     ]
    }
   ],
   "source": [
    "import numpy as np\n",
    "estr = np.char.encode(\"Python Is Best Programming Language For Machine Learning\",\"cp500\")\n",
    "dstr = np.char.decode(estr,\"cp500\")\n",
    "print(estr,\"\\n\")\n",
    "print(dstr)"
   ]
  },
  {
   "cell_type": "code",
   "execution_count": null,
   "metadata": {},
   "outputs": [],
   "source": []
  },
  {
   "cell_type": "code",
   "execution_count": null,
   "metadata": {},
   "outputs": [],
   "source": [
    "                                            #NumPy Mathematical Functions"
   ]
  },
  {
   "cell_type": "code",
   "execution_count": 3,
   "metadata": {},
   "outputs": [
    {
     "name": "stdout",
     "output_type": "stream",
     "text": [
      "\n",
      "The sin value of angles "
     ]
    },
    {
     "ename": "TypeError",
     "evalue": "can't multiply sequence by non-int of type 'float'",
     "output_type": "error",
     "traceback": [
      "\u001b[1;31m---------------------------------------------------------------------------\u001b[0m",
      "\u001b[1;31mTypeError\u001b[0m                                 Traceback (most recent call last)",
      "\u001b[1;32m<ipython-input-3-e55b6e186c7e>\u001b[0m in \u001b[0;36m<module>\u001b[1;34m\u001b[0m\n\u001b[0;32m      2\u001b[0m \u001b[0marr\u001b[0m \u001b[1;33m=\u001b[0m \u001b[1;33m[\u001b[0m\u001b[1;36m0\u001b[0m\u001b[1;33m,\u001b[0m\u001b[1;36m30\u001b[0m\u001b[1;33m,\u001b[0m\u001b[1;36m60\u001b[0m\u001b[1;33m,\u001b[0m\u001b[1;36m120\u001b[0m\u001b[1;33m,\u001b[0m\u001b[1;36m150\u001b[0m\u001b[1;33m,\u001b[0m\u001b[1;36m180\u001b[0m\u001b[1;33m]\u001b[0m\u001b[1;33m\u001b[0m\u001b[1;33m\u001b[0m\u001b[0m\n\u001b[0;32m      3\u001b[0m \u001b[0mprint\u001b[0m\u001b[1;33m(\u001b[0m\u001b[1;34m\"\\nThe sin value of angles\"\u001b[0m\u001b[1;33m,\u001b[0m \u001b[0mend\u001b[0m\u001b[1;33m=\u001b[0m\u001b[1;34m' '\u001b[0m\u001b[1;33m)\u001b[0m\u001b[1;33m\u001b[0m\u001b[1;33m\u001b[0m\u001b[0m\n\u001b[1;32m----> 4\u001b[1;33m \u001b[0mprint\u001b[0m\u001b[1;33m(\u001b[0m\u001b[0mnp\u001b[0m\u001b[1;33m.\u001b[0m\u001b[0msin\u001b[0m\u001b[1;33m(\u001b[0m\u001b[0marr\u001b[0m\u001b[1;33m*\u001b[0m\u001b[0mnp\u001b[0m\u001b[1;33m.\u001b[0m\u001b[0mpi\u001b[0m\u001b[1;33m/\u001b[0m\u001b[1;36m180\u001b[0m\u001b[1;33m)\u001b[0m\u001b[1;33m)\u001b[0m\u001b[1;33m\u001b[0m\u001b[1;33m\u001b[0m\u001b[0m\n\u001b[0m\u001b[0;32m      5\u001b[0m \u001b[0mprint\u001b[0m\u001b[1;33m(\u001b[0m\u001b[1;33m)\u001b[0m\u001b[1;33m\u001b[0m\u001b[1;33m\u001b[0m\u001b[0m\n\u001b[0;32m      6\u001b[0m \u001b[1;33m\u001b[0m\u001b[0m\n",
      "\u001b[1;31mTypeError\u001b[0m: can't multiply sequence by non-int of type 'float'"
     ]
    }
   ],
   "source": [
    "import numpy as np\n",
    "arr = [0,30,60,120,150,180]\n",
    "print(\"\\nThe sin value of angles\", end=' ')\n",
    "print(np.sin(arr*np.pi/180))  \n",
    "print()\n",
    "\n",
    "print(\"\\nThe cos value of angles\", end=' ')\n",
    "print(np.cos(arr*np.pi/180))\n",
    "print()\n",
    "\n",
    "print(\"\\nThe tan value of angles\", end=' ')\n",
    "print(np.tan(arr*np.pi/180))\n",
    "print()"
   ]
  },
  {
   "cell_type": "code",
   "execution_count": 94,
   "metadata": {},
   "outputs": [
    {
     "name": "stdout",
     "output_type": "stream",
     "text": [
      "[ 12.7654      1.234567    6.9876543 468.2      ]\n",
      "\n",
      "Array Round Off: [ 13.   1.   7. 468.]\n",
      "Array Valuse Rounded Off 2 Postion: [ 12.77   1.23   6.99 468.2 ]\n",
      "Array Valuse Rounded Off -1 Postion: [ 10.   0.  10. 470.]\n"
     ]
    }
   ],
   "source": [
    "#Rounding Functions\n",
    "import numpy as np\n",
    "arr =  np.array([12.7654,1.234567,6.9876543,468.2])\n",
    "print(arr)\n",
    "print()\n",
    "print(\"Array Round Off:\",np.around(arr))\n",
    "print(\"Array Valuse Rounded Off 2 Postion:\",np.around(arr,2))\n",
    "print(\"Array Valuse Rounded Off -1 Postion:\",np.around(arr,-1))"
   ]
  },
  {
   "cell_type": "code",
   "execution_count": 95,
   "metadata": {},
   "outputs": [
    {
     "name": "stdout",
     "output_type": "stream",
     "text": [
      "[12. 45.  0.]\n"
     ]
    }
   ],
   "source": [
    "import numpy as np\n",
    "arr = np.array([12.8765423,45.234,0.23467])\n",
    "print(np.floor(arr))"
   ]
  },
  {
   "cell_type": "code",
   "execution_count": 98,
   "metadata": {},
   "outputs": [
    {
     "name": "stdout",
     "output_type": "stream",
     "text": [
      "[13. 59.  8.]\n"
     ]
    }
   ],
   "source": [
    "import numpy as np\n",
    "arr = np.array([12.202,58.679,7.38672])\n",
    "print(np.ceil(arr))"
   ]
  },
  {
   "cell_type": "code",
   "execution_count": 27,
   "metadata": {},
   "outputs": [
    {
     "name": "stdout",
     "output_type": "stream",
     "text": [
      "Printing the sin valuse of different angles\n",
      "[0.        0.5       0.8660254 1.       ]\n",
      "\n",
      "Printing inverse of sin\n",
      "[0.         0.52359878 1.04719755 1.57079633]\n",
      "\n",
      "Printing the values in degrees\n",
      "[ 0. 30. 60. 90.]\n",
      "\n",
      "\n",
      "\n",
      "Printing the values of cos with different angles\n",
      "[1.00000000e+00 8.66025404e-01 5.00000000e-01 6.12323400e-17]\n",
      "\n",
      "Printing inverse of cos\n",
      "[0.         0.52359878 1.04719755 1.57079633]\n",
      "\n",
      "Printing the values in degrees\n",
      "[ 0. 30. 60. 90.]\n",
      "\n",
      "\n",
      "\n",
      "Printing the values of tan with different angles\n",
      "[0.00000000e+00 5.77350269e-01 1.73205081e+00 1.63312394e+16]\n",
      "\n",
      "Printing inverse of tan\n",
      "[0.         0.52359878 1.04719755 1.57079633]\n",
      "\n",
      "Printing the values of tan in degrees\n",
      "[ 0. 30. 60. 90.]\n"
     ]
    }
   ],
   "source": [
    "import numpy as np\n",
    "\n",
    "arr = np.array([0,30,60,90])\n",
    "print(\"Printing the sin valuse of different angles\")\n",
    "sinval = np.sin(arr*np.pi/180)\n",
    "print(sinval)\n",
    "print(\"\\nPrinting inverse of sin\")\n",
    "cosec = np.arcsin(sinval)\n",
    "print(cosec)\n",
    "print(\"\\nPrinting the values in degrees\")\n",
    "print(np.degrees(cosec))\n",
    "\n",
    "print(\"\\n\\n\\nPrinting the values of cos with different angles\")\n",
    "cos = np.cos(arr*np.pi/180)\n",
    "print(cos)\n",
    "print(\"\\nPrinting inverse of cos\")\n",
    "sec = np.arccos(cos)\n",
    "print(sec)\n",
    "print(\"\\nPrinting the values in degrees\")\n",
    "print(np.degrees(sec))\n",
    "\n",
    "print(\"\\n\\n\\nPrinting the values of tan with different angles\")\n",
    "tan = np.tan(arr*np.pi/180)\n",
    "print(tan)\n",
    "print(\"\\nPrinting inverse of tan\")\n",
    "cot = np.arctan(tan)\n",
    "print(cot)\n",
    "print(\"\\nPrinting the values of tan in degrees\")\n",
    "print(np.degrees(cot))"
   ]
  },
  {
   "cell_type": "code",
   "execution_count": null,
   "metadata": {},
   "outputs": [],
   "source": []
  },
  {
   "cell_type": "code",
   "execution_count": null,
   "metadata": {},
   "outputs": [],
   "source": [
    "                                            #Numpy statistical functions"
   ]
  },
  {
   "cell_type": "code",
   "execution_count": 38,
   "metadata": {},
   "outputs": [
    {
     "name": "stdout",
     "output_type": "stream",
     "text": [
      "The original array:\n",
      "\n",
      "[[ 2 10 20]\n",
      " [80 43 31]\n",
      " [22 43 10]]\n",
      "\n",
      "The minimum element among the array: 2\n",
      "The maximum element among the array: 80\n",
      "\n",
      "The minimum element among the rows of array [ 2 10 10]\n",
      "The maximum element among the rows of array [80 43 31]\n",
      "\n",
      "The minimum element among the columns of array [ 2 31 10]\n",
      "The maximum element among the columns of array [20 80 43]\n"
     ]
    }
   ],
   "source": [
    "import numpy as np  \n",
    "  \n",
    "a = np.array([[2,10,20],[80,43,31],[22,43,10]])  \n",
    "  \n",
    "print(\"The original array:\\n\")  \n",
    "print(a)  \n",
    "  \n",
    "  \n",
    "print(\"\\nThe minimum element among the array:\",np.amin(a))  \n",
    "print(\"The maximum element among the array:\",np.amax(a))  \n",
    "  \n",
    "print(\"\\nThe minimum element among the rows of array\",np.amin(a,0))  \n",
    "print(\"The maximum element among the rows of array\",np.amax(a,0))  \n",
    "  \n",
    "print(\"\\nThe minimum element among the columns of array\",np.amin(a,1))  \n",
    "print(\"The maximum element among the columns of array\",np.amax(a,1))  "
   ]
  },
  {
   "cell_type": "code",
   "execution_count": 39,
   "metadata": {},
   "outputs": [
    {
     "name": "stdout",
     "output_type": "stream",
     "text": [
      "Original array:\n",
      " [[ 2 10 20]\n",
      " [80 43 31]\n",
      " [22 43 10]]\n",
      "\n",
      "ptp value along axis 1: [18 49 33]\n",
      "ptp value along axis 0: [78 33 21]\n"
     ]
    }
   ],
   "source": [
    "#numpy.ptp()\n",
    "'''The name of the function numpy.ptp() is derived from the name peak-to-peak. It is used to return the range of values along an axis.'''\n",
    "\n",
    "import numpy as np  \n",
    "  \n",
    "a = np.array([[2,10,20],[80,43,31],[22,43,10]])  \n",
    "  \n",
    "print(\"Original array:\\n\",a)  \n",
    "  \n",
    "print(\"\\nptp value along axis 1:\",np.ptp(a,1))  \n",
    "  \n",
    "print(\"ptp value along axis 0:\",np.ptp(a,0))      "
   ]
  },
  {
   "cell_type": "code",
   "execution_count": 121,
   "metadata": {},
   "outputs": [
    {
     "name": "stdout",
     "output_type": "stream",
     "text": [
      "Array:\n",
      " [[1 2 3]\n",
      " [1 2 3]]\n",
      "\n",
      "Percentile along axis 0 [1. 2. 3.]\n",
      "Percentile along axis 1 [1.2 1.2]\n"
     ]
    }
   ],
   "source": [
    "import numpy as np  \n",
    "  \n",
    "a = np.array([[1,2,3],[1,2,3]])  \n",
    "  \n",
    "print(\"Array:\\n\",a)  \n",
    "  \n",
    "print(\"\\nPercentile along axis 0\",np.percentile(a, 10,0))  \n",
    "  \n",
    "print(\"Percentile along axis 1\",np.percentile(a, 10, 1))  "
   ]
  },
  {
   "cell_type": "code",
   "execution_count": 58,
   "metadata": {},
   "outputs": [
    {
     "name": "stdout",
     "output_type": "stream",
     "text": [
      "Array:\n",
      " [[1 2 3]\n",
      " [4 5 6]\n",
      " [7 8 9]]\n",
      "\n",
      "Median of array along axis 0: [4. 5. 6.]\n",
      "Mean of array along axis 0: [4. 5. 6.]\n",
      "Average of array along axis 1: [2. 5. 8.]\n"
     ]
    }
   ],
   "source": [
    "import numpy as np  \n",
    "  \n",
    "a = np.array([[1,2,3],[4,5,6],[7,8,9]])  \n",
    "  \n",
    "print(\"Array:\\n\",a)  \n",
    "  \n",
    "print(\"\\nMedian of array along axis 0:\",np.median(a,0))  \n",
    "print(\"Mean of array along axis 0:\",np.mean(a,0))  \n",
    "print(\"Average of array along axis 1:\",np.average(a,1))  "
   ]
  },
  {
   "cell_type": "code",
   "execution_count": 76,
   "metadata": {},
   "outputs": [
    {
     "name": "stdout",
     "output_type": "stream",
     "text": [
      "[[10  2  3]\n",
      " [ 4  5  6]\n",
      " [ 7  8  9]]\n",
      "\n",
      "Sorting along the columns\n",
      "[[ 2  3 10]\n",
      " [ 4  5  6]\n",
      " [ 7  8  9]]\n",
      "\n",
      "Sorting along the rows\n",
      "[[ 4  2  3]\n",
      " [ 7  5  6]\n",
      " [10  8  9]]\n",
      "\n",
      "Sorting by names\n",
      "[(b'John', 100) (b'Mukesh', 100)]\n"
     ]
    }
   ],
   "source": [
    "import numpy as np  \n",
    "  \n",
    "a = np.array([[10,2,3],[4,5,6],[7,8,9]])  \n",
    "print(a)\n",
    "\n",
    "print(\"\\nSorting along the columns\")\n",
    "print(np.sort(a))\n",
    "\n",
    "print(\"\\nSorting along the rows\")\n",
    "print(np.sort(a,0))\n",
    "\n",
    "print(\"\\nSorting by names\")\n",
    "data_type = np.dtype([('name','S10'),('marks',int)])\n",
    "arr = np.array([('Mukesh',100),('John',100)],dtype=data_type)\n",
    "print(np.sort(arr, order='name'))"
   ]
  },
  {
   "cell_type": "code",
   "execution_count": 93,
   "metadata": {},
   "outputs": [
    {
     "name": "stdout",
     "output_type": "stream",
     "text": [
      "Original Array:\n",
      " [111  22  56  60  38]\n",
      "\n",
      "Printing indices of sorted data\n",
      " [1 4 2 3 0]\n",
      "\n",
      "Printing sorted array\n",
      "22 38 56 60 111 "
     ]
    }
   ],
   "source": [
    "#numpy.argsort()\n",
    "import numpy as np\n",
    "\n",
    "a = np.array([111,22,56,60,38])\n",
    "print(\"Original Array:\\n\", a)\n",
    "\n",
    "print()\n",
    "\n",
    "sort_ind = np.argsort(a)\n",
    "print(\"Printing indices of sorted data\\n\",sort_ind)\n",
    "\n",
    "print()\n",
    "\n",
    "sort_a = a[sort_ind]\n",
    "print(\"Printing sorted array\")\n",
    "\n",
    "for i in sort_ind:\n",
    "    print(a[i],end=\" \")"
   ]
  },
  {
   "cell_type": "code",
   "execution_count": 96,
   "metadata": {},
   "outputs": [
    {
     "name": "stdout",
     "output_type": "stream",
     "text": [
      "Printing indices of sorted data\n",
      " [4 3 2 0 1]\n",
      "Using the indices to sort the array\n",
      "e 3\n",
      "d 35\n",
      "c 65\n",
      "a 123\n",
      "b 345\n"
     ]
    }
   ],
   "source": [
    "#numpy.lexsort() \n",
    "import numpy as np\n",
    "\n",
    "a = np.array(['a','b','c','d','e'])\n",
    "b = np.array([123,345,65,35,3])\n",
    "\n",
    "ind = np.lexsort((a,b))\n",
    "print(\"Printing indices of sorted data\\n\",ind)\n",
    "\n",
    "print(\"Using the indices to sort the array\")\n",
    "for i in ind:\n",
    "    print(a[i],b[i])"
   ]
  },
  {
   "cell_type": "code",
   "execution_count": 106,
   "metadata": {},
   "outputs": [
    {
     "name": "stdout",
     "output_type": "stream",
     "text": [
      "Original Array:\n",
      " [ 1  5 64 84  0  3  0]\n",
      "Printing location of the non-zero elements\n",
      "\n",
      "First Method\n",
      "(array([0, 1, 2, 3, 5], dtype=int64),)\n",
      "Second Method\n",
      "(array([0, 1, 2, 3, 5], dtype=int64),)\n"
     ]
    }
   ],
   "source": [
    "#numpy.nonzero()\n",
    "\n",
    "import numpy as np\n",
    "\n",
    "a = np.array([1,5,64,84,0,3,0])\n",
    "print(\"Original Array:\\n\",a)\n",
    "\n",
    "print(\"Printing location of the non-zero elements\\n\")\n",
    "print(\"First Method\")\n",
    "print(np.nonzero(a))\n",
    "print(\"Second Method\")\n",
    "print(a.nonzero())"
   ]
  },
  {
   "cell_type": "code",
   "execution_count": 120,
   "metadata": {},
   "outputs": [
    {
     "name": "stdout",
     "output_type": "stream",
     "text": [
      "(array([0, 2, 3, 4, 5], dtype=int64),)\n",
      "(array([0, 1, 1, 1], dtype=int64), array([2, 0, 1, 2], dtype=int64))\n"
     ]
    }
   ],
   "source": [
    "#numpy.where()\n",
    "'''This function is used to return the indices of all the elements which satisfies a particular condition.\n",
    "'''\n",
    "\n",
    "import numpy as np\n",
    "\n",
    "a = np.array([4,1,3,8,6,45])\n",
    "print(np.where(a>2))\n",
    "\n",
    "b = np.array([[1,2,3],[4,5,6]])\n",
    "print(np.where(b>2))"
   ]
  },
  {
   "cell_type": "code",
   "execution_count": null,
   "metadata": {},
   "outputs": [],
   "source": []
  },
  {
   "cell_type": "code",
   "execution_count": null,
   "metadata": {},
   "outputs": [],
   "source": [
    "                                            #NumPy Copies and Views"
   ]
  },
  {
   "cell_type": "code",
   "execution_count": 135,
   "metadata": {},
   "outputs": [
    {
     "name": "stdout",
     "output_type": "stream",
     "text": [
      "Original Array:\n",
      " [[12 34 65 34]\n",
      " [43  8  9  7]\n",
      " [98 56 32 87]]\n",
      "\n",
      "Id of array a: 2305083759312\n",
      "\n",
      "Making copy of array a\n",
      "\n",
      "Id of b 2305083759312\n",
      "\n",
      "Changes on b also reflect to a:\n",
      "[[12 34 65]\n",
      " [34 43  8]\n",
      " [ 9  7 98]\n",
      " [56 32 87]]\n"
     ]
    }
   ],
   "source": [
    "import numpy as np\n",
    "a = np.array([[12,34,65,34],[43,8,9,7,],[98,56,32,87]])\n",
    "print(\"Original Array:\\n\",a)\n",
    "\n",
    "print(\"\\nId of array a:\",id(a))\n",
    "\n",
    "b = a\n",
    "\n",
    "print(\"\\nMaking copy of array a\")\n",
    "print(\"\\nId of b\",id(b))\n",
    "\n",
    "b.shape = 4,3\n",
    "\n",
    "print(\"\\nChanges on b also reflect to a:\")\n",
    "print(a)"
   ]
  },
  {
   "cell_type": "code",
   "execution_count": 138,
   "metadata": {},
   "outputs": [
    {
     "name": "stdout",
     "output_type": "stream",
     "text": [
      "Original Array:\n",
      " [[12 34 65 34]\n",
      " [43  8  9  7]\n",
      " [98 56 32 87]]\n",
      "\n",
      "Id of array a: 2305061555776\n",
      "\n",
      "Id of b 2305083562864\n",
      "\n",
      "Printing the view of b\n",
      "[[12 34 65 34]\n",
      " [43  8  9  7]\n",
      " [98 56 32 87]]\n",
      "\n",
      "Changes on b do not reflect to a:\n",
      "\n",
      "Original Array\n",
      " [[12 34 65 34]\n",
      " [43  8  9  7]\n",
      " [98 56 32 87]]\n",
      "\n",
      "View\n",
      " [[12 34 65]\n",
      " [34 43  8]\n",
      " [ 9  7 98]\n",
      " [56 32 87]]\n"
     ]
    }
   ],
   "source": [
    "#ndarray.view()\n",
    "\n",
    "import numpy as np\n",
    "a = np.array([[12,34,65,34],[43,8,9,7,],[98,56,32,87]])\n",
    "print(\"Original Array:\\n\",a)\n",
    "\n",
    "print(\"\\nId of array a:\",id(a))\n",
    "\n",
    "b = a.view()\n",
    "print(\"\\nId of b\",id(b))\n",
    "print(\"\\nPrinting the view of b\")\n",
    "print(b)\n",
    "\n",
    "b.shape = 4,3\n",
    "\n",
    "print(\"\\nChanges on b do not reflect to a:\")\n",
    "print(\"\\nOriginal Array\\n\",a)\n",
    "print(\"\\nView\\n\",b)"
   ]
  },
  {
   "cell_type": "code",
   "execution_count": 139,
   "metadata": {},
   "outputs": [
    {
     "name": "stdout",
     "output_type": "stream",
     "text": [
      "Original Array:\n",
      " [[12 34 65 34]\n",
      " [43  8  9  7]\n",
      " [98 56 32 87]]\n",
      "\n",
      "Id of array a: 2305090691600\n",
      "\n",
      "Id of b 2305083519584\n",
      "\n",
      "Printing the deep copy of b\n",
      "[[12 34 65 34]\n",
      " [43  8  9  7]\n",
      " [98 56 32 87]]\n",
      "\n",
      "Changes on b do not reflect to a:\n",
      "\n",
      "Original Array\n",
      " [[12 34 65 34]\n",
      " [43  8  9  7]\n",
      " [98 56 32 87]]\n",
      "\n",
      "View\n",
      " [[12 34 65]\n",
      " [34 43  8]\n",
      " [ 9  7 98]\n",
      " [56 32 87]]\n"
     ]
    }
   ],
   "source": [
    "#ndarray.copy()\n",
    "\n",
    "import numpy as np\n",
    "a = np.array([[12,34,65,34],[43,8,9,7,],[98,56,32,87]])\n",
    "print(\"Original Array:\\n\",a)\n",
    "\n",
    "print(\"\\nId of array a:\",id(a))\n",
    "\n",
    "b = a.copy()\n",
    "print(\"\\nId of b\",id(b))\n",
    "print(\"\\nPrinting the deep copy of b\")\n",
    "print(b)\n",
    "\n",
    "b.shape = 4,3\n",
    "\n",
    "print(\"\\nChanges on b do not reflect to a:\")\n",
    "print(\"\\nOriginal Array\\n\",a)\n",
    "print(\"\\nView\\n\",b)"
   ]
  },
  {
   "cell_type": "code",
   "execution_count": null,
   "metadata": {},
   "outputs": [],
   "source": [
    "                                                    #NumPy Matrix Library"
   ]
  },
  {
   "cell_type": "code",
   "execution_count": null,
   "metadata": {},
   "outputs": [],
   "source": []
  },
  {
   "cell_type": "code",
   "execution_count": 42,
   "metadata": {},
   "outputs": [
    {
     "name": "stdout",
     "output_type": "stream",
     "text": [
      "[[1. 0. 0.]\n",
      " [0. 1. 0.]\n",
      " [0. 0. 1.]]\n"
     ]
    }
   ],
   "source": [
    "import numpy as np  \n",
    "import numpy.matlib \n",
    "\n",
    "print(np.matlib.empty((3,3)))"
   ]
  },
  {
   "cell_type": "code",
   "execution_count": 23,
   "metadata": {},
   "outputs": [
    {
     "name": "stdout",
     "output_type": "stream",
     "text": [
      "[[0. 0. 0.]\n",
      " [0. 0. 0.]]\n"
     ]
    }
   ],
   "source": [
    "import numpy as np\n",
    "import numpy.matlib\n",
    "\n",
    "print(np.matlib.zeros((2,3)))"
   ]
  },
  {
   "cell_type": "code",
   "execution_count": 25,
   "metadata": {},
   "outputs": [
    {
     "name": "stdout",
     "output_type": "stream",
     "text": [
      "[[1. 1. 1.]\n",
      " [1. 1. 1.]]\n"
     ]
    }
   ],
   "source": [
    "import numpy as np\n",
    "import numpy.matlib\n",
    "\n",
    "print(np.matlib.ones((2,3)))"
   ]
  },
  {
   "cell_type": "code",
   "execution_count": 34,
   "metadata": {},
   "outputs": [
    {
     "name": "stdout",
     "output_type": "stream",
     "text": [
      "[[1 0 0 0 0]\n",
      " [0 1 0 0 0]\n",
      " [0 0 1 0 0]\n",
      " [0 0 0 1 0]\n",
      " [0 0 0 0 1]]\n"
     ]
    }
   ],
   "source": [
    "#numpy.matlib.eye() function :-- This function returns a matrix with the diagonal elements initialized to 1 and zero elsewhere.\n",
    "'''\n",
    "n:     It represents the number of rows in the resulting matrix.\n",
    "M:     It represents the number of columns, defaults to n.\n",
    "k:     It is the index of diagonal.\n",
    "dtype: It is the data type of the output\n",
    "'''\n",
    "\n",
    "import numpy as np\n",
    "import numpy.matlib\n",
    "\n",
    "print(np.matlib.eye(n=5,M=5,k=0,dtype=int))"
   ]
  },
  {
   "cell_type": "code",
   "execution_count": 37,
   "metadata": {},
   "outputs": [
    {
     "name": "stdout",
     "output_type": "stream",
     "text": [
      "[[1 0 0]\n",
      " [0 1 0]\n",
      " [0 0 1]]\n"
     ]
    }
   ],
   "source": [
    "#numpy.matlib.identity() function\n",
    "'''This function is used to return an identity matrix of the given size. \n",
    "An identity matrix is the one with diagonal elements initializes to 1 and all other elements to zero.'''\n",
    "\n",
    "import numpy as np\n",
    "import numpy.matlib\n",
    "\n",
    "print(np.matlib.identity(3,dtype=int))"
   ]
  },
  {
   "cell_type": "code",
   "execution_count": 44,
   "metadata": {},
   "outputs": [
    {
     "name": "stdout",
     "output_type": "stream",
     "text": [
      "[[0.22015935 0.31587108]\n",
      " [0.42869691 0.14678804]\n",
      " [0.7645049  0.85118075]]\n"
     ]
    }
   ],
   "source": [
    "import numpy as np\n",
    "import numpy.matlib\n",
    "\n",
    "print(np.matlib.rand(3,2))"
   ]
  },
  {
   "cell_type": "code",
   "execution_count": null,
   "metadata": {},
   "outputs": [],
   "source": [
    "                                                    #NumPy Linear Algebra"
   ]
  },
  {
   "cell_type": "code",
   "execution_count": null,
   "metadata": {},
   "outputs": [],
   "source": []
  },
  {
   "cell_type": "code",
   "execution_count": 47,
   "metadata": {},
   "outputs": [
    {
     "name": "stdout",
     "output_type": "stream",
     "text": [
      "[[3400 6200]\n",
      " [ 374  712]]\n"
     ]
    }
   ],
   "source": [
    "#numpy.dot() function\n",
    "'''This function is used to return the dot product of the two matrices. It is similar to the matrix multiplication.\n",
    "\n",
    "The dot product is calculated as:   [100 * 10 + 200 * 12, 100 * 20 + 200 * 21] [23*10+12*12, 23*20 + 12*21] \n",
    "'''\n",
    "\n",
    "import numpy as np\n",
    "\n",
    "a = np.array([[100,200],[23,12]])  \n",
    "b = np.array([[10,20],[12,21]])  \n",
    "dot = np.dot(a,b)  \n",
    "print(dot)"
   ]
  },
  {
   "cell_type": "code",
   "execution_count": 48,
   "metadata": {},
   "outputs": [
    {
     "name": "stdout",
     "output_type": "stream",
     "text": [
      "5528\n"
     ]
    }
   ],
   "source": [
    "import numpy as np\n",
    "\n",
    "a = np.array([[100,200],[23,12]])  \n",
    "b = np.array([[10,20],[12,21]])  \n",
    "vdot = np.vdot(a,b)  \n",
    "print(vdot)"
   ]
  },
  {
   "cell_type": "code",
   "execution_count": 50,
   "metadata": {},
   "outputs": [
    {
     "name": "stdout",
     "output_type": "stream",
     "text": [
      "5000\n"
     ]
    }
   ],
   "source": [
    "import numpy as np\n",
    "\n",
    "a = np.array([100,200])  \n",
    "b = np.array([10,20])  \n",
    "inner = np.inner(a,b)  \n",
    "print(inner)"
   ]
  },
  {
   "cell_type": "code",
   "execution_count": 52,
   "metadata": {},
   "outputs": [
    {
     "name": "stdout",
     "output_type": "stream",
     "text": [
      "[[ 48  49  43]\n",
      " [144 145 112]\n",
      " [240 241 181]]\n"
     ]
    }
   ],
   "source": [
    "import numpy as np  \n",
    "\n",
    "a = np.array([[1,2,3],[4,5,6],[7,8,9]])  \n",
    "b = np.array([[23,23,12],[2,1,2],[7,8,9]])  \n",
    "mul = np.matmul(a,b)\n",
    "print(mul)"
   ]
  },
  {
   "cell_type": "code",
   "execution_count": 53,
   "metadata": {},
   "outputs": [
    {
     "name": "stdout",
     "output_type": "stream",
     "text": [
      "-2.0000000000000004\n"
     ]
    }
   ],
   "source": [
    "import numpy as np\n",
    "\n",
    "a = np.array([[1,2],[3,4]])\n",
    "print(np.linalg.det(a))"
   ]
  },
  {
   "cell_type": "code",
   "execution_count": 54,
   "metadata": {},
   "outputs": [
    {
     "name": "stdout",
     "output_type": "stream",
     "text": [
      "[[1. 0.]\n",
      " [0. 1.]]\n"
     ]
    }
   ],
   "source": [
    "import numpy as np\n",
    "\n",
    "a = np.array([[1,2],[3,4]])\n",
    "b = np.array([[1,2],[3,4]])\n",
    "print(np.linalg.solve(a,b))"
   ]
  },
  {
   "cell_type": "code",
   "execution_count": 57,
   "metadata": {},
   "outputs": [
    {
     "name": "stdout",
     "output_type": "stream",
     "text": [
      "\n",
      "Original Array:\n",
      " [[1 2]\n",
      " [3 4]]\n",
      "Inverse:\n",
      " [[-2.   1. ]\n",
      " [ 1.5 -0.5]]\n"
     ]
    }
   ],
   "source": [
    "import numpy as np\n",
    "\n",
    "a = np.array([[1,2],[3,4]])\n",
    "print(\"\\nOriginal Array:\\n\",a)\n",
    "b = np.linalg.inv(a)\n",
    "print(\"Inverse:\\n\",b)"
   ]
  },
  {
   "cell_type": "code",
   "execution_count": null,
   "metadata": {},
   "outputs": [],
   "source": [
    "                                            #NumPy Matrix Multiplication"
   ]
  },
  {
   "cell_type": "code",
   "execution_count": 65,
   "metadata": {},
   "outputs": [
    {
     "name": "stdout",
     "output_type": "stream",
     "text": [
      "[[[ 9 16 21]\n",
      "  [24 25 24]\n",
      "  [21 16  9]]]\n"
     ]
    }
   ],
   "source": [
    "#Element-wise matrix multiplication\n",
    "import numpy as np\n",
    "\n",
    "array1 = np.array([[1,2,3],[4,5,6],[7,8,9]],ndmin=3)\n",
    "array2 = np.array([[9,8,7],[6,5,4],[3,2,1]],ndmin=3)\n",
    "result = np.multiply(array1,array2)\n",
    "print(result)"
   ]
  },
  {
   "cell_type": "code",
   "execution_count": 62,
   "metadata": {},
   "outputs": [
    {
     "name": "stdout",
     "output_type": "stream",
     "text": [
      "[[[ 30  24  18]\n",
      "  [ 84  69  54]\n",
      "  [138 114  90]]]\n"
     ]
    }
   ],
   "source": [
    "#Matrix product\n",
    "import numpy as np  \n",
    "\n",
    "array1=np.array([[1,2,3],[4,5,6],[7,8,9]],ndmin=3)  \n",
    "array2=np.array([[9,8,7],[6,5,4],[3,2,1]],ndmin=3)  \n",
    "result = np.matmul(array1,array2)\n",
    "print(result)"
   ]
  },
  {
   "cell_type": "code",
   "execution_count": 66,
   "metadata": {},
   "outputs": [
    {
     "name": "stdout",
     "output_type": "stream",
     "text": [
      "[[[[ 30  24  18]]\n",
      "\n",
      "  [[ 84  69  54]]\n",
      "\n",
      "  [[138 114  90]]]]\n"
     ]
    }
   ],
   "source": [
    "import numpy as np\n",
    "\n",
    "array1=np.array([[1,2,3],[4,5,6],[7,8,9]],ndmin=3)  \n",
    "array2=np.array([[9,8,7],[6,5,4],[3,2,1]],ndmin=3)  \n",
    "result = np.dot(array1,array2)\n",
    "print(result)"
   ]
  },
  {
   "cell_type": "code",
   "execution_count": null,
   "metadata": {},
   "outputs": [],
   "source": []
  },
  {
   "cell_type": "code",
   "execution_count": null,
   "metadata": {},
   "outputs": [],
   "source": []
  },
  {
   "cell_type": "code",
   "execution_count": null,
   "metadata": {},
   "outputs": [],
   "source": []
  },
  {
   "cell_type": "code",
   "execution_count": null,
   "metadata": {},
   "outputs": [],
   "source": []
  },
  {
   "cell_type": "code",
   "execution_count": null,
   "metadata": {},
   "outputs": [],
   "source": []
  }
 ],
 "metadata": {
  "kernelspec": {
   "display_name": "Python 3",
   "language": "python",
   "name": "python3"
  },
  "language_info": {
   "codemirror_mode": {
    "name": "ipython",
    "version": 3
   },
   "file_extension": ".py",
   "mimetype": "text/x-python",
   "name": "python",
   "nbconvert_exporter": "python",
   "pygments_lexer": "ipython3",
   "version": "3.8.5"
  }
 },
 "nbformat": 4,
 "nbformat_minor": 4
}
