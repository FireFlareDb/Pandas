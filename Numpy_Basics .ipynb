{
 "cells": [
  {
   "cell_type": "code",
   "execution_count": null,
   "metadata": {},
   "outputs": [],
   "source": [
    "#finding the size of each item in the array  \n",
    "import numpy as np \n",
    "a = np.array([[1,2,3]])\n",
    "print(\"Eash item contains\",a.itemsize,\"bytes\")"
   ]
  },
  {
   "cell_type": "code",
   "execution_count": null,
   "metadata": {},
   "outputs": [],
   "source": [
    "#finding the data type of each array item  \n",
    "import numpy as np\n",
    "a = np.array([[111,222,333],\n",
    "             [555,666,777]])\n",
    "print (f\"Every element is {a.dtype} datatype\")"
   ]
  },
  {
   "cell_type": "code",
   "execution_count": null,
   "metadata": {},
   "outputs": [],
   "source": [
    "#Finding the shape and size of the array\n",
    "import numpy as np\n",
    "a = np.array([[1,2,3]])\n",
    "print(\"Array Shape:\",a.shape)\n",
    "print(\"Array size:\",a.size)"
   ]
  },
  {
   "cell_type": "code",
   "execution_count": null,
   "metadata": {},
   "outputs": [],
   "source": [
    "#Reshaping the array objects\n",
    "import numpy as np\n",
    "a = np.array([[1,2],\n",
    "             [3,4],\n",
    "             [5,6]])\n",
    "print(\"Printing The Original Arry...\\n\")\n",
    "print(a)\n",
    "print()\n",
    "\n",
    "a = a.reshape(2,3)\n",
    "print(\"Printing The Reshape Array...\\n\")\n",
    "print(a)"
   ]
  },
  {
   "cell_type": "code",
   "execution_count": null,
   "metadata": {},
   "outputs": [],
   "source": [
    "#Slicing in the Array\n",
    "import numpy as np\n",
    "a = np.array([[1,2,3],\n",
    "     [4,5,6],\n",
    "     [7,8,9]])\n",
    "print(a[0,1])\n",
    "print(a[2,0])\n",
    "print(a[2,2])"
   ]
  },
  {
   "cell_type": "code",
   "execution_count": null,
   "metadata": {},
   "outputs": [],
   "source": [
    "#Linspace\n",
    "import numpy as np\n",
    "a = np.linspace(5,15,10)     #print 10 vaules which are evenly spaced over the given interval\n",
    "print(a)"
   ]
  },
  {
   "cell_type": "code",
   "execution_count": 4,
   "metadata": {},
   "outputs": [
    {
     "name": "stdout",
     "output_type": "stream",
     "text": [
      "[ 1  2  3 10 15  4] \n",
      "\n",
      "The Maximum Element: 15\n",
      "The Minimum Element: 1\n",
      "The Sum Of The Element: 35\n"
     ]
    }
   ],
   "source": [
    "#Finding the maximum, minimum, and sum of the array elements\n",
    "import numpy as np\n",
    "a = np.array([1,2,3,10,15,4])\n",
    "print(a,\"\\n\")\n",
    "print(\"The Maximum Element:\",a.max())\n",
    "print(\"The Minimum Element:\",a.min())\n",
    "print(\"The Sum Of The Element:\",a.sum())"
   ]
  },
  {
   "cell_type": "code",
   "execution_count": null,
   "metadata": {},
   "outputs": [],
   "source": [
    "#NumPy Array Axis\n",
    "'''\n",
    "A NumPy multi-dimensional array is represented by the axis where axis-0 represents the columns and axis-1 represents the rows. We can mention the axis to perform row-level or column-level calculations like the addition of row or column elements.\n",
    "'''\n",
    "\n",
    "import numpy as np\n",
    "a = np.array([[1,2,30],\n",
    "             [10,15,4]])\n",
    "print(\"The Array:\",a)\n",
    "print()\n",
    "print(\"The Maximum Element Of Columns:\",a.max(axis=0))\n",
    "print(\"The Maximum Element Of Rows:\",a.min(axis=1))\n",
    "print(\"The Maximum Element Of Rows:\",a.sum(axis=1))"
   ]
  },
  {
   "cell_type": "code",
   "execution_count": null,
   "metadata": {},
   "outputs": [],
   "source": [
    "#Finding square root and standard deviation\n",
    "import numpy as np\n",
    "a = np.array([[1,2,80],\n",
    "             [4,6,15]])\n",
    "print(np.sqrt(a))\n",
    "print()\n",
    "print(np.std(a))"
   ]
  },
  {
   "cell_type": "code",
   "execution_count": null,
   "metadata": {},
   "outputs": [],
   "source": [
    "#Arithmetic operations on the array\n",
    "import numpy as np\n",
    "a = np.array([[1,2,30],\n",
    "             [10,15,4]])\n",
    "b = np.array([[1,2,3],\n",
    "             [12,9,29]])\n",
    "print(\"Sum of array a and b\\n\",a+b)\n",
    "print()\n",
    "print(\"Product of array a and b\\n\",a*b)\n",
    "print()\n",
    "print(\"Division of array a and b\\n\",a/b)"
   ]
  },
  {
   "cell_type": "code",
   "execution_count": null,
   "metadata": {},
   "outputs": [],
   "source": [
    "#Array Concatenation\n",
    "import numpy as np\n",
    "a = np.array([[1,2,30],\n",
    "             [10,15,4]])\n",
    "b = np.array([[1,2,3],\n",
    "             [12,9,29]])\n",
    "print(\"Arrays vertically concatenated\\n\",np.vstack((a,b)))\n",
    "print()\n",
    "print(\"Arrays horizotally concatenated\\n\",np.hstack((a,b)))"
   ]
  },
  {
   "cell_type": "markdown",
   "metadata": {},
   "source": [
    "![Codeing](C:\\Users\\as808\\Downloads\\do.PNG)\n",
    "#  Hey! 👋 It's Abhishek \n",
    "---\n",
    "\n",
    "## I'm Am\n",
    "\n",
    "  - A Python Programmer\n",
    "  - Cyber Security Enthusiast\n",
    "\n",
    "\n",
    "You can also notice me as:\n",
    "  - Content Creater\n",
    "  - Web Developer \n",
    "  - Ethical Hacker\n",
    "  - A Full On **Tech Savvy** Person\n",
    "\n",
    "\n",
    "\n",
    "## Languages That I Speak And Learning\n",
    "\n",
    "I use a number of programming languages because it's like fun and for work properly:\n",
    "\n",
    "* **C** - Nobody can't ignore it!\n",
    "* **C++** - First Place Where I Learnt OOPs Concept\n",
    "* **Python** - Language that is normally talk and walk **My Bae !!!**\n",
    "* **HTML** - HTML enhanced for web apps!\n",
    "* **CSS** - To put a lot on web plate\n",
    "* **JavaScript** - Mainly need in my both profession\n",
    "* **C#** - Number one in my Bucket \n",
    "* **Bash Scripting** - Bash comes handy when automation needed in on linux tools\n",
    "\n",
    "Yep! But I think i forget **Markdown**. That helps me to create this page. Hmmm No Worries\n",
    "\n",
    "## Tools That I Mainly Use\n",
    "\n",
    "Dillinger is currently extended with the following plugins. Instructions on how to use them in your own application are linked below.\n",
    "\n",
    "| Tools | Why ? |\n",
    "| ------ | ------ |\n",
    "| PyCharm | For Python Projects |\n",
    "| Visual Studio Code | Compatible with many Programming Languages |\n",
    "| Jupyter Lab | Still for Data Science |\n",
    "| Visual Studio 2019 | Only For C# |\n",
    "| Anaconda Navigator | This is bundle of all needed IDLE |\n",
    "| MySQL CLI Client | For Database and Django simple |\n",
    "| NotePad | I think everyone in coding knows that |\n",
    "| VMware | Sometimes needs to switch other OS for testing purpose |"
   ]
  },
  {
   "cell_type": "code",
   "execution_count": null,
   "metadata": {},
   "outputs": [],
   "source": []
  }
 ],
 "metadata": {
  "kernelspec": {
   "display_name": "Python 3",
   "language": "python",
   "name": "python3"
  },
  "language_info": {
   "codemirror_mode": {
    "name": "ipython",
    "version": 3
   },
   "file_extension": ".py",
   "mimetype": "text/x-python",
   "name": "python",
   "nbconvert_exporter": "python",
   "pygments_lexer": "ipython3",
   "version": "3.8.5"
  }
 },
 "nbformat": 4,
 "nbformat_minor": 4
}
