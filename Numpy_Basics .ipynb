{
 "cells": [
  {
   "cell_type": "code",
   "execution_count": null,
   "metadata": {},
   "outputs": [],
   "source": [
    "#finding the size of each item in the array  \n",
    "import numpy as np \n",
    "a = np.array([[1,2,3]])\n",
    "print(\"Eash item contains\",a.itemsize,\"bytes\")"
   ]
  },
  {
   "cell_type": "code",
   "execution_count": null,
   "metadata": {},
   "outputs": [],
   "source": [
    "#finding the data type of each array item  \n",
    "import numpy as np\n",
    "a = np.array([[111,222,333],\n",
    "             [555,666,777]])\n",
    "print (f\"Every element is {a.dtype} datatype\")"
   ]
  },
  {
   "cell_type": "code",
   "execution_count": null,
   "metadata": {},
   "outputs": [],
   "source": [
    "#Finding the shape and size of the array\n",
    "import numpy as np\n",
    "a = np.array([[1,2,3]])\n",
    "print(\"Array Shape:\",a.shape)\n",
    "print(\"Array size:\",a.size)"
   ]
  },
  {
   "cell_type": "code",
   "execution_count": null,
   "metadata": {},
   "outputs": [],
   "source": [
    "#Reshaping the array objects\n",
    "import numpy as np\n",
    "a = np.array([[1,2],\n",
    "             [3,4],\n",
    "             [5,6]])\n",
    "print(\"Printing The Original Arry...\\n\")\n",
    "print(a)\n",
    "print()\n",
    "\n",
    "a = a.reshape(2,3)\n",
    "print(\"Printing The Reshape Array...\\n\")\n",
    "print(a)"
   ]
  },
  {
   "cell_type": "code",
   "execution_count": null,
   "metadata": {},
   "outputs": [],
   "source": [
    "#Slicing in the Array\n",
    "import numpy as np\n",
    "a = np.array([[1,2,3],\n",
    "     [4,5,6],\n",
    "     [7,8,9]])\n",
    "print(a[0,1])\n",
    "print(a[2,0])\n",
    "print(a[2,2])"
   ]
  },
  {
   "cell_type": "code",
   "execution_count": null,
   "metadata": {},
   "outputs": [],
   "source": [
    "#Linspace\n",
    "import numpy as np\n",
    "a = np.linspace(5,15,10)     #print 10 vaules which are evenly spaced over the given interval\n",
    "print(a)"
   ]
  },
  {
   "cell_type": "code",
   "execution_count": 4,
   "metadata": {},
   "outputs": [
    {
     "output_type": "stream",
     "name": "stdout",
     "text": [
      "[ 1  2  3 10 15  4] \n\nThe Maximum Element: 15\nThe Minimum Element: 1\nThe Sum Of The Element: 35\n"
     ]
    }
   ],
   "source": [
    "#Finding the maximum, minimum, and sum of the array elements\n",
    "import numpy as np\n",
    "a = np.array([1,2,3,10,15,4])\n",
    "print(a,\"\\n\")\n",
    "print(\"The Maximum Element:\",a.max())\n",
    "print(\"The Minimum Element:\",a.min())\n",
    "print(\"The Sum Of The Element:\",a.sum())"
   ]
  },
  {
   "cell_type": "code",
   "execution_count": null,
   "metadata": {},
   "outputs": [],
   "source": [
    "#NumPy Array Axis\n",
    "'''\n",
    "A NumPy multi-dimensional array is represented by the axis where axis-0 represents the columns and axis-1 represents the rows. We can mention the axis to perform row-level or column-level calculations like the addition of row or column elements.\n",
    "'''\n",
    "\n",
    "import numpy as np\n",
    "a = np.array([[1,2,30],\n",
    "             [10,15,4]])\n",
    "print(\"The Array:\",a)\n",
    "print()\n",
    "print(\"The Maximum Element Of Columns:\",a.max(axis=0))\n",
    "print(\"The Maximum Element Of Rows:\",a.min(axis=1))\n",
    "print(\"The Maximum Element Of Rows:\",a.sum(axis=1))"
   ]
  },
  {
   "cell_type": "code",
   "execution_count": null,
   "metadata": {},
   "outputs": [],
   "source": [
    "#Finding square root and standard deviation\n",
    "import numpy as np\n",
    "a = np.array([[1,2,80],\n",
    "             [4,6,15]])\n",
    "print(np.sqrt(a))\n",
    "print()\n",
    "print(np.std(a))"
   ]
  },
  {
   "cell_type": "code",
   "execution_count": null,
   "metadata": {},
   "outputs": [],
   "source": [
    "#Arithmetic operations on the array\n",
    "import numpy as np\n",
    "a = np.array([[1,2,30],\n",
    "             [10,15,4]])\n",
    "b = np.array([[1,2,3],\n",
    "             [12,9,29]])\n",
    "print(\"Sum of array a and b\\n\",a+b)\n",
    "print()\n",
    "print(\"Product of array a and b\\n\",a*b)\n",
    "print()\n",
    "print(\"Division of array a and b\\n\",a/b)"
   ]
  },
  {
   "cell_type": "code",
   "execution_count": null,
   "metadata": {},
   "outputs": [],
   "source": [
    "#Array Concatenation\n",
    "import numpy as np\n",
    "a = np.array([[1,2,30],\n",
    "             [10,15,4]])\n",
    "b = np.array([[1,2,3],\n",
    "             [12,9,29]])\n",
    "print(\"Arrays vertically concatenated\\n\",np.vstack((a,b)))\n",
    "print()\n",
    "print(\"Arrays horizotally concatenated\\n\",np.hstack((a,b)))"
   ]
  }
 ],
 "metadata": {
  "kernelspec": {
   "name": "Python 3.8.5 64-bit",
   "display_name": "Python 3.8.5 64-bit",
   "metadata": {
    "interpreter": {
     "hash": "1732eec35657e85c2c00ee78bad33d2bfa3604aa740a8f95512e6d3d126f11b0"
    }
   }
  },
  "language_info": {
   "codemirror_mode": {
    "name": "ipython",
    "version": 3
   },
   "file_extension": ".py",
   "mimetype": "text/x-python",
   "name": "python",
   "nbconvert_exporter": "python",
   "pygments_lexer": "ipython3",
   "version": "3.8.5-final"
  }
 },
 "nbformat": 4,
 "nbformat_minor": 4
}